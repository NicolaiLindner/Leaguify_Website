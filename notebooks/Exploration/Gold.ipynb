{
 "cells": [
  {
   "cell_type": "code",
   "execution_count": 7,
   "id": "initial_id",
   "metadata": {
    "collapsed": true,
    "ExecuteTime": {
     "end_time": "2023-09-21T17:18:27.412638200Z",
     "start_time": "2023-09-21T17:18:27.398707Z"
    }
   },
   "outputs": [],
   "source": [
    "import os\n",
    "from dotenv import load_dotenv\n",
    "import pandas as pd"
   ]
  },
  {
   "cell_type": "code",
   "execution_count": 10,
   "outputs": [],
   "source": [
    "# Load .env file\n",
    "load_dotenv('../../.env.local')  # Adjust the relative path according to your directory structure\n",
    "\n",
    "# Get the project path from environment variables\n",
    "project_path = os.getenv('MY_PROJECT_PATH')\n",
    "\n",
    "# Read CSV into DataFrame\n",
    "df = pd.read_csv(project_path)"
   ],
   "metadata": {
    "collapsed": false,
    "ExecuteTime": {
     "end_time": "2023-09-21T17:23:46.173650Z",
     "start_time": "2023-09-21T17:23:42.492130700Z"
    }
   },
   "id": "48bb9a9d624a568a"
  },
  {
   "cell_type": "code",
   "execution_count": 11,
   "outputs": [
    {
     "data": {
      "text/plain": "   Unnamed: 0  Rank Champion Name Tier  Win rate  Pick Rate  Ban Rate  \\\n0           0     1         Swain    S     53.87       12.0       1.7   \n1           1     1         Swain    S     53.87       12.0       1.7   \n2           2     1         Swain    S     53.87       12.0       1.7   \n3           3     1         Swain    S     53.87       12.0       1.7   \n4           4     1         Swain    S     53.87       12.0       1.7   \n\n   Matches  gameDuration  allInPings  ...  turretTakedowns_y  \\\n0    19216          1711           0  ...                  7   \n1    19216          1987           0  ...                  1   \n2    19216          1495           0  ...                  1   \n3    19216          1528           1  ...                  1   \n4    19216          1155           0  ...                  0   \n\n   turretsTakenWithRiftHerald  twentyMinionsIn3SecondsCount  \\\n0                           0                             4   \n1                           0                             9   \n2                           0                             8   \n3                           5                             6   \n4                           0                             1   \n\n   twoWardsOneSweeperCount  unseenRecalls  visionScoreAdvantageLaneOpponent  \\\n0                        0              0                          0.731238   \n1                        0              0                         -0.407494   \n2                        0              0                         -0.782050   \n3                        0              0                         -0.055465   \n4                        0              0                         -0.218048   \n\n   visionScorePerMinute  wardTakedowns wardTakedownsBefore20M  wardsGuarded  \n0              1.166228              4                      2             1  \n1              0.594141              1                      1             0  \n2              0.388326              1                      0             0  \n3              0.637202              4                      3             0  \n4              1.941728              1                      1             0  \n\n[5 rows x 254 columns]",
      "text/html": "<div>\n<style scoped>\n    .dataframe tbody tr th:only-of-type {\n        vertical-align: middle;\n    }\n\n    .dataframe tbody tr th {\n        vertical-align: top;\n    }\n\n    .dataframe thead th {\n        text-align: right;\n    }\n</style>\n<table border=\"1\" class=\"dataframe\">\n  <thead>\n    <tr style=\"text-align: right;\">\n      <th></th>\n      <th>Unnamed: 0</th>\n      <th>Rank</th>\n      <th>Champion Name</th>\n      <th>Tier</th>\n      <th>Win rate</th>\n      <th>Pick Rate</th>\n      <th>Ban Rate</th>\n      <th>Matches</th>\n      <th>gameDuration</th>\n      <th>allInPings</th>\n      <th>...</th>\n      <th>turretTakedowns_y</th>\n      <th>turretsTakenWithRiftHerald</th>\n      <th>twentyMinionsIn3SecondsCount</th>\n      <th>twoWardsOneSweeperCount</th>\n      <th>unseenRecalls</th>\n      <th>visionScoreAdvantageLaneOpponent</th>\n      <th>visionScorePerMinute</th>\n      <th>wardTakedowns</th>\n      <th>wardTakedownsBefore20M</th>\n      <th>wardsGuarded</th>\n    </tr>\n  </thead>\n  <tbody>\n    <tr>\n      <th>0</th>\n      <td>0</td>\n      <td>1</td>\n      <td>Swain</td>\n      <td>S</td>\n      <td>53.87</td>\n      <td>12.0</td>\n      <td>1.7</td>\n      <td>19216</td>\n      <td>1711</td>\n      <td>0</td>\n      <td>...</td>\n      <td>7</td>\n      <td>0</td>\n      <td>4</td>\n      <td>0</td>\n      <td>0</td>\n      <td>0.731238</td>\n      <td>1.166228</td>\n      <td>4</td>\n      <td>2</td>\n      <td>1</td>\n    </tr>\n    <tr>\n      <th>1</th>\n      <td>1</td>\n      <td>1</td>\n      <td>Swain</td>\n      <td>S</td>\n      <td>53.87</td>\n      <td>12.0</td>\n      <td>1.7</td>\n      <td>19216</td>\n      <td>1987</td>\n      <td>0</td>\n      <td>...</td>\n      <td>1</td>\n      <td>0</td>\n      <td>9</td>\n      <td>0</td>\n      <td>0</td>\n      <td>-0.407494</td>\n      <td>0.594141</td>\n      <td>1</td>\n      <td>1</td>\n      <td>0</td>\n    </tr>\n    <tr>\n      <th>2</th>\n      <td>2</td>\n      <td>1</td>\n      <td>Swain</td>\n      <td>S</td>\n      <td>53.87</td>\n      <td>12.0</td>\n      <td>1.7</td>\n      <td>19216</td>\n      <td>1495</td>\n      <td>0</td>\n      <td>...</td>\n      <td>1</td>\n      <td>0</td>\n      <td>8</td>\n      <td>0</td>\n      <td>0</td>\n      <td>-0.782050</td>\n      <td>0.388326</td>\n      <td>1</td>\n      <td>0</td>\n      <td>0</td>\n    </tr>\n    <tr>\n      <th>3</th>\n      <td>3</td>\n      <td>1</td>\n      <td>Swain</td>\n      <td>S</td>\n      <td>53.87</td>\n      <td>12.0</td>\n      <td>1.7</td>\n      <td>19216</td>\n      <td>1528</td>\n      <td>1</td>\n      <td>...</td>\n      <td>1</td>\n      <td>5</td>\n      <td>6</td>\n      <td>0</td>\n      <td>0</td>\n      <td>-0.055465</td>\n      <td>0.637202</td>\n      <td>4</td>\n      <td>3</td>\n      <td>0</td>\n    </tr>\n    <tr>\n      <th>4</th>\n      <td>4</td>\n      <td>1</td>\n      <td>Swain</td>\n      <td>S</td>\n      <td>53.87</td>\n      <td>12.0</td>\n      <td>1.7</td>\n      <td>19216</td>\n      <td>1155</td>\n      <td>0</td>\n      <td>...</td>\n      <td>0</td>\n      <td>0</td>\n      <td>1</td>\n      <td>0</td>\n      <td>0</td>\n      <td>-0.218048</td>\n      <td>1.941728</td>\n      <td>1</td>\n      <td>1</td>\n      <td>0</td>\n    </tr>\n  </tbody>\n</table>\n<p>5 rows × 254 columns</p>\n</div>"
     },
     "execution_count": 11,
     "metadata": {},
     "output_type": "execute_result"
    }
   ],
   "source": [
    "df.head()"
   ],
   "metadata": {
    "collapsed": false,
    "ExecuteTime": {
     "end_time": "2023-09-21T17:23:49.744180500Z",
     "start_time": "2023-09-21T17:23:49.704832900Z"
    }
   },
   "id": "47cd0023cdd9bc7"
  },
  {
   "cell_type": "code",
   "execution_count": 13,
   "outputs": [
    {
     "name": "stdout",
     "output_type": "stream",
     "text": [
      "['Unnamed: 0', 'Rank', 'Champion Name', 'Tier', 'Win rate', 'Pick Rate', 'Ban Rate', 'Matches', 'gameDuration', 'allInPings', 'assistMePings', 'assists', 'baitPings', 'baronKills', 'bountyLevel', 'champExperience', 'champLevel', 'championId', 'championName', 'championTransform', 'commandPings', 'consumablesPurchased', 'damageDealtToBuildings', 'damageDealtToObjectives', 'damageDealtToTurrets', 'damageSelfMitigated', 'dangerPings', 'deaths', 'detectorWardsPlaced', 'doubleKills', 'dragonKills', 'eligibleForProgression', 'enemyMissingPings', 'enemyVisionPings', 'firstBloodAssist', 'firstBloodKill', 'firstTowerAssist', 'firstTowerKill', 'gameEndedInEarlySurrender', 'gameEndedInSurrender', 'getBackPings', 'goldEarned', 'goldSpent', 'holdPings', 'individualPosition', 'inhibitorKills', 'inhibitorTakedowns', 'inhibitorsLost', 'item0', 'item1', 'item2', 'item3', 'item4', 'item5', 'item6', 'itemsPurchased', 'killingSprees_x', 'kills', 'lane', 'largestCriticalStrike', 'largestKillingSpree', 'largestMultiKill', 'longestTimeSpentLiving', 'magicDamageDealt', 'magicDamageDealtToChampions', 'magicDamageTaken', 'needVisionPings', 'neutralMinionsKilled', 'nexusKills', 'nexusLost', 'nexusTakedowns', 'objectivesStolen', 'objectivesStolenAssists', 'onMyWayPings', 'participantId', 'pentaKills', 'physicalDamageDealt', 'physicalDamageDealtToChampions', 'physicalDamageTaken', 'placement', 'playerAugment0', 'playerAugment1', 'playerAugment2', 'playerAugment3', 'playerAugment4', 'playerSubteamId', 'profileIcon', 'pushPings', 'quadraKills', 'riotIdName', 'riotIdTagLine', 'role', 'sightWardsBoughtInGame', 'spell1Casts', 'spell2Casts', 'spell3Casts', 'spell4Casts', 'subteamPlacement', 'summoner1Casts', 'summoner1Id', 'summoner2Casts', 'summoner2Id', 'summonerId', 'summonerLevel', 'summonerName', 'teamEarlySurrendered', 'teamId', 'teamPosition', 'timeCCingOthers', 'timePlayed', 'totalAllyJungleMinionsKilled', 'totalDamageDealt', 'totalDamageDealtToChampions', 'totalDamageShieldedOnTeammates', 'totalDamageTaken', 'totalEnemyJungleMinionsKilled', 'totalHeal', 'totalHealOnTeammates', 'totalMinionsKilled', 'totalTimeCCDealt', 'totalTimeSpentDead', 'totalUnitsHealed', 'tripleKills', 'trueDamageDealt', 'trueDamageDealtToChampions', 'trueDamageTaken', 'turretKills', 'turretTakedowns_x', 'turretsLost', 'unrealKills', 'visionClearedPings', 'visionScore', 'visionWardsBoughtInGame', 'wardsKilled', 'wardsPlaced', 'win', 'timeCreated_y', 'lastUpdate_y', 'platformId', 'Assist12StreakCount', 'abilityUses', 'acesBefore15Minutes', 'alliedJungleMonsterKills', 'baronBuffGoldAdvantageOverThreshold', 'baronTakedowns', 'blastConeOppositeOpponentCount', 'bountyGold', 'buffsStolen', 'completeSupportQuestOnTime', 'controlWardsPlaced', 'damagePerMinute', 'damageTakenOnTeamPercentage', 'dancedWithRiftHerald', 'deathsByEnemyChamps', 'dodgeSkillShotsSmallWindow', 'doubleAces', 'dragonTakedowns', 'earliestBaron', 'earlyLaningPhaseGoldExpAdvantage', 'effectiveHealAndShielding', 'elderDragonKillsWithOpposingSoul', 'elderDragonMultikills', 'enemyChampionImmobilizations', 'enemyJungleMonsterKills', 'epicMonsterKillsNearEnemyJungler', 'epicMonsterKillsWithin30SecondsOfSpawn', 'epicMonsterSteals', 'epicMonsterStolenWithoutSmite', 'firstTurretKilled', 'flawlessAces', 'fullTeamTakedown', 'gameLength', 'getTakedownsInAllLanesEarlyJungleAsLaner', 'goldPerMinute', 'hadOpenNexus', 'highestCrowdControlScore', 'immobilizeAndKillWithAlly', 'initialBuffCount', 'initialCrabCount', 'jungleCsBefore10Minutes', 'junglerTakedownsNearDamagedEpicMonster', 'kTurretsDestroyedBeforePlatesFall', 'kda', 'killAfterHiddenWithAlly', 'killParticipation', 'killedChampTookFullTeamDamageSurvived', 'killingSprees_y', 'killsNearEnemyTurret', 'killsOnOtherLanesEarlyJungleAsLaner', 'killsOnRecentlyHealedByAramPack', 'killsUnderOwnTurret', 'killsWithHelpFromEpicMonster', 'knockEnemyIntoTeamAndKill', 'landSkillShotsEarlyGame', 'laneMinionsFirst10Minutes', 'laningPhaseGoldExpAdvantage', 'legendaryCount', 'lostAnInhibitor', 'maxCsAdvantageOnLaneOpponent', 'maxKillDeficit', 'maxLevelLeadLaneOpponent', 'mejaisFullStackInTime', 'moreEnemyJungleThanOpponent', 'multiKillOneSpell', 'multiTurretRiftHeraldCount', 'multikills', 'multikillsAfterAggressiveFlash', 'mythicItemUsed', 'outerTurretExecutesBefore10Minutes', 'outnumberedKills', 'outnumberedNexusKill', 'perfectDragonSoulsTaken', 'perfectGame', 'pickKillWithAlly', 'playedChampSelectPosition', 'poroExplosions', 'quickCleanse', 'quickFirstTurret', 'quickSoloKills', 'riftHeraldTakedowns', 'saveAllyFromDeath', 'scuttleCrabKills', 'shortestTimeToAceFromFirstTakedown', 'skillshotsDodged', 'skillshotsHit', 'snowballsHit', 'soloBaronKills', 'soloKills', 'stealthWardsPlaced', 'survivedSingleDigitHpCount', 'survivedThreeImmobilizesInFight', 'takedownOnFirstTurret', 'takedowns', 'takedownsAfterGainingLevelAdvantage', 'takedownsBeforeJungleMinionSpawn', 'takedownsFirstXMinutes', 'takedownsInAlcove', 'takedownsInEnemyFountain', 'teamBaronKills', 'teamDamagePercentage', 'teamElderDragonKills', 'teamRiftHeraldKills', 'tookLargeDamageSurvived', 'turretPlatesTaken', 'turretTakedowns_y', 'turretsTakenWithRiftHerald', 'twentyMinionsIn3SecondsCount', 'twoWardsOneSweeperCount', 'unseenRecalls', 'visionScoreAdvantageLaneOpponent', 'visionScorePerMinute', 'wardTakedowns', 'wardTakedownsBefore20M', 'wardsGuarded']\n"
     ]
    }
   ],
   "source": [
    "column_names = df.columns.tolist()\n",
    "\n",
    "print(column_names)"
   ],
   "metadata": {
    "collapsed": false,
    "ExecuteTime": {
     "end_time": "2023-09-21T17:24:38.819244500Z",
     "start_time": "2023-09-21T17:24:38.816723Z"
    }
   },
   "id": "4519a1f5aa4f7dc7"
  },
  {
   "cell_type": "code",
   "execution_count": 14,
   "outputs": [],
   "source": [
    "# Turning the df into smaller more comprehensible dataframes "
   ],
   "metadata": {
    "collapsed": false,
    "ExecuteTime": {
     "end_time": "2023-09-21T17:27:13.853064Z",
     "start_time": "2023-09-21T17:27:13.840529200Z"
    }
   },
   "id": "27bf94bcf08a3ddb"
  },
  {
   "cell_type": "code",
   "execution_count": 33,
   "outputs": [],
   "source": [
    "df_bas_inf = df[['win', 'gameEndedInEarlySurrender', 'gameEndedInSurrender', 'teamEarlySurrendered', 'placement', 'subteamPlacement']]"
   ],
   "metadata": {
    "collapsed": false,
    "ExecuteTime": {
     "end_time": "2023-09-21T17:36:48.042134300Z",
     "start_time": "2023-09-21T17:36:48.021614800Z"
    }
   },
   "id": "752afa8e96847806"
  },
  {
   "cell_type": "code",
   "execution_count": 34,
   "outputs": [
    {
     "data": {
      "text/plain": "     win  gameEndedInEarlySurrender  gameEndedInSurrender  \\\n0   True                      False                 False   \n1  False                      False                 False   \n2  False                      False                 False   \n3   True                      False                 False   \n4  False                      False                  True   \n\n   teamEarlySurrendered  placement  subteamPlacement  \n0                 False          0                 0  \n1                 False          0                 0  \n2                 False          0                 0  \n3                 False          0                 0  \n4                 False          0                 0  ",
      "text/html": "<div>\n<style scoped>\n    .dataframe tbody tr th:only-of-type {\n        vertical-align: middle;\n    }\n\n    .dataframe tbody tr th {\n        vertical-align: top;\n    }\n\n    .dataframe thead th {\n        text-align: right;\n    }\n</style>\n<table border=\"1\" class=\"dataframe\">\n  <thead>\n    <tr style=\"text-align: right;\">\n      <th></th>\n      <th>win</th>\n      <th>gameEndedInEarlySurrender</th>\n      <th>gameEndedInSurrender</th>\n      <th>teamEarlySurrendered</th>\n      <th>placement</th>\n      <th>subteamPlacement</th>\n    </tr>\n  </thead>\n  <tbody>\n    <tr>\n      <th>0</th>\n      <td>True</td>\n      <td>False</td>\n      <td>False</td>\n      <td>False</td>\n      <td>0</td>\n      <td>0</td>\n    </tr>\n    <tr>\n      <th>1</th>\n      <td>False</td>\n      <td>False</td>\n      <td>False</td>\n      <td>False</td>\n      <td>0</td>\n      <td>0</td>\n    </tr>\n    <tr>\n      <th>2</th>\n      <td>False</td>\n      <td>False</td>\n      <td>False</td>\n      <td>False</td>\n      <td>0</td>\n      <td>0</td>\n    </tr>\n    <tr>\n      <th>3</th>\n      <td>True</td>\n      <td>False</td>\n      <td>False</td>\n      <td>False</td>\n      <td>0</td>\n      <td>0</td>\n    </tr>\n    <tr>\n      <th>4</th>\n      <td>False</td>\n      <td>False</td>\n      <td>True</td>\n      <td>False</td>\n      <td>0</td>\n      <td>0</td>\n    </tr>\n  </tbody>\n</table>\n</div>"
     },
     "execution_count": 34,
     "metadata": {},
     "output_type": "execute_result"
    }
   ],
   "source": [
    "df_bas_inf.head()"
   ],
   "metadata": {
    "collapsed": false,
    "ExecuteTime": {
     "end_time": "2023-09-21T17:37:13.331589300Z",
     "start_time": "2023-09-21T17:37:13.302865600Z"
    }
   },
   "id": "24859df403131309"
  }
 ],
 "metadata": {
  "kernelspec": {
   "display_name": "Python 3",
   "language": "python",
   "name": "python3"
  },
  "language_info": {
   "codemirror_mode": {
    "name": "ipython",
    "version": 2
   },
   "file_extension": ".py",
   "mimetype": "text/x-python",
   "name": "python",
   "nbconvert_exporter": "python",
   "pygments_lexer": "ipython2",
   "version": "2.7.6"
  }
 },
 "nbformat": 4,
 "nbformat_minor": 5
}
