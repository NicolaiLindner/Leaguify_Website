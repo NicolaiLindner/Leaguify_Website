{
 "cells": [
  {
   "cell_type": "code",
   "execution_count": 1,
   "id": "initial_id",
   "metadata": {
    "collapsed": true,
    "ExecuteTime": {
     "end_time": "2023-09-22T17:08:09.238085700Z",
     "start_time": "2023-09-22T17:08:09.225920500Z"
    }
   },
   "outputs": [],
   "source": [
    "import os\n",
    "from dotenv import load_dotenv\n",
    "import pandas as pd"
   ]
  },
  {
   "cell_type": "code",
   "execution_count": 2,
   "outputs": [],
   "source": [
    "# Load .env file\n",
    "load_dotenv('../../.env.local')  # Adjust the relative path according to your directory structure\n",
    "\n",
    "# Get the project path from environment variables\n",
    "project_path = os.getenv('MY_PROJECT_PATH')\n",
    "\n",
    "# Read CSV into DataFrame\n",
    "df = pd.read_csv(project_path)"
   ],
   "metadata": {
    "collapsed": false,
    "ExecuteTime": {
     "end_time": "2023-09-22T17:08:12.053664600Z",
     "start_time": "2023-09-22T17:08:09.232095400Z"
    }
   },
   "id": "48bb9a9d624a568a"
  },
  {
   "cell_type": "code",
   "execution_count": 3,
   "outputs": [
    {
     "data": {
      "text/plain": "   Unnamed: 0  Rank Champion Name Tier  Win rate  Pick Rate  Ban Rate  \\\n0           0     1         Swain    S     53.87       12.0       1.7   \n1           1     1         Swain    S     53.87       12.0       1.7   \n2           2     1         Swain    S     53.87       12.0       1.7   \n3           3     1         Swain    S     53.87       12.0       1.7   \n4           4     1         Swain    S     53.87       12.0       1.7   \n\n   Matches  gameDuration  allInPings  ...  turretTakedowns_y  \\\n0    19216          1711           0  ...                  7   \n1    19216          1987           0  ...                  1   \n2    19216          1495           0  ...                  1   \n3    19216          1528           1  ...                  1   \n4    19216          1155           0  ...                  0   \n\n   turretsTakenWithRiftHerald  twentyMinionsIn3SecondsCount  \\\n0                           0                             4   \n1                           0                             9   \n2                           0                             8   \n3                           5                             6   \n4                           0                             1   \n\n   twoWardsOneSweeperCount  unseenRecalls  visionScoreAdvantageLaneOpponent  \\\n0                        0              0                          0.731238   \n1                        0              0                         -0.407494   \n2                        0              0                         -0.782050   \n3                        0              0                         -0.055465   \n4                        0              0                         -0.218048   \n\n   visionScorePerMinute  wardTakedowns wardTakedownsBefore20M  wardsGuarded  \n0              1.166228              4                      2             1  \n1              0.594141              1                      1             0  \n2              0.388326              1                      0             0  \n3              0.637202              4                      3             0  \n4              1.941728              1                      1             0  \n\n[5 rows x 254 columns]",
      "text/html": "<div>\n<style scoped>\n    .dataframe tbody tr th:only-of-type {\n        vertical-align: middle;\n    }\n\n    .dataframe tbody tr th {\n        vertical-align: top;\n    }\n\n    .dataframe thead th {\n        text-align: right;\n    }\n</style>\n<table border=\"1\" class=\"dataframe\">\n  <thead>\n    <tr style=\"text-align: right;\">\n      <th></th>\n      <th>Unnamed: 0</th>\n      <th>Rank</th>\n      <th>Champion Name</th>\n      <th>Tier</th>\n      <th>Win rate</th>\n      <th>Pick Rate</th>\n      <th>Ban Rate</th>\n      <th>Matches</th>\n      <th>gameDuration</th>\n      <th>allInPings</th>\n      <th>...</th>\n      <th>turretTakedowns_y</th>\n      <th>turretsTakenWithRiftHerald</th>\n      <th>twentyMinionsIn3SecondsCount</th>\n      <th>twoWardsOneSweeperCount</th>\n      <th>unseenRecalls</th>\n      <th>visionScoreAdvantageLaneOpponent</th>\n      <th>visionScorePerMinute</th>\n      <th>wardTakedowns</th>\n      <th>wardTakedownsBefore20M</th>\n      <th>wardsGuarded</th>\n    </tr>\n  </thead>\n  <tbody>\n    <tr>\n      <th>0</th>\n      <td>0</td>\n      <td>1</td>\n      <td>Swain</td>\n      <td>S</td>\n      <td>53.87</td>\n      <td>12.0</td>\n      <td>1.7</td>\n      <td>19216</td>\n      <td>1711</td>\n      <td>0</td>\n      <td>...</td>\n      <td>7</td>\n      <td>0</td>\n      <td>4</td>\n      <td>0</td>\n      <td>0</td>\n      <td>0.731238</td>\n      <td>1.166228</td>\n      <td>4</td>\n      <td>2</td>\n      <td>1</td>\n    </tr>\n    <tr>\n      <th>1</th>\n      <td>1</td>\n      <td>1</td>\n      <td>Swain</td>\n      <td>S</td>\n      <td>53.87</td>\n      <td>12.0</td>\n      <td>1.7</td>\n      <td>19216</td>\n      <td>1987</td>\n      <td>0</td>\n      <td>...</td>\n      <td>1</td>\n      <td>0</td>\n      <td>9</td>\n      <td>0</td>\n      <td>0</td>\n      <td>-0.407494</td>\n      <td>0.594141</td>\n      <td>1</td>\n      <td>1</td>\n      <td>0</td>\n    </tr>\n    <tr>\n      <th>2</th>\n      <td>2</td>\n      <td>1</td>\n      <td>Swain</td>\n      <td>S</td>\n      <td>53.87</td>\n      <td>12.0</td>\n      <td>1.7</td>\n      <td>19216</td>\n      <td>1495</td>\n      <td>0</td>\n      <td>...</td>\n      <td>1</td>\n      <td>0</td>\n      <td>8</td>\n      <td>0</td>\n      <td>0</td>\n      <td>-0.782050</td>\n      <td>0.388326</td>\n      <td>1</td>\n      <td>0</td>\n      <td>0</td>\n    </tr>\n    <tr>\n      <th>3</th>\n      <td>3</td>\n      <td>1</td>\n      <td>Swain</td>\n      <td>S</td>\n      <td>53.87</td>\n      <td>12.0</td>\n      <td>1.7</td>\n      <td>19216</td>\n      <td>1528</td>\n      <td>1</td>\n      <td>...</td>\n      <td>1</td>\n      <td>5</td>\n      <td>6</td>\n      <td>0</td>\n      <td>0</td>\n      <td>-0.055465</td>\n      <td>0.637202</td>\n      <td>4</td>\n      <td>3</td>\n      <td>0</td>\n    </tr>\n    <tr>\n      <th>4</th>\n      <td>4</td>\n      <td>1</td>\n      <td>Swain</td>\n      <td>S</td>\n      <td>53.87</td>\n      <td>12.0</td>\n      <td>1.7</td>\n      <td>19216</td>\n      <td>1155</td>\n      <td>0</td>\n      <td>...</td>\n      <td>0</td>\n      <td>0</td>\n      <td>1</td>\n      <td>0</td>\n      <td>0</td>\n      <td>-0.218048</td>\n      <td>1.941728</td>\n      <td>1</td>\n      <td>1</td>\n      <td>0</td>\n    </tr>\n  </tbody>\n</table>\n<p>5 rows × 254 columns</p>\n</div>"
     },
     "execution_count": 3,
     "metadata": {},
     "output_type": "execute_result"
    }
   ],
   "source": [
    "df.head()"
   ],
   "metadata": {
    "collapsed": false,
    "ExecuteTime": {
     "end_time": "2023-09-22T17:08:12.071203700Z",
     "start_time": "2023-09-22T17:08:12.053664600Z"
    }
   },
   "id": "47cd0023cdd9bc7"
  },
  {
   "cell_type": "code",
   "execution_count": 4,
   "outputs": [
    {
     "name": "stdout",
     "output_type": "stream",
     "text": [
      "['Unnamed: 0', 'Rank', 'Champion Name', 'Tier', 'Win rate', 'Pick Rate', 'Ban Rate', 'Matches', 'gameDuration', 'allInPings', 'assistMePings', 'assists', 'baitPings', 'baronKills', 'bountyLevel', 'champExperience', 'champLevel', 'championId', 'championName', 'championTransform', 'commandPings', 'consumablesPurchased', 'damageDealtToBuildings', 'damageDealtToObjectives', 'damageDealtToTurrets', 'damageSelfMitigated', 'dangerPings', 'deaths', 'detectorWardsPlaced', 'doubleKills', 'dragonKills', 'eligibleForProgression', 'enemyMissingPings', 'enemyVisionPings', 'firstBloodAssist', 'firstBloodKill', 'firstTowerAssist', 'firstTowerKill', 'gameEndedInEarlySurrender', 'gameEndedInSurrender', 'getBackPings', 'goldEarned', 'goldSpent', 'holdPings', 'individualPosition', 'inhibitorKills', 'inhibitorTakedowns', 'inhibitorsLost', 'item0', 'item1', 'item2', 'item3', 'item4', 'item5', 'item6', 'itemsPurchased', 'killingSprees_x', 'kills', 'lane', 'largestCriticalStrike', 'largestKillingSpree', 'largestMultiKill', 'longestTimeSpentLiving', 'magicDamageDealt', 'magicDamageDealtToChampions', 'magicDamageTaken', 'needVisionPings', 'neutralMinionsKilled', 'nexusKills', 'nexusLost', 'nexusTakedowns', 'objectivesStolen', 'objectivesStolenAssists', 'onMyWayPings', 'participantId', 'pentaKills', 'physicalDamageDealt', 'physicalDamageDealtToChampions', 'physicalDamageTaken', 'placement', 'playerAugment0', 'playerAugment1', 'playerAugment2', 'playerAugment3', 'playerAugment4', 'playerSubteamId', 'profileIcon', 'pushPings', 'quadraKills', 'riotIdName', 'riotIdTagLine', 'role', 'sightWardsBoughtInGame', 'spell1Casts', 'spell2Casts', 'spell3Casts', 'spell4Casts', 'subteamPlacement', 'summoner1Casts', 'summoner1Id', 'summoner2Casts', 'summoner2Id', 'summonerId', 'summonerLevel', 'summonerName', 'teamEarlySurrendered', 'teamId', 'teamPosition', 'timeCCingOthers', 'timePlayed', 'totalAllyJungleMinionsKilled', 'totalDamageDealt', 'totalDamageDealtToChampions', 'totalDamageShieldedOnTeammates', 'totalDamageTaken', 'totalEnemyJungleMinionsKilled', 'totalHeal', 'totalHealOnTeammates', 'totalMinionsKilled', 'totalTimeCCDealt', 'totalTimeSpentDead', 'totalUnitsHealed', 'tripleKills', 'trueDamageDealt', 'trueDamageDealtToChampions', 'trueDamageTaken', 'turretKills', 'turretTakedowns_x', 'turretsLost', 'unrealKills', 'visionClearedPings', 'visionScore', 'visionWardsBoughtInGame', 'wardsKilled', 'wardsPlaced', 'win', 'timeCreated_y', 'lastUpdate_y', 'platformId', 'Assist12StreakCount', 'abilityUses', 'acesBefore15Minutes', 'alliedJungleMonsterKills', 'baronBuffGoldAdvantageOverThreshold', 'baronTakedowns', 'blastConeOppositeOpponentCount', 'bountyGold', 'buffsStolen', 'completeSupportQuestOnTime', 'controlWardsPlaced', 'damagePerMinute', 'damageTakenOnTeamPercentage', 'dancedWithRiftHerald', 'deathsByEnemyChamps', 'dodgeSkillShotsSmallWindow', 'doubleAces', 'dragonTakedowns', 'earliestBaron', 'earlyLaningPhaseGoldExpAdvantage', 'effectiveHealAndShielding', 'elderDragonKillsWithOpposingSoul', 'elderDragonMultikills', 'enemyChampionImmobilizations', 'enemyJungleMonsterKills', 'epicMonsterKillsNearEnemyJungler', 'epicMonsterKillsWithin30SecondsOfSpawn', 'epicMonsterSteals', 'epicMonsterStolenWithoutSmite', 'firstTurretKilled', 'flawlessAces', 'fullTeamTakedown', 'gameLength', 'getTakedownsInAllLanesEarlyJungleAsLaner', 'goldPerMinute', 'hadOpenNexus', 'highestCrowdControlScore', 'immobilizeAndKillWithAlly', 'initialBuffCount', 'initialCrabCount', 'jungleCsBefore10Minutes', 'junglerTakedownsNearDamagedEpicMonster', 'kTurretsDestroyedBeforePlatesFall', 'kda', 'killAfterHiddenWithAlly', 'killParticipation', 'killedChampTookFullTeamDamageSurvived', 'killingSprees_y', 'killsNearEnemyTurret', 'killsOnOtherLanesEarlyJungleAsLaner', 'killsOnRecentlyHealedByAramPack', 'killsUnderOwnTurret', 'killsWithHelpFromEpicMonster', 'knockEnemyIntoTeamAndKill', 'landSkillShotsEarlyGame', 'laneMinionsFirst10Minutes', 'laningPhaseGoldExpAdvantage', 'legendaryCount', 'lostAnInhibitor', 'maxCsAdvantageOnLaneOpponent', 'maxKillDeficit', 'maxLevelLeadLaneOpponent', 'mejaisFullStackInTime', 'moreEnemyJungleThanOpponent', 'multiKillOneSpell', 'multiTurretRiftHeraldCount', 'multikills', 'multikillsAfterAggressiveFlash', 'mythicItemUsed', 'outerTurretExecutesBefore10Minutes', 'outnumberedKills', 'outnumberedNexusKill', 'perfectDragonSoulsTaken', 'perfectGame', 'pickKillWithAlly', 'playedChampSelectPosition', 'poroExplosions', 'quickCleanse', 'quickFirstTurret', 'quickSoloKills', 'riftHeraldTakedowns', 'saveAllyFromDeath', 'scuttleCrabKills', 'shortestTimeToAceFromFirstTakedown', 'skillshotsDodged', 'skillshotsHit', 'snowballsHit', 'soloBaronKills', 'soloKills', 'stealthWardsPlaced', 'survivedSingleDigitHpCount', 'survivedThreeImmobilizesInFight', 'takedownOnFirstTurret', 'takedowns', 'takedownsAfterGainingLevelAdvantage', 'takedownsBeforeJungleMinionSpawn', 'takedownsFirstXMinutes', 'takedownsInAlcove', 'takedownsInEnemyFountain', 'teamBaronKills', 'teamDamagePercentage', 'teamElderDragonKills', 'teamRiftHeraldKills', 'tookLargeDamageSurvived', 'turretPlatesTaken', 'turretTakedowns_y', 'turretsTakenWithRiftHerald', 'twentyMinionsIn3SecondsCount', 'twoWardsOneSweeperCount', 'unseenRecalls', 'visionScoreAdvantageLaneOpponent', 'visionScorePerMinute', 'wardTakedowns', 'wardTakedownsBefore20M', 'wardsGuarded']\n"
     ]
    }
   ],
   "source": [
    "column_names = df.columns.tolist()\n",
    "\n",
    "print(column_names)"
   ],
   "metadata": {
    "collapsed": false,
    "ExecuteTime": {
     "end_time": "2023-09-22T17:08:12.083994500Z",
     "start_time": "2023-09-22T17:08:12.066692Z"
    }
   },
   "id": "4519a1f5aa4f7dc7"
  },
  {
   "cell_type": "code",
   "execution_count": 5,
   "outputs": [],
   "source": [
    "# Turning the df into smaller more comprehensible dataframes "
   ],
   "metadata": {
    "collapsed": false,
    "ExecuteTime": {
     "end_time": "2023-09-22T17:08:12.159920600Z",
     "start_time": "2023-09-22T17:08:12.081993800Z"
    }
   },
   "id": "27bf94bcf08a3ddb"
  },
  {
   "cell_type": "code",
   "execution_count": 6,
   "outputs": [
    {
     "data": {
      "text/plain": "   Unnamed: 0  Rank Champion Name Tier  Win rate  Pick Rate  Ban Rate  \\\n0           0     1         Swain    S     53.87       12.0       1.7   \n1           1     1         Swain    S     53.87       12.0       1.7   \n2           2     1         Swain    S     53.87       12.0       1.7   \n3           3     1         Swain    S     53.87       12.0       1.7   \n4           4     1         Swain    S     53.87       12.0       1.7   \n\n   Matches  gameDuration  allInPings  ...  turretTakedowns_y  \\\n0    19216          1711           0  ...                  7   \n1    19216          1987           0  ...                  1   \n2    19216          1495           0  ...                  1   \n3    19216          1528           1  ...                  1   \n4    19216          1155           0  ...                  0   \n\n   turretsTakenWithRiftHerald  twentyMinionsIn3SecondsCount  \\\n0                           0                             4   \n1                           0                             9   \n2                           0                             8   \n3                           5                             6   \n4                           0                             1   \n\n   twoWardsOneSweeperCount  unseenRecalls  visionScoreAdvantageLaneOpponent  \\\n0                        0              0                          0.731238   \n1                        0              0                         -0.407494   \n2                        0              0                         -0.782050   \n3                        0              0                         -0.055465   \n4                        0              0                         -0.218048   \n\n   visionScorePerMinute  wardTakedowns wardTakedownsBefore20M  wardsGuarded  \n0              1.166228              4                      2             1  \n1              0.594141              1                      1             0  \n2              0.388326              1                      0             0  \n3              0.637202              4                      3             0  \n4              1.941728              1                      1             0  \n\n[5 rows x 254 columns]",
      "text/html": "<div>\n<style scoped>\n    .dataframe tbody tr th:only-of-type {\n        vertical-align: middle;\n    }\n\n    .dataframe tbody tr th {\n        vertical-align: top;\n    }\n\n    .dataframe thead th {\n        text-align: right;\n    }\n</style>\n<table border=\"1\" class=\"dataframe\">\n  <thead>\n    <tr style=\"text-align: right;\">\n      <th></th>\n      <th>Unnamed: 0</th>\n      <th>Rank</th>\n      <th>Champion Name</th>\n      <th>Tier</th>\n      <th>Win rate</th>\n      <th>Pick Rate</th>\n      <th>Ban Rate</th>\n      <th>Matches</th>\n      <th>gameDuration</th>\n      <th>allInPings</th>\n      <th>...</th>\n      <th>turretTakedowns_y</th>\n      <th>turretsTakenWithRiftHerald</th>\n      <th>twentyMinionsIn3SecondsCount</th>\n      <th>twoWardsOneSweeperCount</th>\n      <th>unseenRecalls</th>\n      <th>visionScoreAdvantageLaneOpponent</th>\n      <th>visionScorePerMinute</th>\n      <th>wardTakedowns</th>\n      <th>wardTakedownsBefore20M</th>\n      <th>wardsGuarded</th>\n    </tr>\n  </thead>\n  <tbody>\n    <tr>\n      <th>0</th>\n      <td>0</td>\n      <td>1</td>\n      <td>Swain</td>\n      <td>S</td>\n      <td>53.87</td>\n      <td>12.0</td>\n      <td>1.7</td>\n      <td>19216</td>\n      <td>1711</td>\n      <td>0</td>\n      <td>...</td>\n      <td>7</td>\n      <td>0</td>\n      <td>4</td>\n      <td>0</td>\n      <td>0</td>\n      <td>0.731238</td>\n      <td>1.166228</td>\n      <td>4</td>\n      <td>2</td>\n      <td>1</td>\n    </tr>\n    <tr>\n      <th>1</th>\n      <td>1</td>\n      <td>1</td>\n      <td>Swain</td>\n      <td>S</td>\n      <td>53.87</td>\n      <td>12.0</td>\n      <td>1.7</td>\n      <td>19216</td>\n      <td>1987</td>\n      <td>0</td>\n      <td>...</td>\n      <td>1</td>\n      <td>0</td>\n      <td>9</td>\n      <td>0</td>\n      <td>0</td>\n      <td>-0.407494</td>\n      <td>0.594141</td>\n      <td>1</td>\n      <td>1</td>\n      <td>0</td>\n    </tr>\n    <tr>\n      <th>2</th>\n      <td>2</td>\n      <td>1</td>\n      <td>Swain</td>\n      <td>S</td>\n      <td>53.87</td>\n      <td>12.0</td>\n      <td>1.7</td>\n      <td>19216</td>\n      <td>1495</td>\n      <td>0</td>\n      <td>...</td>\n      <td>1</td>\n      <td>0</td>\n      <td>8</td>\n      <td>0</td>\n      <td>0</td>\n      <td>-0.782050</td>\n      <td>0.388326</td>\n      <td>1</td>\n      <td>0</td>\n      <td>0</td>\n    </tr>\n    <tr>\n      <th>3</th>\n      <td>3</td>\n      <td>1</td>\n      <td>Swain</td>\n      <td>S</td>\n      <td>53.87</td>\n      <td>12.0</td>\n      <td>1.7</td>\n      <td>19216</td>\n      <td>1528</td>\n      <td>1</td>\n      <td>...</td>\n      <td>1</td>\n      <td>5</td>\n      <td>6</td>\n      <td>0</td>\n      <td>0</td>\n      <td>-0.055465</td>\n      <td>0.637202</td>\n      <td>4</td>\n      <td>3</td>\n      <td>0</td>\n    </tr>\n    <tr>\n      <th>4</th>\n      <td>4</td>\n      <td>1</td>\n      <td>Swain</td>\n      <td>S</td>\n      <td>53.87</td>\n      <td>12.0</td>\n      <td>1.7</td>\n      <td>19216</td>\n      <td>1155</td>\n      <td>0</td>\n      <td>...</td>\n      <td>0</td>\n      <td>0</td>\n      <td>1</td>\n      <td>0</td>\n      <td>0</td>\n      <td>-0.218048</td>\n      <td>1.941728</td>\n      <td>1</td>\n      <td>1</td>\n      <td>0</td>\n    </tr>\n  </tbody>\n</table>\n<p>5 rows × 254 columns</p>\n</div>"
     },
     "execution_count": 6,
     "metadata": {},
     "output_type": "execute_result"
    }
   ],
   "source": [
    "df_bas_inf = df[['win', 'gameEndedInEarlySurrender', 'gameEndedInSurrender', 'teamEarlySurrendered', 'placement', 'subteamPlacement']]"
   ],
   "metadata": {
    "collapsed": false,
    "ExecuteTime": {
     "end_time": "2023-09-22T17:08:12.163920400Z",
     "start_time": "2023-09-22T17:08:12.087843800Z"
    }
   },
   "id": "752afa8e96847806"
  },
  {
   "cell_type": "code",
   "execution_count": 6,
   "outputs": [],
   "source": [
    "df_bas_inf.head()"
   ],
   "metadata": {
    "collapsed": false,
    "ExecuteTime": {
     "end_time": "2023-09-22T17:08:12.163920400Z",
     "start_time": "2023-09-22T17:08:12.099726400Z"
    }
   },
   "id": "24859df403131309"
  },
  {
   "cell_type": "code",
   "execution_count": 9,
   "outputs": [
    {
     "ename": "KeyError",
     "evalue": "\"['Kills', 'Deaths', 'Assists', 'Gold Earned', 'Total Damage Dealt', 'Vision Score', 'Game Duration', 'Team Id', 'Win'] not in index\"",
     "output_type": "error",
     "traceback": [
      "\u001B[1;31m---------------------------------------------------------------------------\u001B[0m",
      "\u001B[1;31mKeyError\u001B[0m                                  Traceback (most recent call last)",
      "Cell \u001B[1;32mIn[9], line 6\u001B[0m\n\u001B[0;32m      1\u001B[0m important_columns \u001B[38;5;241m=\u001B[39m [\n\u001B[0;32m      2\u001B[0m     \u001B[38;5;124m'\u001B[39m\u001B[38;5;124mRank\u001B[39m\u001B[38;5;124m'\u001B[39m, \u001B[38;5;124m'\u001B[39m\u001B[38;5;124mChampion Name\u001B[39m\u001B[38;5;124m'\u001B[39m, \u001B[38;5;124m'\u001B[39m\u001B[38;5;124mTier\u001B[39m\u001B[38;5;124m'\u001B[39m, \u001B[38;5;124m'\u001B[39m\u001B[38;5;124mWin rate\u001B[39m\u001B[38;5;124m'\u001B[39m, \u001B[38;5;124m'\u001B[39m\u001B[38;5;124mPick Rate\u001B[39m\u001B[38;5;124m'\u001B[39m, \u001B[38;5;124m'\u001B[39m\u001B[38;5;124mBan Rate\u001B[39m\u001B[38;5;124m'\u001B[39m,\n\u001B[0;32m      3\u001B[0m     \u001B[38;5;124m'\u001B[39m\u001B[38;5;124mMatches\u001B[39m\u001B[38;5;124m'\u001B[39m, \u001B[38;5;124m'\u001B[39m\u001B[38;5;124mKills\u001B[39m\u001B[38;5;124m'\u001B[39m, \u001B[38;5;124m'\u001B[39m\u001B[38;5;124mDeaths\u001B[39m\u001B[38;5;124m'\u001B[39m, \u001B[38;5;124m'\u001B[39m\u001B[38;5;124mAssists\u001B[39m\u001B[38;5;124m'\u001B[39m, \u001B[38;5;124m'\u001B[39m\u001B[38;5;124mGold Earned\u001B[39m\u001B[38;5;124m'\u001B[39m, \u001B[38;5;124m'\u001B[39m\u001B[38;5;124mTotal Damage Dealt\u001B[39m\u001B[38;5;124m'\u001B[39m,\n\u001B[0;32m      4\u001B[0m     \u001B[38;5;124m'\u001B[39m\u001B[38;5;124mVision Score\u001B[39m\u001B[38;5;124m'\u001B[39m, \u001B[38;5;124m'\u001B[39m\u001B[38;5;124mGame Duration\u001B[39m\u001B[38;5;124m'\u001B[39m, \u001B[38;5;124m'\u001B[39m\u001B[38;5;124mTeam Id\u001B[39m\u001B[38;5;124m'\u001B[39m, \u001B[38;5;124m'\u001B[39m\u001B[38;5;124mWin\u001B[39m\u001B[38;5;124m'\u001B[39m\n\u001B[0;32m      5\u001B[0m ]\n\u001B[1;32m----> 6\u001B[0m smaller_df \u001B[38;5;241m=\u001B[39m \u001B[43mdf\u001B[49m\u001B[43m[\u001B[49m\u001B[43mimportant_columns\u001B[49m\u001B[43m]\u001B[49m\n",
      "File \u001B[1;32mC:\\Programmieren\\Leaguify_Website\\venv\\Lib\\site-packages\\pandas\\core\\frame.py:3902\u001B[0m, in \u001B[0;36mDataFrame.__getitem__\u001B[1;34m(self, key)\u001B[0m\n\u001B[0;32m   3900\u001B[0m     \u001B[38;5;28;01mif\u001B[39;00m is_iterator(key):\n\u001B[0;32m   3901\u001B[0m         key \u001B[38;5;241m=\u001B[39m \u001B[38;5;28mlist\u001B[39m(key)\n\u001B[1;32m-> 3902\u001B[0m     indexer \u001B[38;5;241m=\u001B[39m \u001B[38;5;28;43mself\u001B[39;49m\u001B[38;5;241;43m.\u001B[39;49m\u001B[43mcolumns\u001B[49m\u001B[38;5;241;43m.\u001B[39;49m\u001B[43m_get_indexer_strict\u001B[49m\u001B[43m(\u001B[49m\u001B[43mkey\u001B[49m\u001B[43m,\u001B[49m\u001B[43m \u001B[49m\u001B[38;5;124;43m\"\u001B[39;49m\u001B[38;5;124;43mcolumns\u001B[39;49m\u001B[38;5;124;43m\"\u001B[39;49m\u001B[43m)\u001B[49m[\u001B[38;5;241m1\u001B[39m]\n\u001B[0;32m   3904\u001B[0m \u001B[38;5;66;03m# take() does not accept boolean indexers\u001B[39;00m\n\u001B[0;32m   3905\u001B[0m \u001B[38;5;28;01mif\u001B[39;00m \u001B[38;5;28mgetattr\u001B[39m(indexer, \u001B[38;5;124m\"\u001B[39m\u001B[38;5;124mdtype\u001B[39m\u001B[38;5;124m\"\u001B[39m, \u001B[38;5;28;01mNone\u001B[39;00m) \u001B[38;5;241m==\u001B[39m \u001B[38;5;28mbool\u001B[39m:\n",
      "File \u001B[1;32mC:\\Programmieren\\Leaguify_Website\\venv\\Lib\\site-packages\\pandas\\core\\indexes\\base.py:6114\u001B[0m, in \u001B[0;36mIndex._get_indexer_strict\u001B[1;34m(self, key, axis_name)\u001B[0m\n\u001B[0;32m   6111\u001B[0m \u001B[38;5;28;01melse\u001B[39;00m:\n\u001B[0;32m   6112\u001B[0m     keyarr, indexer, new_indexer \u001B[38;5;241m=\u001B[39m \u001B[38;5;28mself\u001B[39m\u001B[38;5;241m.\u001B[39m_reindex_non_unique(keyarr)\n\u001B[1;32m-> 6114\u001B[0m \u001B[38;5;28;43mself\u001B[39;49m\u001B[38;5;241;43m.\u001B[39;49m\u001B[43m_raise_if_missing\u001B[49m\u001B[43m(\u001B[49m\u001B[43mkeyarr\u001B[49m\u001B[43m,\u001B[49m\u001B[43m \u001B[49m\u001B[43mindexer\u001B[49m\u001B[43m,\u001B[49m\u001B[43m \u001B[49m\u001B[43maxis_name\u001B[49m\u001B[43m)\u001B[49m\n\u001B[0;32m   6116\u001B[0m keyarr \u001B[38;5;241m=\u001B[39m \u001B[38;5;28mself\u001B[39m\u001B[38;5;241m.\u001B[39mtake(indexer)\n\u001B[0;32m   6117\u001B[0m \u001B[38;5;28;01mif\u001B[39;00m \u001B[38;5;28misinstance\u001B[39m(key, Index):\n\u001B[0;32m   6118\u001B[0m     \u001B[38;5;66;03m# GH 42790 - Preserve name from an Index\u001B[39;00m\n",
      "File \u001B[1;32mC:\\Programmieren\\Leaguify_Website\\venv\\Lib\\site-packages\\pandas\\core\\indexes\\base.py:6178\u001B[0m, in \u001B[0;36mIndex._raise_if_missing\u001B[1;34m(self, key, indexer, axis_name)\u001B[0m\n\u001B[0;32m   6175\u001B[0m     \u001B[38;5;28;01mraise\u001B[39;00m \u001B[38;5;167;01mKeyError\u001B[39;00m(\u001B[38;5;124mf\u001B[39m\u001B[38;5;124m\"\u001B[39m\u001B[38;5;124mNone of [\u001B[39m\u001B[38;5;132;01m{\u001B[39;00mkey\u001B[38;5;132;01m}\u001B[39;00m\u001B[38;5;124m] are in the [\u001B[39m\u001B[38;5;132;01m{\u001B[39;00maxis_name\u001B[38;5;132;01m}\u001B[39;00m\u001B[38;5;124m]\u001B[39m\u001B[38;5;124m\"\u001B[39m)\n\u001B[0;32m   6177\u001B[0m not_found \u001B[38;5;241m=\u001B[39m \u001B[38;5;28mlist\u001B[39m(ensure_index(key)[missing_mask\u001B[38;5;241m.\u001B[39mnonzero()[\u001B[38;5;241m0\u001B[39m]]\u001B[38;5;241m.\u001B[39munique())\n\u001B[1;32m-> 6178\u001B[0m \u001B[38;5;28;01mraise\u001B[39;00m \u001B[38;5;167;01mKeyError\u001B[39;00m(\u001B[38;5;124mf\u001B[39m\u001B[38;5;124m\"\u001B[39m\u001B[38;5;132;01m{\u001B[39;00mnot_found\u001B[38;5;132;01m}\u001B[39;00m\u001B[38;5;124m not in index\u001B[39m\u001B[38;5;124m\"\u001B[39m)\n",
      "\u001B[1;31mKeyError\u001B[0m: \"['Kills', 'Deaths', 'Assists', 'Gold Earned', 'Total Damage Dealt', 'Vision Score', 'Game Duration', 'Team Id', 'Win'] not in index\""
     ]
    }
   ],
   "source": [
    "df_bas_inf.to_csv(\"D:\\Datensätze\\Leaguify\\BasicInformation.csv\")"
   ],
   "metadata": {
    "collapsed": false,
    "ExecuteTime": {
     "end_time": "2023-09-22T17:04:17.718593300Z",
     "start_time": "2023-09-22T17:04:17.359577Z"
    }
   },
   "id": "39afcdb5255b8755"
  },
  {
   "cell_type": "code",
   "execution_count": null,
   "outputs": [],
   "source": [],
   "metadata": {
    "collapsed": false,
    "ExecuteTime": {
     "end_time": "2023-09-22T17:04:17.736132600Z",
     "start_time": "2023-09-22T17:04:17.719596700Z"
    }
   },
   "id": "30a0ded3586e2986"
  }
 ],
 "metadata": {
  "kernelspec": {
   "display_name": "Python 3",
   "language": "python",
   "name": "python3"
  },
  "language_info": {
   "codemirror_mode": {
    "name": "ipython",
    "version": 2
   },
   "file_extension": ".py",
   "mimetype": "text/x-python",
   "name": "python",
   "nbconvert_exporter": "python",
   "pygments_lexer": "ipython2",
   "version": "2.7.6"
  }
 },
 "nbformat": 4,
 "nbformat_minor": 5
}
