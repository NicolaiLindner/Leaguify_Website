{
 "cells": [
  {
   "cell_type": "code",
   "execution_count": 9,
   "id": "initial_id",
   "metadata": {
    "collapsed": true,
    "ExecuteTime": {
     "end_time": "2023-09-12T09:39:42.303078300Z",
     "start_time": "2023-09-12T09:39:31.789273200Z"
    }
   },
   "outputs": [
    {
     "data": {
      "text/plain": "               ElementText\n0  1SwainS53.83%1.7%22,794",
      "text/html": "<div>\n<style scoped>\n    .dataframe tbody tr th:only-of-type {\n        vertical-align: middle;\n    }\n\n    .dataframe tbody tr th {\n        vertical-align: top;\n    }\n\n    .dataframe thead th {\n        text-align: right;\n    }\n</style>\n<table border=\"1\" class=\"dataframe\">\n  <thead>\n    <tr style=\"text-align: right;\">\n      <th></th>\n      <th>ElementText</th>\n    </tr>\n  </thead>\n  <tbody>\n    <tr>\n      <th>0</th>\n      <td>1SwainS53.83%1.7%22,794</td>\n    </tr>\n  </tbody>\n</table>\n</div>"
     },
     "execution_count": 9,
     "metadata": {},
     "output_type": "execute_result"
    }
   ],
   "source": [
    "from selenium import webdriver\n",
    "from selenium.webdriver.chrome.service import Service\n",
    "from selenium.webdriver.common.by import By\n",
    "from selenium.webdriver.support.ui import WebDriverWait\n",
    "from selenium.webdriver.support import expected_conditions as EC\n",
    "from selenium.webdriver.chrome.options import Options\n",
    "from bs4 import BeautifulSoup\n",
    "import pandas as pd\n",
    "import time\n",
    "\n",
    "# URL\n",
    "url = \"https://u.gg/lol/tier-list\"\n",
    "\n",
    "options = Options()\n",
    "options.add_argument(\"--headless\")\n",
    "options.binary_location = \"C:\\\\Users\\\\nicol\\\\Downloads\\\\chrome-win64\\\\chrome-win64\\\\chrome.exe\"\n",
    "\n",
    "service = Service(\"C:\\\\Users\\\\nicol\\\\Downloads\\\\chromedriver-win64\\\\chromedriver-win64\\\\chromedriver.exe\")\n",
    "driver = webdriver.Chrome(service=service, options=options)\n",
    "\n",
    "driver.get(url)\n",
    "\n",
    "wait = WebDriverWait(driver, 10)\n",
    "wait.until(EC.presence_of_all_elements_located((By.CSS_SELECTOR, \"div.rt-tr-group\")))\n",
    "\n",
    "# Initialize list to store each row of data\n",
    "data = []\n",
    "\n",
    "# Get page source and create BeautifulSoup object\n",
    "soup = BeautifulSoup(driver.page_source, 'html.parser')\n",
    "\n",
    "# Close the driver\n",
    "driver.quit()\n",
    "\n",
    "# Get the specific element using BeautifulSoup\n",
    "element = soup.select_one(\"div.rt-tr-group:nth-child(1) > div:nth-child(1)\")\n",
    "\n",
    "try:\n",
    "    text = element.get_text(strip=True) if element else 'N/A'\n",
    "    data.append([text])\n",
    "        \n",
    "except Exception as e:\n",
    "    print(f\"Error: {e}\")\n",
    "\n",
    "# Convert the data to a DataFrame\n",
    "columns = ['ElementText']\n",
    "df_new = pd.DataFrame(data, columns=columns)\n",
    "\n",
    "df_new.head()"
   ]
  },
  {
   "cell_type": "code",
   "execution_count": 11,
   "outputs": [
    {
     "name": "stdout",
     "output_type": "stream",
     "text": [
      "1SwainS53.83%1.7%22,794\n"
     ]
    }
   ],
   "source": [
    "print(df_new['ElementText'][0])"
   ],
   "metadata": {
    "collapsed": false,
    "ExecuteTime": {
     "end_time": "2023-09-12T09:39:55.523915600Z",
     "start_time": "2023-09-12T09:39:55.511283Z"
    }
   },
   "id": "5ba6a74aeb79da14"
  },
  {
   "cell_type": "code",
   "execution_count": null,
   "outputs": [],
   "source": [],
   "metadata": {
    "collapsed": false
   },
   "id": "a2fd174bf66d17a5"
  }
 ],
 "metadata": {
  "kernelspec": {
   "display_name": "Python 3",
   "language": "python",
   "name": "python3"
  },
  "language_info": {
   "codemirror_mode": {
    "name": "ipython",
    "version": 2
   },
   "file_extension": ".py",
   "mimetype": "text/x-python",
   "name": "python",
   "nbconvert_exporter": "python",
   "pygments_lexer": "ipython2",
   "version": "2.7.6"
  }
 },
 "nbformat": 4,
 "nbformat_minor": 5
}
