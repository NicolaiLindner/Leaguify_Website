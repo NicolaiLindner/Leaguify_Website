{
 "cells": [
  {
   "cell_type": "code",
   "execution_count": 2,
   "id": "initial_id",
   "metadata": {
    "collapsed": true,
    "ExecuteTime": {
     "end_time": "2023-09-23T12:32:14.916926400Z",
     "start_time": "2023-09-23T12:32:13.596838200Z"
    }
   },
   "outputs": [],
   "source": [
    "from selenium import webdriver\n",
    "from selenium.webdriver.chrome.service import Service\n",
    "from selenium.webdriver.common.by import By\n",
    "from selenium.webdriver.support.ui import WebDriverWait\n",
    "from selenium.webdriver.support import expected_conditions as EC\n",
    "from selenium.webdriver.chrome.options import Options\n",
    "from bs4 import BeautifulSoup\n",
    "import pandas as pd\n",
    "import time"
   ]
  },
  {
   "cell_type": "code",
   "execution_count": 3,
   "outputs": [
    {
     "name": "stderr",
     "output_type": "stream",
     "text": [
      "2023-09-23 14:32:18 [scrapy.addons] INFO: Enabled addons:\n",
      "[]\n",
      "2023-09-23 14:32:18 [py.warnings] WARNING: C:\\Programmieren\\Leaguify_Website\\venv\\Lib\\site-packages\\scrapy\\utils\\request.py:254: ScrapyDeprecationWarning: '2.6' is a deprecated value for the 'REQUEST_FINGERPRINTER_IMPLEMENTATION' setting.\n",
      "\n",
      "It is also the default value. In other words, it is normal to get this warning if you have not defined a value for the 'REQUEST_FINGERPRINTER_IMPLEMENTATION' setting. This is so for backward compatibility reasons, but it will change in a future version of Scrapy.\n",
      "\n",
      "See the documentation of the 'REQUEST_FINGERPRINTER_IMPLEMENTATION' setting for information on how to handle this deprecation.\n",
      "  return cls(crawler)\n",
      "\n",
      "2023-09-23 14:32:18 [scrapy.extensions.telnet] INFO: Telnet Password: 11dbb76e787f83ce\n",
      "2023-09-23 14:32:18 [scrapy.middleware] INFO: Enabled extensions:\n",
      "['scrapy.extensions.corestats.CoreStats',\n",
      " 'scrapy.extensions.telnet.TelnetConsole',\n",
      " 'scrapy.extensions.logstats.LogStats']\n",
      "2023-09-23 14:32:18 [scrapy.crawler] INFO: Overridden settings:\n",
      "{'LOG_LEVEL': 'INFO'}\n",
      "2023-09-23 14:32:18 [scrapy.middleware] INFO: Enabled downloader middlewares:\n",
      "['scrapy.downloadermiddlewares.httpauth.HttpAuthMiddleware',\n",
      " 'scrapy.downloadermiddlewares.downloadtimeout.DownloadTimeoutMiddleware',\n",
      " 'scrapy.downloadermiddlewares.defaultheaders.DefaultHeadersMiddleware',\n",
      " 'scrapy.downloadermiddlewares.useragent.UserAgentMiddleware',\n",
      " 'scrapy.downloadermiddlewares.retry.RetryMiddleware',\n",
      " 'scrapy.downloadermiddlewares.redirect.MetaRefreshMiddleware',\n",
      " 'scrapy.downloadermiddlewares.httpcompression.HttpCompressionMiddleware',\n",
      " 'scrapy.downloadermiddlewares.redirect.RedirectMiddleware',\n",
      " 'scrapy.downloadermiddlewares.cookies.CookiesMiddleware',\n",
      " 'scrapy.downloadermiddlewares.httpproxy.HttpProxyMiddleware',\n",
      " 'scrapy.downloadermiddlewares.stats.DownloaderStats']\n",
      "2023-09-23 14:32:18 [scrapy.middleware] INFO: Enabled spider middlewares:\n",
      "['scrapy.spidermiddlewares.httperror.HttpErrorMiddleware',\n",
      " 'scrapy.spidermiddlewares.offsite.OffsiteMiddleware',\n",
      " 'scrapy.spidermiddlewares.referer.RefererMiddleware',\n",
      " 'scrapy.spidermiddlewares.urllength.UrlLengthMiddleware',\n",
      " 'scrapy.spidermiddlewares.depth.DepthMiddleware']\n",
      "2023-09-23 14:32:18 [scrapy.middleware] INFO: Enabled item pipelines:\n",
      "[]\n",
      "2023-09-23 14:32:18 [scrapy.core.engine] INFO: Spider opened\n",
      "2023-09-23 14:32:18 [scrapy.extensions.logstats] INFO: Crawled 0 pages (at 0 pages/min), scraped 0 items (at 0 items/min)\n",
      "2023-09-23 14:32:18 [scrapy.extensions.telnet] INFO: Telnet console listening on 127.0.0.1:6023\n",
      "2023-09-23 14:32:20 [scrapy.core.engine] INFO: Closing spider (finished)\n",
      "2023-09-23 14:32:20 [scrapy.statscollectors] INFO: Dumping Scrapy stats:\n",
      "{'downloader/request_bytes': 244,\n",
      " 'downloader/request_count': 1,\n",
      " 'downloader/request_method_count/GET': 1,\n",
      " 'downloader/response_bytes': 68737,\n",
      " 'downloader/response_count': 1,\n",
      " 'downloader/response_status_count/200': 1,\n",
      " 'elapsed_time_seconds': 1.476976,\n",
      " 'finish_reason': 'finished',\n",
      " 'finish_time': datetime.datetime(2023, 9, 23, 12, 32, 20, 35769, tzinfo=datetime.timezone.utc),\n",
      " 'httpcompression/response_bytes': 410891,\n",
      " 'httpcompression/response_count': 1,\n",
      " 'log_count/INFO': 10,\n",
      " 'log_count/WARNING': 1,\n",
      " 'response_received_count': 1,\n",
      " 'scheduler/dequeued': 1,\n",
      " 'scheduler/dequeued/memory': 1,\n",
      " 'scheduler/enqueued': 1,\n",
      " 'scheduler/enqueued/memory': 1,\n",
      " 'start_time': datetime.datetime(2023, 9, 23, 12, 32, 18, 558793, tzinfo=datetime.timezone.utc)}\n",
      "2023-09-23 14:32:20 [scrapy.core.engine] INFO: Spider closed (finished)\n"
     ]
    },
    {
     "name": "stdout",
     "output_type": "stream",
     "text": [
      "CSV data:\n",
      "Rank,Champion,Win Rate,Wins/Loses,Unnamed,Kills,Deaths,Assists,LP,Max Kills,Max Deaths,CS,Damage,Gold\r\n",
      "1,Rell,56%,69,2.65,1.8,6.9,16.6,165,7,15,28.9,\"6,903\",\"7,644\"\r\n",
      "2,Alistar,57%,66,2.36,2.1,6.9,14.3,234,7,14,28.6,\"8,333\",\"7,576\"\r\n",
      "3,Leona,52%,58,2.38,1.9,6.8,14.3,169,7,16,32.4,\"7,364\",\"7,640\"\r\n",
      "4,Thresh,49%,17,2.31,1.6,6.9,14.3,5,4,14,32.6,\"7,227\",\"7,394\"\r\n",
      "5,Rakan,44%,10,2.16,1.4,6.5,12.7,110,4,15,32.3,\"5,830\",\"6,710\"\r\n",
      "6,Blitzcrank,40%,4,1.58,1.1,7.7,11.1,55,3,16,24.7,\"6,804\",\"6,087\"\r\n",
      "7,Pyke,38%,3,1.21,5.4,10.8,7.6,8,7,16,34.4,\"7,724\",\"8,646\"\r\n",
      "8,Karma,33%,2,2.10,2.3,6.8,12.0,26,6,9,19.5,\"10,798\",\"7,360\"\r\n",
      "9,Braum,50%,2,1.84,1.5,9.3,15.5,21,4,12,31.8,\"8,860\",\"7,785\"\r\n",
      "10,Akshan,50%,1,1.71,7.0,7.0,5.0,26,11,10,186.5,\"19,388\",\"11,494\"\r\n",
      "11,Janna,50%,1,6.00,0.5,3.0,17.5,N/A,1,5,10.5,\"4,111\",\"6,290\"\r\n",
      "12,Lissandra,0%,0,1.89,0.5,9.0,16.5,51,1,14,16.5,\"10,017\",\"7,541\"\r\n",
      "13,Nautilus,0%,0,1.21,2.0,9.5,9.5,52,3,10,30.5,\"5,978\",\"5,958\"\r\n",
      "14,Veigar,0%,0,1.11,4.5,9.0,5.5,51,7,12,176,\"18,102\",\"10,405\"\r\n",
      "15,Xayah,50%,1,1.33,5.0,6.0,3.0,7,7,6,154.5,\"13,302\",\"9,947\"\r\n",
      "16,Bard,0%,0,0.83,0.0,6.0,5.0,25,0,6,6,\"3,853\",\"3,801\"\r\n",
      "17,Brand,0%,0,0.29,0.0,7.0,2.0,26,0,7,15,\"6,807\",\"3,696\"\r\n",
      "18,Ivern,0%,0,1.67,2.0,6.0,8.0,N/A,2,6,130,\"16,465\",\"8,355\"\r\n",
      "19,Jarvan IV,0%,0,0.57,3.0,7.0,1.0,18,3,7,102,\"6,052\",\"6,972\"\r\n",
      "20,Lulu,0%,0,1.13,1.0,8.0,8.0,25,1,8,19,\"5,466\",\"8,186\"\r\n",
      "21,Milio,0%,0,1.22,0.0,9.0,11.0,23,0,9,9,\"2,529\",\"6,375\"\r\n",
      "22,Mordekaiser,0%,0,0.78,3.0,9.0,4.0,25,3,9,47,\"10,896\",\"7,979\"\r\n",
      "23,Orianna,0%,0,2.00,5.0,9.0,13.0,N/A,5,9,192,\"19,438\",\"11,483\"\r\n",
      "24,Renekton,0%,0,1.09,4.0,11.0,8.0,N/A,4,11,157,\"13,319\",\"10,760\"\r\n",
      "25,Taliyah,100%,1,11.50,10.0,2.0,13.0,N/A,10,2,161,\"18,995\",\"11,636\"\r\n",
      "26,Talon,100%,1,2.36,17.0,11.0,9.0,N/A,17,11,230,\"39,478\",\"21,789\"\r\n",
      "27,Xerath,0%,0,1.33,1.0,6.0,7.0,1,1,6,36,\"14,245\",\"7,803\"\r\n"
     ]
    }
   ],
   "source": [
    "# URL\n",
    "url = \"https://u.gg/lol/profile/euw1/leaguify/champion-stats?queueType=normal_draft_5x5\"\n",
    "\n",
    "options = Options()\n",
    "options.add_argument(\"--headless\")\n",
    "options.binary_location = \"C:\\\\Users\\\\nicol\\\\Downloads\\\\chrome-win64\\\\chrome-win64\\\\chrome.exe\"\n",
    "\n",
    "service = Service(\"C:\\\\Users\\\\nicol\\\\Downloads\\\\chromedriver-win64\\\\chromedriver-win64\\\\chromedriver.exe\")\n",
    "driver = webdriver.Chrome(service=service, options=options)\n",
    "\n",
    "driver.get(url)\n",
    "\n",
    "wait = WebDriverWait(driver, 10)\n",
    "wait.until(EC.presence_of_all_elements_located((By.CSS_SELECTOR, \"div.rt-tr-group\")))\n",
    "\n",
    "# Initialize list to store each row of data\n",
    "data = []\n",
    "\n",
    "# Get page source and create BeautifulSoup object\n",
    "soup = BeautifulSoup(driver.page_source, 'html.parser')\n",
    "\n",
    "# Close the driver\n",
    "driver.quit()\n",
    "\n",
    "# Get all the rows using BeautifulSoup\n",
    "rows = soup.select(\"div.rt-tr-group\")\n",
    "\n",
    "for i, row in enumerate(rows, 1):  # start from 1 because CSS nth-child starts from 1\n",
    "    try:\n",
    "        selectors = {\n",
    "            'Champion': \"div:nth-child(1) > div:nth-child(2) > div:nth-child(1) > span:nth-child(2)\",\n",
    "            'WinsLoses': \"div:nth-child(1) > div:nth-child(3) > div:nth-child(1) > span:nth-child(3)\",\n",
    "            'Winrate': \"div:nth-child(1) > div:nth-child(3) > div:nth-child(1) > strong:nth-child(1)\",\n",
    "            'KDA': \"div:nth-child(1) > div:nth-child(4) > div:nth-child(1) > div:nth-child(1) > strong:nth-child(1)\",\n",
    "            'KillsDeathsAssists': \"div:nth-child(1) > div:nth-child(4) > div:nth-child(1) > span:nth-child(2)\",\n",
    "            'LP': \"div:nth-child(1) > div:nth-child(5) > span:nth-child(1)\",\n",
    "            'MaxKills': \"div:nth-child(1) > div:nth-child(6) > span:nth-child(1)\",\n",
    "            'MaxDeaths': \"div:nth-child(1) > div:nth-child(7)\",\n",
    "            'CS': \"div:nth-child(1) > div:nth-child(8) > span:nth-child(1)\",\n",
    "            'Damage': \"div:nth-child(1) > div:nth-child(9) > span:nth-child(1)\",\n",
    "            'Gold': \"div:nth-child(1) > div:nth-child(10) > span:nth-child(1)\"\n",
    "        }\n",
    "\n",
    "        row_data = []\n",
    "        for key, selector in selectors.items():\n",
    "            element = row.select_one(selector)\n",
    "            text = element.get_text(strip=True) if element else 'N/A'\n",
    "            row_data.append(text)\n",
    "\n",
    "        data.append(row_data)\n",
    "\n",
    "    except Exception as e:\n",
    "        print(f\"Error in row {i}: {e}\")\n",
    "\n",
    "# Convert the data to a DataFrame\n",
    "columns = ['Champion', 'WinsLoses', 'Winrate', 'KDA', 'KillsDeathsAssists', 'LP', 'MaxKills', 'MaxDeaths', 'CS', 'Damage', 'Gold']\n",
    "df_individual = pd.DataFrame(data, columns=columns)"
   ],
   "metadata": {
    "collapsed": false,
    "ExecuteTime": {
     "end_time": "2023-09-23T12:32:20.066888200Z",
     "start_time": "2023-09-23T12:32:18.114524200Z"
    }
   },
   "id": "3c92b26f62563174"
  },
  {
   "cell_type": "code",
   "execution_count": null,
   "outputs": [],
   "source": [
    "df_individual"
   ],
   "metadata": {
    "collapsed": false,
    "ExecuteTime": {
     "end_time": "2023-09-23T12:31:42.391226500Z",
     "start_time": "2023-09-23T12:31:42.378007600Z"
    }
   },
   "id": "8fdddb201c9fbd8d"
  },
  {
   "cell_type": "code",
   "execution_count": null,
   "outputs": [],
   "source": [],
   "metadata": {
    "collapsed": false
   },
   "id": "f0ef51054894c756"
  }
 ],
 "metadata": {
  "kernelspec": {
   "display_name": "Python 3",
   "language": "python",
   "name": "python3"
  },
  "language_info": {
   "codemirror_mode": {
    "name": "ipython",
    "version": 2
   },
   "file_extension": ".py",
   "mimetype": "text/x-python",
   "name": "python",
   "nbconvert_exporter": "python",
   "pygments_lexer": "ipython2",
   "version": "2.7.6"
  }
 },
 "nbformat": 4,
 "nbformat_minor": 5
}
