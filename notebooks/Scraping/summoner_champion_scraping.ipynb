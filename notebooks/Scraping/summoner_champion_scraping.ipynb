{
 "cells": [
  {
   "cell_type": "code",
   "execution_count": 1,
   "id": "initial_id",
   "metadata": {
    "collapsed": true,
    "ExecuteTime": {
     "end_time": "2023-09-24T20:41:57.889869600Z",
     "start_time": "2023-09-24T20:41:57.433822300Z"
    }
   },
   "outputs": [],
   "source": [
    "from selenium import webdriver\n",
    "from selenium.webdriver.chrome.service import Service\n",
    "from selenium.webdriver.common.by import By\n",
    "from selenium.webdriver.support.ui import WebDriverWait\n",
    "from selenium.webdriver.support import expected_conditions as EC\n",
    "from selenium.webdriver.chrome.options import Options\n",
    "from bs4 import BeautifulSoup\n",
    "import pandas as pd\n",
    "import time"
   ]
  },
  {
   "cell_type": "code",
   "execution_count": 4,
   "outputs": [],
   "source": [
    "# URL\n",
    "url = \"https://u.gg/lol/profile/euw1/thehighground/champion-stats?queueType=normal_draft_5x5\"\n",
    "\n",
    "options = Options()\n",
    "options.add_argument(\"--headless\")\n",
    "options.binary_location = \"C:\\\\Users\\\\nicol\\\\Downloads\\\\chrome-win64\\\\chrome-win64\\\\chrome.exe\"\n",
    "\n",
    "service = Service(\"C:\\\\Users\\\\nicol\\\\Downloads\\\\chromedriver-win64\\\\chromedriver-win64\\\\chromedriver.exe\")\n",
    "driver = webdriver.Chrome(service=service, options=options)\n",
    "\n",
    "driver.get(url)\n",
    "\n",
    "wait = WebDriverWait(driver, 10)\n",
    "wait.until(EC.presence_of_all_elements_located((By.CSS_SELECTOR, \"div.rt-tr-group\")))\n",
    "\n",
    "# Initialize list to store each row of data\n",
    "data = []\n",
    "\n",
    "# Get page source and create BeautifulSoup object\n",
    "soup = BeautifulSoup(driver.page_source, 'html.parser')\n",
    "\n",
    "# Close the driver\n",
    "driver.quit()\n",
    "\n",
    "# Get all the rows using BeautifulSoup\n",
    "rows = soup.select(\"div.rt-tr-group\")\n",
    "\n",
    "for i, row in enumerate(rows, 1):  # start from 1 because CSS nth-child starts from 1\n",
    "    try:\n",
    "        selectors = {\n",
    "            'Champion': \"div:nth-child(1) > div:nth-child(2) > div:nth-child(1) > span:nth-child(2)\",\n",
    "            'WinsLoses': \"div:nth-child(1) > div:nth-child(3) > div:nth-child(1) > span:nth-child(3)\",\n",
    "            'Winrate': \"div:nth-child(1) > div:nth-child(3) > div:nth-child(1) > strong:nth-child(1)\",\n",
    "            'KDA': \"div:nth-child(1) > div:nth-child(4) > div:nth-child(1) > div:nth-child(1) > strong:nth-child(1)\",\n",
    "            'KillsDeathsAssists': \"div:nth-child(1) > div:nth-child(4) > div:nth-child(1) > span:nth-child(2)\",\n",
    "            'LP': \"div:nth-child(1) > div:nth-child(5) > span:nth-child(1)\",\n",
    "            'MaxKills': \"div:nth-child(1) > div:nth-child(6) > span:nth-child(1)\",\n",
    "            'MaxDeaths': \"div:nth-child(1) > div:nth-child(7)\",\n",
    "            'CS': \"div:nth-child(1) > div:nth-child(8) > span:nth-child(1)\",\n",
    "            'Damage': \"div:nth-child(1) > div:nth-child(9) > span:nth-child(1)\",\n",
    "            'Gold': \"div:nth-child(1) > div:nth-child(10) > span:nth-child(1)\"\n",
    "        }\n",
    "\n",
    "        row_data = []\n",
    "        for key, selector in selectors.items():\n",
    "            element = row.select_one(selector)\n",
    "            text = element.get_text(strip=True) if element else 'N/A'\n",
    "            row_data.append(text)\n",
    "\n",
    "        data.append(row_data)\n",
    "\n",
    "    except Exception as e:\n",
    "        print(f\"Error in row {i}: {e}\")\n",
    "\n",
    "# Convert the data to a DataFrame\n",
    "columns = ['Champion', 'WinsLoses', 'Winrate', 'KDA', 'KillsDeathsAssists', 'LP', 'MaxKills', 'MaxDeaths', 'CS', 'Damage', 'Gold']\n",
    "df_individual = pd.DataFrame(data, columns=columns)"
   ],
   "metadata": {
    "collapsed": false,
    "ExecuteTime": {
     "end_time": "2023-09-24T20:43:17.796891600Z",
     "start_time": "2023-09-24T20:43:06.582898700Z"
    }
   },
   "id": "3c92b26f62563174"
  },
  {
   "cell_type": "code",
   "execution_count": 5,
   "outputs": [
    {
     "data": {
      "text/plain": "   Champion WinsLoses Winrate    KDA KillsDeathsAssists   LP MaxKills  \\\n0   Kha'Zix     2W 2L     50%   1.85        6.3/6.8/6.3  0LP       14   \n1    Ezreal     2W 1L     67%   2.25        3.3/4.0/5.7  0LP        6   \n2    Irelia     2W 1L     67%   1.53        3.7/5.7/5.0  0LP        9   \n3      Ornn     3W 0L    100%   3.67        5.0/4.0/9.7  0LP        8   \n4     Senna     1W 2L     33%  11.33        3.3/1.0/8.0  0LP        7   \n..      ...       ...     ...    ...                ...  ...      ...   \n92    Xayah     1W 0L    100%   7.00       15.0/3.0/6.0  0LP       15   \n93    Yasuo     0W 1L      0%   1.00        2.0/9.0/7.0  0LP        2   \n94     Yone     0W 1L      0%   0.80        2.0/5.0/2.0  0LP        2   \n95    Yuumi     0W 1L      0%   1.20        0.0/5.0/6.0  0LP        0   \n96     Zeri     0W 1L      0%   1.33        6.0/9.0/6.0  0LP        6   \n\n   MaxDeaths     CS  Damage    Gold  \n0          9  222.8  20,886  13,996  \n1          9  213.3  20,063  11,025  \n2         11    259  13,601  12,336  \n3          7    182  17,089  12,332  \n4          2   17.7  11,458   7,212  \n..       ...    ...     ...     ...  \n92         3    204  20,553  14,024  \n93         9    264  13,187  12,243  \n94         5    105   7,392   6,530  \n95         5      9   4,944   6,106  \n96         9    254  23,017  14,528  \n\n[97 rows x 11 columns]",
      "text/html": "<div>\n<style scoped>\n    .dataframe tbody tr th:only-of-type {\n        vertical-align: middle;\n    }\n\n    .dataframe tbody tr th {\n        vertical-align: top;\n    }\n\n    .dataframe thead th {\n        text-align: right;\n    }\n</style>\n<table border=\"1\" class=\"dataframe\">\n  <thead>\n    <tr style=\"text-align: right;\">\n      <th></th>\n      <th>Champion</th>\n      <th>WinsLoses</th>\n      <th>Winrate</th>\n      <th>KDA</th>\n      <th>KillsDeathsAssists</th>\n      <th>LP</th>\n      <th>MaxKills</th>\n      <th>MaxDeaths</th>\n      <th>CS</th>\n      <th>Damage</th>\n      <th>Gold</th>\n    </tr>\n  </thead>\n  <tbody>\n    <tr>\n      <th>0</th>\n      <td>Kha'Zix</td>\n      <td>2W 2L</td>\n      <td>50%</td>\n      <td>1.85</td>\n      <td>6.3/6.8/6.3</td>\n      <td>0LP</td>\n      <td>14</td>\n      <td>9</td>\n      <td>222.8</td>\n      <td>20,886</td>\n      <td>13,996</td>\n    </tr>\n    <tr>\n      <th>1</th>\n      <td>Ezreal</td>\n      <td>2W 1L</td>\n      <td>67%</td>\n      <td>2.25</td>\n      <td>3.3/4.0/5.7</td>\n      <td>0LP</td>\n      <td>6</td>\n      <td>9</td>\n      <td>213.3</td>\n      <td>20,063</td>\n      <td>11,025</td>\n    </tr>\n    <tr>\n      <th>2</th>\n      <td>Irelia</td>\n      <td>2W 1L</td>\n      <td>67%</td>\n      <td>1.53</td>\n      <td>3.7/5.7/5.0</td>\n      <td>0LP</td>\n      <td>9</td>\n      <td>11</td>\n      <td>259</td>\n      <td>13,601</td>\n      <td>12,336</td>\n    </tr>\n    <tr>\n      <th>3</th>\n      <td>Ornn</td>\n      <td>3W 0L</td>\n      <td>100%</td>\n      <td>3.67</td>\n      <td>5.0/4.0/9.7</td>\n      <td>0LP</td>\n      <td>8</td>\n      <td>7</td>\n      <td>182</td>\n      <td>17,089</td>\n      <td>12,332</td>\n    </tr>\n    <tr>\n      <th>4</th>\n      <td>Senna</td>\n      <td>1W 2L</td>\n      <td>33%</td>\n      <td>11.33</td>\n      <td>3.3/1.0/8.0</td>\n      <td>0LP</td>\n      <td>7</td>\n      <td>2</td>\n      <td>17.7</td>\n      <td>11,458</td>\n      <td>7,212</td>\n    </tr>\n    <tr>\n      <th>...</th>\n      <td>...</td>\n      <td>...</td>\n      <td>...</td>\n      <td>...</td>\n      <td>...</td>\n      <td>...</td>\n      <td>...</td>\n      <td>...</td>\n      <td>...</td>\n      <td>...</td>\n      <td>...</td>\n    </tr>\n    <tr>\n      <th>92</th>\n      <td>Xayah</td>\n      <td>1W 0L</td>\n      <td>100%</td>\n      <td>7.00</td>\n      <td>15.0/3.0/6.0</td>\n      <td>0LP</td>\n      <td>15</td>\n      <td>3</td>\n      <td>204</td>\n      <td>20,553</td>\n      <td>14,024</td>\n    </tr>\n    <tr>\n      <th>93</th>\n      <td>Yasuo</td>\n      <td>0W 1L</td>\n      <td>0%</td>\n      <td>1.00</td>\n      <td>2.0/9.0/7.0</td>\n      <td>0LP</td>\n      <td>2</td>\n      <td>9</td>\n      <td>264</td>\n      <td>13,187</td>\n      <td>12,243</td>\n    </tr>\n    <tr>\n      <th>94</th>\n      <td>Yone</td>\n      <td>0W 1L</td>\n      <td>0%</td>\n      <td>0.80</td>\n      <td>2.0/5.0/2.0</td>\n      <td>0LP</td>\n      <td>2</td>\n      <td>5</td>\n      <td>105</td>\n      <td>7,392</td>\n      <td>6,530</td>\n    </tr>\n    <tr>\n      <th>95</th>\n      <td>Yuumi</td>\n      <td>0W 1L</td>\n      <td>0%</td>\n      <td>1.20</td>\n      <td>0.0/5.0/6.0</td>\n      <td>0LP</td>\n      <td>0</td>\n      <td>5</td>\n      <td>9</td>\n      <td>4,944</td>\n      <td>6,106</td>\n    </tr>\n    <tr>\n      <th>96</th>\n      <td>Zeri</td>\n      <td>0W 1L</td>\n      <td>0%</td>\n      <td>1.33</td>\n      <td>6.0/9.0/6.0</td>\n      <td>0LP</td>\n      <td>6</td>\n      <td>9</td>\n      <td>254</td>\n      <td>23,017</td>\n      <td>14,528</td>\n    </tr>\n  </tbody>\n</table>\n<p>97 rows × 11 columns</p>\n</div>"
     },
     "execution_count": 5,
     "metadata": {},
     "output_type": "execute_result"
    }
   ],
   "source": [
    "df_individual"
   ],
   "metadata": {
    "collapsed": false,
    "ExecuteTime": {
     "end_time": "2023-09-24T20:43:17.808550600Z",
     "start_time": "2023-09-24T20:43:17.798399300Z"
    }
   },
   "id": "8fdddb201c9fbd8d"
  },
  {
   "cell_type": "code",
   "execution_count": 3,
   "outputs": [],
   "source": [],
   "metadata": {
    "collapsed": false,
    "ExecuteTime": {
     "end_time": "2023-09-24T20:42:08.828447700Z",
     "start_time": "2023-09-24T20:42:08.810432600Z"
    }
   },
   "id": "f0ef51054894c756"
  }
 ],
 "metadata": {
  "kernelspec": {
   "display_name": "Python 3",
   "language": "python",
   "name": "python3"
  },
  "language_info": {
   "codemirror_mode": {
    "name": "ipython",
    "version": 2
   },
   "file_extension": ".py",
   "mimetype": "text/x-python",
   "name": "python",
   "nbconvert_exporter": "python",
   "pygments_lexer": "ipython2",
   "version": "2.7.6"
  }
 },
 "nbformat": 4,
 "nbformat_minor": 5
}
