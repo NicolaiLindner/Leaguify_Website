{
 "cells": [
  {
   "cell_type": "code",
   "execution_count": 1,
   "id": "initial_id",
   "metadata": {
    "collapsed": true,
    "ExecuteTime": {
     "end_time": "2023-09-16T13:27:52.625080700Z",
     "start_time": "2023-09-16T13:27:43.588039800Z"
    }
   },
   "outputs": [
    {
     "name": "stdout",
     "output_type": "stream",
     "text": [
      "Time taken by original code:  8.603027582168579\n"
     ]
    }
   ],
   "source": [
    "# Version 1\n",
    "\n",
    "from selenium import webdriver\n",
    "from selenium.webdriver.chrome.service import Service\n",
    "from selenium.webdriver.common.by import By\n",
    "from selenium.webdriver.support.ui import WebDriverWait\n",
    "from selenium.webdriver.support import expected_conditions as EC\n",
    "from selenium.webdriver.chrome.options import Options\n",
    "from bs4 import BeautifulSoup\n",
    "import pandas as pd\n",
    "import time\n",
    "\n",
    "start_time_improved = time.time()\n",
    "# URL\n",
    "url = \"https://u.gg/lol/profile/euw1/leaguify/champion-stats?queueType=normal_draft_5x5\"\n",
    "\n",
    "options = Options()\n",
    "options.add_argument(\"--headless\")\n",
    "options.binary_location = \"C:\\\\Users\\\\nicol\\\\Downloads\\\\chrome-win64\\\\chrome-win64\\\\chrome.exe\"\n",
    "\n",
    "service = Service(\"C:\\\\Users\\\\nicol\\\\Downloads\\\\chromedriver-win64\\\\chromedriver-win64\\\\chromedriver.exe\")\n",
    "driver = webdriver.Chrome(service=service, options=options)\n",
    "\n",
    "driver.get(url)\n",
    "\n",
    "wait = WebDriverWait(driver, 10)\n",
    "wait.until(EC.presence_of_all_elements_located((By.CSS_SELECTOR, \"div.rt-tr-group\")))\n",
    "\n",
    "# Initialize list to store each row of data\n",
    "data = []\n",
    "\n",
    "# Get page source and create BeautifulSoup object\n",
    "soup = BeautifulSoup(driver.page_source, 'html.parser')\n",
    "\n",
    "# Close the driver\n",
    "driver.quit()\n",
    "\n",
    "# Get all the rows using BeautifulSoup\n",
    "rows = soup.select(\"div.rt-tr-group\")\n",
    "\n",
    "for i, row in enumerate(rows, 1):  # start from 1 because CSS nth-child starts from 1\n",
    "    try:\n",
    "        selectors = {\n",
    "            'Champion': \"div:nth-child(1) > div:nth-child(2) > div:nth-child(1) > span:nth-child(2)\",\n",
    "            'WinsLoses': \"div:nth-child(1) > div:nth-child(3) > div:nth-child(1) > span:nth-child(3)\",\n",
    "            'Winrate': \"div:nth-child(1) > div:nth-child(3) > div:nth-child(1) > strong:nth-child(1)\",\n",
    "            'KDA': \"div:nth-child(1) > div:nth-child(4) > div:nth-child(1) > div:nth-child(1) > strong:nth-child(1)\",\n",
    "            'KillsDeathsAssists': \"div:nth-child(1) > div:nth-child(4) > div:nth-child(1) > span:nth-child(2)\",\n",
    "            'LP': \"div:nth-child(1) > div:nth-child(5) > span:nth-child(1)\",\n",
    "            'MaxKills': \"div:nth-child(1) > div:nth-child(6) > span:nth-child(1)\",\n",
    "            'MaxDeaths': \"div:nth-child(1) > div:nth-child(7)\",\n",
    "            'CS': \"div:nth-child(1) > div:nth-child(8) > span:nth-child(1)\",\n",
    "            'Damage': \"div:nth-child(1) > div:nth-child(9) > span:nth-child(1)\",\n",
    "            'Gold': \"div:nth-child(1) > div:nth-child(10) > span:nth-child(1)\"\n",
    "        }\n",
    "        \n",
    "        row_data = []\n",
    "        for key, selector in selectors.items():\n",
    "            element = row.select_one(selector)\n",
    "            text = element.get_text(strip=True) if element else 'N/A'\n",
    "            row_data.append(text)\n",
    "        \n",
    "        data.append(row_data)\n",
    "        \n",
    "    except Exception as e:\n",
    "        print(f\"Error in row {i}: {e}\")\n",
    "\n",
    "# Convert the data to a DataFrame\n",
    "columns = ['Champion', 'WinsLoses', 'Winrate', 'KDA', 'KillsDeathsAssists', 'LP', 'MaxKills', 'MaxDeaths', 'CS', 'Damage', 'Gold']\n",
    "df_individual = pd.DataFrame(data, columns=columns)\n",
    "\n",
    "end_time_improved = time.time()\n",
    "\n",
    "print(\"Time taken by original code: \", end_time_improved - start_time_improved)"
   ]
  },
  {
   "cell_type": "code",
   "execution_count": 2,
   "outputs": [
    {
     "name": "stdout",
     "output_type": "stream",
     "text": [
      "Time taken by improved code:  10.402175426483154\n"
     ]
    }
   ],
   "source": [
    "# Version 2\n",
    "\n",
    "from selenium import webdriver\n",
    "from selenium.webdriver.chrome.service import Service\n",
    "from selenium.webdriver.common.by import By\n",
    "from selenium.webdriver.support.ui import WebDriverWait\n",
    "from selenium.webdriver.support import expected_conditions as EC\n",
    "from selenium.webdriver.chrome.options import Options\n",
    "from bs4 import BeautifulSoup\n",
    "import pandas as pd\n",
    "\n",
    "start_time = time.time()\n",
    "# URL\n",
    "url = \"https://u.gg/lol/profile/euw1/leaguify/champion-stats?queueType=normal_draft_5x5\"\n",
    "\n",
    "options = Options()\n",
    "options.add_argument(\"--headless\")\n",
    "options.binary_location = \"C:\\\\Users\\\\nicol\\\\Downloads\\\\chrome-win64\\\\chrome-win64\\\\chrome.exe\"\n",
    "\n",
    "service = Service(\"C:\\\\Users\\\\nicol\\\\Downloads\\\\chromedriver-win64\\\\chromedriver-win64\\\\chromedriver.exe\")\n",
    "driver = webdriver.Chrome(service=service, options=options)\n",
    "\n",
    "driver.get(url)\n",
    "\n",
    "wait = WebDriverWait(driver, 10)\n",
    "wait.until(EC.presence_of_all_elements_located((By.CSS_SELECTOR, \"div.rt-tr-group\")))\n",
    "\n",
    "# Initialize list to store each row of data\n",
    "data = []\n",
    "\n",
    "# Get page source and create BeautifulSoup object\n",
    "soup = BeautifulSoup(driver.page_source, 'html.parser')\n",
    "\n",
    "# Close the driver\n",
    "driver.quit()\n",
    "\n",
    "# Get all the rows using BeautifulSoup\n",
    "rows = soup.select(\"div.rt-tr-group\")\n",
    "\n",
    "for i, row in enumerate(rows, 1):  # start from 1 because CSS nth-child starts from 1\n",
    "    try:\n",
    "        selectors = {\n",
    "            'Champion': \"div:nth-child(1) > div:nth-child(2) > div:nth-child(1) > span:nth-child(2)\",\n",
    "            'WinsLoses': \"div:nth-child(1) > div:nth-child(3) > div:nth-child(1) > span:nth-child(3)\",\n",
    "            'Winrate': \"div:nth-child(1) > div:nth-child(3) > div:nth-child(1) > strong:nth-child(1)\",\n",
    "            'KDA': \"div:nth-child(1) > div:nth-child(4) > div:nth-child(1) > div:nth-child(1) > strong:nth-child(1)\",\n",
    "            'KillsDeathsAssists': \"div:nth-child(1) > div:nth-child(4) > div:nth-child(1) > span:nth-child(2)\",\n",
    "            'LP': \"div:nth-child(1) > div:nth-child(5) > span:nth-child(1)\",\n",
    "            'MaxKills': \"div:nth-child(1) > div:nth-child(6) > span:nth-child(1)\",\n",
    "            'MaxDeaths': \"div:nth-child(1) > div:nth-child(7)\",\n",
    "            'CS': \"div:nth-child(1) > div:nth-child(8) > span:nth-child(1)\",\n",
    "            'Damage': \"div:nth-child(1) > div:nth-child(9) > span:nth-child(1)\",\n",
    "            'Gold': \"div:nth-child(1) > div:nth-child(10) > span:nth-child(1)\"\n",
    "        }\n",
    "        \n",
    "        row_data = []\n",
    "        for key, selector in selectors.items():\n",
    "            element = row.select_one(selector)\n",
    "            text = element.get_text(strip=True) if element else 'N/A'\n",
    "            row_data.append(text)\n",
    "        \n",
    "        data.append(row_data)\n",
    "        \n",
    "    except Exception as e:\n",
    "        print(f\"Error in row {i}: {e}\")\n",
    "\n",
    "# Convert the data to a DataFrame\n",
    "columns = ['Champion', 'WinsLoses', 'Winrate', 'KDA', 'KillsDeathsAssists', 'LP', 'MaxKills', 'MaxDeaths', 'CS', 'Damage', 'Gold']\n",
    "df_individual = pd.DataFrame(data, columns=columns)\n",
    "end_time = time.time()\n",
    "\n",
    "print(\"Time taken by improved code: \", end_time - start_time)"
   ],
   "metadata": {
    "collapsed": false,
    "ExecuteTime": {
     "end_time": "2023-09-16T13:28:03.037769400Z",
     "start_time": "2023-09-16T13:27:52.616025400Z"
    }
   },
   "id": "a4afb1a20d98ff9e"
  },
  {
   "cell_type": "code",
   "execution_count": 3,
   "outputs": [
    {
     "data": {
      "text/plain": "          Champion WinsLoses Winrate      KDA KillsDeathsAssists   LP  \\\n0          Rek'Sai    13W 6L     68%     4.21        9.0/4.0/7.8  0LP   \n1            Poppy     2W 9L     18%     3.35      11.3/6.7/11.3  0LP   \n2            Diana     2W 4L     33%     2.91       10.0/5.5/6.0  0LP   \n3        Jarvan IV     2W 3L     40%     3.83       7.6/4.8/10.8  0LP   \n4             Ekko     2W 2L     50%     2.45        9.0/5.5/4.5  0LP   \n5          Kha'Zix     3W 1L     75%     4.15       12.8/5.0/8.0  0LP   \n6           Lillia     3W 1L     75%     4.77       10.0/3.3/5.5  0LP   \n7            Senna     3W 1L     75%     2.88       6.3/6.3/11.8  0LP   \n8          Kindred     3W 0L    100%     6.33        4.0/2.0/8.7  0LP   \n9            Rakan     1W 2L     33%     5.75       3.0/4.0/20.0  0LP   \n10             Zac     2W 1L     67%     6.71        8.0/2.3/7.7  0LP   \n11         Lee Sin     1W 1L     50%     3.00        7.5/5.0/7.5  0LP   \n12          Maokai     2W 0L    100%     4.83        5.5/3.0/9.0  0LP   \n13        Nautilus     0W 2L      0%     1.47        1.5/7.5/9.5  0LP   \n14           Taric     0W 2L      0%     3.73       2.5/5.5/18.0  0LP   \n15        Xin Zhao     1W 1L     50%     2.55        8.5/5.5/5.5  0LP   \n16            Ashe     0W 1L      0%     3.83      13.0/6.0/10.0  0LP   \n17            Bard     0W 1L      0%     2.57       1.0/7.0/17.0  0LP   \n18            Gnar     0W 1L      0%     1.40       9.0/10.0/5.0  0LP   \n19          Graves     1W 0L    100%  Perfect        3.0/0.0/1.0  0LP   \n20             Jax     0W 1L      0%     1.50        3.0/4.0/3.0  0LP   \n21            Kayn     0W 1L      0%     0.78        4.0/9.0/3.0  0LP   \n22        Malzahar     1W 0L    100%     5.50        6.0/2.0/5.0  0LP   \n23       Master Yi     0W 1L      0%     2.71       11.0/7.0/8.0  0LP   \n24    Miss Fortune     1W 0L    100%     2.50        9.0/6.0/6.0  0LP   \n25           Neeko     1W 0L    100%     2.75       4.0/8.0/18.0  0LP   \n26        Nocturne     1W 0L    100%     7.00       12.0/3.0/9.0  0LP   \n27  Nunu & Willump     0W 1L      0%     1.70      13.0/10.0/4.0  0LP   \n28            Pyke     0W 1L      0%     3.20        7.0/5.0/9.0  0LP   \n29          Rengar     0W 1L      0%     2.60        9.0/5.0/4.0  0LP   \n30         Shyvana     0W 1L      0%     5.50       5.0/4.0/17.0  0LP   \n31            Sion     1W 0L    100%     6.50        5.0/2.0/8.0  0LP   \n32        Tristana     1W 0L    100%     5.60      17.0/5.0/11.0  0LP   \n33         Trundle     1W 0L    100%     3.38       8.0/8.0/19.0  0LP   \n34           Vayne     0W 1L      0%     1.00        2.0/2.0/0.0  0LP   \n35           Viego     1W 0L    100%     1.60        3.0/5.0/5.0  0LP   \n36          Viktor     1W 0L    100%     1.25        4.0/8.0/6.0  0LP   \n37           Xayah     0W 1L      0%     0.86        3.0/7.0/3.0  0LP   \n\n   MaxKills MaxDeaths     CS  Damage    Gold  \n0        19         9  147.2  18,474  11,747  \n1        18        11  205.7  30,390  15,978  \n2        22        10    193  27,020  13,757  \n3         9         7  157.4  16,030  12,179  \n4        19         8  144.5  18,891  12,116  \n5        19         8    150  26,112  13,646  \n6        23         6    164  18,801  11,894  \n7        10         9   31.3  18,022  11,159  \n8         7         5  161.7  15,077   9,931  \n9         4         5     38  10,776   9,169  \n10       12         5  142.3  13,602  10,478  \n11       15         7    123  19,218  10,797  \n12        9         4  144.5  17,061  10,676  \n13        2         9   38.5   8,501   7,579  \n14        3         6     39   8,060   8,983  \n15       12         6    187  29,099  12,974  \n16       13         6    317  38,330  19,521  \n17        1         7     23  13,075   8,738  \n18        9        10    183  30,820  13,124  \n19        3         0    100   4,665   6,070  \n20        3         4    188  10,225  10,320  \n21        4         9    189  10,538  11,621  \n22        6         2    176  12,955   9,822  \n23       11         7    177  27,162  13,142  \n24        9         6    225  23,453  14,022  \n25        4         8     32  24,812   9,025  \n26       12         3    191  24,443  14,367  \n27       13        10    123  19,867  12,863  \n28        7         5     38   9,889   8,082  \n29        9         5    165  18,093  13,059  \n30        5         4    318  31,711  18,582  \n31        5         2    142   9,539  10,730  \n32       17         5    181  26,458  14,834  \n33        8         8    244  24,731  17,645  \n34        2         2     90   3,485   4,550  \n35        3         5    216  14,226  12,883  \n36        4         8    132  15,909   9,956  \n37        3         7    294  24,410  13,277  ",
      "text/html": "<div>\n<style scoped>\n    .dataframe tbody tr th:only-of-type {\n        vertical-align: middle;\n    }\n\n    .dataframe tbody tr th {\n        vertical-align: top;\n    }\n\n    .dataframe thead th {\n        text-align: right;\n    }\n</style>\n<table border=\"1\" class=\"dataframe\">\n  <thead>\n    <tr style=\"text-align: right;\">\n      <th></th>\n      <th>Champion</th>\n      <th>WinsLoses</th>\n      <th>Winrate</th>\n      <th>KDA</th>\n      <th>KillsDeathsAssists</th>\n      <th>LP</th>\n      <th>MaxKills</th>\n      <th>MaxDeaths</th>\n      <th>CS</th>\n      <th>Damage</th>\n      <th>Gold</th>\n    </tr>\n  </thead>\n  <tbody>\n    <tr>\n      <th>0</th>\n      <td>Rek'Sai</td>\n      <td>13W 6L</td>\n      <td>68%</td>\n      <td>4.21</td>\n      <td>9.0/4.0/7.8</td>\n      <td>0LP</td>\n      <td>19</td>\n      <td>9</td>\n      <td>147.2</td>\n      <td>18,474</td>\n      <td>11,747</td>\n    </tr>\n    <tr>\n      <th>1</th>\n      <td>Poppy</td>\n      <td>2W 9L</td>\n      <td>18%</td>\n      <td>3.35</td>\n      <td>11.3/6.7/11.3</td>\n      <td>0LP</td>\n      <td>18</td>\n      <td>11</td>\n      <td>205.7</td>\n      <td>30,390</td>\n      <td>15,978</td>\n    </tr>\n    <tr>\n      <th>2</th>\n      <td>Diana</td>\n      <td>2W 4L</td>\n      <td>33%</td>\n      <td>2.91</td>\n      <td>10.0/5.5/6.0</td>\n      <td>0LP</td>\n      <td>22</td>\n      <td>10</td>\n      <td>193</td>\n      <td>27,020</td>\n      <td>13,757</td>\n    </tr>\n    <tr>\n      <th>3</th>\n      <td>Jarvan IV</td>\n      <td>2W 3L</td>\n      <td>40%</td>\n      <td>3.83</td>\n      <td>7.6/4.8/10.8</td>\n      <td>0LP</td>\n      <td>9</td>\n      <td>7</td>\n      <td>157.4</td>\n      <td>16,030</td>\n      <td>12,179</td>\n    </tr>\n    <tr>\n      <th>4</th>\n      <td>Ekko</td>\n      <td>2W 2L</td>\n      <td>50%</td>\n      <td>2.45</td>\n      <td>9.0/5.5/4.5</td>\n      <td>0LP</td>\n      <td>19</td>\n      <td>8</td>\n      <td>144.5</td>\n      <td>18,891</td>\n      <td>12,116</td>\n    </tr>\n    <tr>\n      <th>5</th>\n      <td>Kha'Zix</td>\n      <td>3W 1L</td>\n      <td>75%</td>\n      <td>4.15</td>\n      <td>12.8/5.0/8.0</td>\n      <td>0LP</td>\n      <td>19</td>\n      <td>8</td>\n      <td>150</td>\n      <td>26,112</td>\n      <td>13,646</td>\n    </tr>\n    <tr>\n      <th>6</th>\n      <td>Lillia</td>\n      <td>3W 1L</td>\n      <td>75%</td>\n      <td>4.77</td>\n      <td>10.0/3.3/5.5</td>\n      <td>0LP</td>\n      <td>23</td>\n      <td>6</td>\n      <td>164</td>\n      <td>18,801</td>\n      <td>11,894</td>\n    </tr>\n    <tr>\n      <th>7</th>\n      <td>Senna</td>\n      <td>3W 1L</td>\n      <td>75%</td>\n      <td>2.88</td>\n      <td>6.3/6.3/11.8</td>\n      <td>0LP</td>\n      <td>10</td>\n      <td>9</td>\n      <td>31.3</td>\n      <td>18,022</td>\n      <td>11,159</td>\n    </tr>\n    <tr>\n      <th>8</th>\n      <td>Kindred</td>\n      <td>3W 0L</td>\n      <td>100%</td>\n      <td>6.33</td>\n      <td>4.0/2.0/8.7</td>\n      <td>0LP</td>\n      <td>7</td>\n      <td>5</td>\n      <td>161.7</td>\n      <td>15,077</td>\n      <td>9,931</td>\n    </tr>\n    <tr>\n      <th>9</th>\n      <td>Rakan</td>\n      <td>1W 2L</td>\n      <td>33%</td>\n      <td>5.75</td>\n      <td>3.0/4.0/20.0</td>\n      <td>0LP</td>\n      <td>4</td>\n      <td>5</td>\n      <td>38</td>\n      <td>10,776</td>\n      <td>9,169</td>\n    </tr>\n    <tr>\n      <th>10</th>\n      <td>Zac</td>\n      <td>2W 1L</td>\n      <td>67%</td>\n      <td>6.71</td>\n      <td>8.0/2.3/7.7</td>\n      <td>0LP</td>\n      <td>12</td>\n      <td>5</td>\n      <td>142.3</td>\n      <td>13,602</td>\n      <td>10,478</td>\n    </tr>\n    <tr>\n      <th>11</th>\n      <td>Lee Sin</td>\n      <td>1W 1L</td>\n      <td>50%</td>\n      <td>3.00</td>\n      <td>7.5/5.0/7.5</td>\n      <td>0LP</td>\n      <td>15</td>\n      <td>7</td>\n      <td>123</td>\n      <td>19,218</td>\n      <td>10,797</td>\n    </tr>\n    <tr>\n      <th>12</th>\n      <td>Maokai</td>\n      <td>2W 0L</td>\n      <td>100%</td>\n      <td>4.83</td>\n      <td>5.5/3.0/9.0</td>\n      <td>0LP</td>\n      <td>9</td>\n      <td>4</td>\n      <td>144.5</td>\n      <td>17,061</td>\n      <td>10,676</td>\n    </tr>\n    <tr>\n      <th>13</th>\n      <td>Nautilus</td>\n      <td>0W 2L</td>\n      <td>0%</td>\n      <td>1.47</td>\n      <td>1.5/7.5/9.5</td>\n      <td>0LP</td>\n      <td>2</td>\n      <td>9</td>\n      <td>38.5</td>\n      <td>8,501</td>\n      <td>7,579</td>\n    </tr>\n    <tr>\n      <th>14</th>\n      <td>Taric</td>\n      <td>0W 2L</td>\n      <td>0%</td>\n      <td>3.73</td>\n      <td>2.5/5.5/18.0</td>\n      <td>0LP</td>\n      <td>3</td>\n      <td>6</td>\n      <td>39</td>\n      <td>8,060</td>\n      <td>8,983</td>\n    </tr>\n    <tr>\n      <th>15</th>\n      <td>Xin Zhao</td>\n      <td>1W 1L</td>\n      <td>50%</td>\n      <td>2.55</td>\n      <td>8.5/5.5/5.5</td>\n      <td>0LP</td>\n      <td>12</td>\n      <td>6</td>\n      <td>187</td>\n      <td>29,099</td>\n      <td>12,974</td>\n    </tr>\n    <tr>\n      <th>16</th>\n      <td>Ashe</td>\n      <td>0W 1L</td>\n      <td>0%</td>\n      <td>3.83</td>\n      <td>13.0/6.0/10.0</td>\n      <td>0LP</td>\n      <td>13</td>\n      <td>6</td>\n      <td>317</td>\n      <td>38,330</td>\n      <td>19,521</td>\n    </tr>\n    <tr>\n      <th>17</th>\n      <td>Bard</td>\n      <td>0W 1L</td>\n      <td>0%</td>\n      <td>2.57</td>\n      <td>1.0/7.0/17.0</td>\n      <td>0LP</td>\n      <td>1</td>\n      <td>7</td>\n      <td>23</td>\n      <td>13,075</td>\n      <td>8,738</td>\n    </tr>\n    <tr>\n      <th>18</th>\n      <td>Gnar</td>\n      <td>0W 1L</td>\n      <td>0%</td>\n      <td>1.40</td>\n      <td>9.0/10.0/5.0</td>\n      <td>0LP</td>\n      <td>9</td>\n      <td>10</td>\n      <td>183</td>\n      <td>30,820</td>\n      <td>13,124</td>\n    </tr>\n    <tr>\n      <th>19</th>\n      <td>Graves</td>\n      <td>1W 0L</td>\n      <td>100%</td>\n      <td>Perfect</td>\n      <td>3.0/0.0/1.0</td>\n      <td>0LP</td>\n      <td>3</td>\n      <td>0</td>\n      <td>100</td>\n      <td>4,665</td>\n      <td>6,070</td>\n    </tr>\n    <tr>\n      <th>20</th>\n      <td>Jax</td>\n      <td>0W 1L</td>\n      <td>0%</td>\n      <td>1.50</td>\n      <td>3.0/4.0/3.0</td>\n      <td>0LP</td>\n      <td>3</td>\n      <td>4</td>\n      <td>188</td>\n      <td>10,225</td>\n      <td>10,320</td>\n    </tr>\n    <tr>\n      <th>21</th>\n      <td>Kayn</td>\n      <td>0W 1L</td>\n      <td>0%</td>\n      <td>0.78</td>\n      <td>4.0/9.0/3.0</td>\n      <td>0LP</td>\n      <td>4</td>\n      <td>9</td>\n      <td>189</td>\n      <td>10,538</td>\n      <td>11,621</td>\n    </tr>\n    <tr>\n      <th>22</th>\n      <td>Malzahar</td>\n      <td>1W 0L</td>\n      <td>100%</td>\n      <td>5.50</td>\n      <td>6.0/2.0/5.0</td>\n      <td>0LP</td>\n      <td>6</td>\n      <td>2</td>\n      <td>176</td>\n      <td>12,955</td>\n      <td>9,822</td>\n    </tr>\n    <tr>\n      <th>23</th>\n      <td>Master Yi</td>\n      <td>0W 1L</td>\n      <td>0%</td>\n      <td>2.71</td>\n      <td>11.0/7.0/8.0</td>\n      <td>0LP</td>\n      <td>11</td>\n      <td>7</td>\n      <td>177</td>\n      <td>27,162</td>\n      <td>13,142</td>\n    </tr>\n    <tr>\n      <th>24</th>\n      <td>Miss Fortune</td>\n      <td>1W 0L</td>\n      <td>100%</td>\n      <td>2.50</td>\n      <td>9.0/6.0/6.0</td>\n      <td>0LP</td>\n      <td>9</td>\n      <td>6</td>\n      <td>225</td>\n      <td>23,453</td>\n      <td>14,022</td>\n    </tr>\n    <tr>\n      <th>25</th>\n      <td>Neeko</td>\n      <td>1W 0L</td>\n      <td>100%</td>\n      <td>2.75</td>\n      <td>4.0/8.0/18.0</td>\n      <td>0LP</td>\n      <td>4</td>\n      <td>8</td>\n      <td>32</td>\n      <td>24,812</td>\n      <td>9,025</td>\n    </tr>\n    <tr>\n      <th>26</th>\n      <td>Nocturne</td>\n      <td>1W 0L</td>\n      <td>100%</td>\n      <td>7.00</td>\n      <td>12.0/3.0/9.0</td>\n      <td>0LP</td>\n      <td>12</td>\n      <td>3</td>\n      <td>191</td>\n      <td>24,443</td>\n      <td>14,367</td>\n    </tr>\n    <tr>\n      <th>27</th>\n      <td>Nunu &amp; Willump</td>\n      <td>0W 1L</td>\n      <td>0%</td>\n      <td>1.70</td>\n      <td>13.0/10.0/4.0</td>\n      <td>0LP</td>\n      <td>13</td>\n      <td>10</td>\n      <td>123</td>\n      <td>19,867</td>\n      <td>12,863</td>\n    </tr>\n    <tr>\n      <th>28</th>\n      <td>Pyke</td>\n      <td>0W 1L</td>\n      <td>0%</td>\n      <td>3.20</td>\n      <td>7.0/5.0/9.0</td>\n      <td>0LP</td>\n      <td>7</td>\n      <td>5</td>\n      <td>38</td>\n      <td>9,889</td>\n      <td>8,082</td>\n    </tr>\n    <tr>\n      <th>29</th>\n      <td>Rengar</td>\n      <td>0W 1L</td>\n      <td>0%</td>\n      <td>2.60</td>\n      <td>9.0/5.0/4.0</td>\n      <td>0LP</td>\n      <td>9</td>\n      <td>5</td>\n      <td>165</td>\n      <td>18,093</td>\n      <td>13,059</td>\n    </tr>\n    <tr>\n      <th>30</th>\n      <td>Shyvana</td>\n      <td>0W 1L</td>\n      <td>0%</td>\n      <td>5.50</td>\n      <td>5.0/4.0/17.0</td>\n      <td>0LP</td>\n      <td>5</td>\n      <td>4</td>\n      <td>318</td>\n      <td>31,711</td>\n      <td>18,582</td>\n    </tr>\n    <tr>\n      <th>31</th>\n      <td>Sion</td>\n      <td>1W 0L</td>\n      <td>100%</td>\n      <td>6.50</td>\n      <td>5.0/2.0/8.0</td>\n      <td>0LP</td>\n      <td>5</td>\n      <td>2</td>\n      <td>142</td>\n      <td>9,539</td>\n      <td>10,730</td>\n    </tr>\n    <tr>\n      <th>32</th>\n      <td>Tristana</td>\n      <td>1W 0L</td>\n      <td>100%</td>\n      <td>5.60</td>\n      <td>17.0/5.0/11.0</td>\n      <td>0LP</td>\n      <td>17</td>\n      <td>5</td>\n      <td>181</td>\n      <td>26,458</td>\n      <td>14,834</td>\n    </tr>\n    <tr>\n      <th>33</th>\n      <td>Trundle</td>\n      <td>1W 0L</td>\n      <td>100%</td>\n      <td>3.38</td>\n      <td>8.0/8.0/19.0</td>\n      <td>0LP</td>\n      <td>8</td>\n      <td>8</td>\n      <td>244</td>\n      <td>24,731</td>\n      <td>17,645</td>\n    </tr>\n    <tr>\n      <th>34</th>\n      <td>Vayne</td>\n      <td>0W 1L</td>\n      <td>0%</td>\n      <td>1.00</td>\n      <td>2.0/2.0/0.0</td>\n      <td>0LP</td>\n      <td>2</td>\n      <td>2</td>\n      <td>90</td>\n      <td>3,485</td>\n      <td>4,550</td>\n    </tr>\n    <tr>\n      <th>35</th>\n      <td>Viego</td>\n      <td>1W 0L</td>\n      <td>100%</td>\n      <td>1.60</td>\n      <td>3.0/5.0/5.0</td>\n      <td>0LP</td>\n      <td>3</td>\n      <td>5</td>\n      <td>216</td>\n      <td>14,226</td>\n      <td>12,883</td>\n    </tr>\n    <tr>\n      <th>36</th>\n      <td>Viktor</td>\n      <td>1W 0L</td>\n      <td>100%</td>\n      <td>1.25</td>\n      <td>4.0/8.0/6.0</td>\n      <td>0LP</td>\n      <td>4</td>\n      <td>8</td>\n      <td>132</td>\n      <td>15,909</td>\n      <td>9,956</td>\n    </tr>\n    <tr>\n      <th>37</th>\n      <td>Xayah</td>\n      <td>0W 1L</td>\n      <td>0%</td>\n      <td>0.86</td>\n      <td>3.0/7.0/3.0</td>\n      <td>0LP</td>\n      <td>3</td>\n      <td>7</td>\n      <td>294</td>\n      <td>24,410</td>\n      <td>13,277</td>\n    </tr>\n  </tbody>\n</table>\n</div>"
     },
     "execution_count": 3,
     "metadata": {},
     "output_type": "execute_result"
    }
   ],
   "source": [
    "df_individual"
   ],
   "metadata": {
    "collapsed": false,
    "ExecuteTime": {
     "end_time": "2023-09-16T13:28:06.349051Z",
     "start_time": "2023-09-16T13:28:06.333021900Z"
    }
   },
   "id": "b725fcd5514fa7cd"
  },
  {
   "cell_type": "code",
   "execution_count": 2,
   "outputs": [],
   "source": [],
   "metadata": {
    "collapsed": false,
    "ExecuteTime": {
     "end_time": "2023-09-16T13:28:03.037769400Z",
     "start_time": "2023-09-16T13:28:03.028683900Z"
    }
   },
   "id": "98ab617c321a29e9"
  },
  {
   "cell_type": "code",
   "execution_count": 2,
   "outputs": [],
   "source": [],
   "metadata": {
    "collapsed": false,
    "ExecuteTime": {
     "end_time": "2023-09-16T13:28:03.037769400Z",
     "start_time": "2023-09-16T13:28:03.030753Z"
    }
   },
   "id": "1722552074255af2"
  },
  {
   "cell_type": "code",
   "execution_count": 2,
   "outputs": [],
   "source": [],
   "metadata": {
    "collapsed": false,
    "ExecuteTime": {
     "end_time": "2023-09-16T13:28:03.037769400Z",
     "start_time": "2023-09-16T13:28:03.032261900Z"
    }
   },
   "id": "3eff704e5b2136f5"
  }
 ],
 "metadata": {
  "kernelspec": {
   "display_name": "Python 3",
   "language": "python",
   "name": "python3"
  },
  "language_info": {
   "codemirror_mode": {
    "name": "ipython",
    "version": 2
   },
   "file_extension": ".py",
   "mimetype": "text/x-python",
   "name": "python",
   "nbconvert_exporter": "python",
   "pygments_lexer": "ipython2",
   "version": "2.7.6"
  }
 },
 "nbformat": 4,
 "nbformat_minor": 5
}
