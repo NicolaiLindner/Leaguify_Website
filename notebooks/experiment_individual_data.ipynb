{
 "cells": [
  {
   "cell_type": "code",
   "execution_count": 1,
   "id": "initial_id",
   "metadata": {
    "collapsed": true,
    "ExecuteTime": {
     "end_time": "2023-09-12T10:39:01.748046100Z",
     "start_time": "2023-09-12T10:39:01.638822500Z"
    }
   },
   "outputs": [],
   "source": [
    "import os\n",
    "from dotenv import load_dotenv\n",
    "import pandas as pd\n",
    "import matplotlib.pyplot as plt\n",
    "import seaborn as sns\n",
    "from sklearn.metrics import confusion_matrix\n",
    "\n",
    "\n",
    "#Scraping\n",
    "from selenium import webdriver\n",
    "from selenium.webdriver.chrome.service import Service\n",
    "from selenium.webdriver.common.by import By\n",
    "from selenium.webdriver.common.keys import Keys\n",
    "from selenium.webdriver.chrome.options import Options\n",
    "from selenium.webdriver.support.ui import WebDriverWait\n",
    "from selenium.webdriver.support import expected_conditions as EC\n",
    "import csv\n",
    "import time"
   ]
  },
  {
   "cell_type": "code",
   "execution_count": 2,
   "outputs": [],
   "source": [
    "# Load .env file\n",
    "load_dotenv('../.env.local')  # Adjust the relative path according to your directory structure\n",
    "\n",
    "# Get the project path from environment variables\n",
    "project_path = os.getenv('MY_PROJECT_PATH')\n",
    "\n",
    "# Read CSV into DataFrame\n",
    "df = pd.read_csv(project_path)"
   ],
   "metadata": {
    "collapsed": false,
    "ExecuteTime": {
     "end_time": "2023-09-12T10:39:04.619737200Z",
     "start_time": "2023-09-12T10:39:01.749045700Z"
    }
   },
   "id": "a0a058c348c9b8ad"
  },
  {
   "cell_type": "code",
   "execution_count": 3,
   "outputs": [
    {
     "data": {
      "text/plain": "        Unnamed: 0  Rank Champion Name Tier  Win rate  Pick Rate  Ban Rate  \\\n0                0     1         Swain    S     53.87       12.0       1.7   \n1                1     1         Swain    S     53.87       12.0       1.7   \n2                2     1         Swain    S     53.87       12.0       1.7   \n3                3     1         Swain    S     53.87       12.0       1.7   \n4                4     1         Swain    S     53.87       12.0       1.7   \n...            ...   ...           ...  ...       ...        ...       ...   \n252374      252374   227       Sejuani    D     46.62       26.0       0.4   \n252375      252375   227       Sejuani    D     46.62       26.0       0.4   \n252376      252376   227       Sejuani    D     46.62       26.0       0.4   \n252377      252377   227       Sejuani    D     46.62       26.0       0.4   \n252378      252378   227       Sejuani    D     46.62       26.0       0.4   \n\n        Matches  gameDuration  allInPings  ...  turretTakedowns_y  \\\n0         19216          1711           0  ...                  7   \n1         19216          1987           0  ...                  1   \n2         19216          1495           0  ...                  1   \n3         19216          1528           1  ...                  1   \n4         19216          1155           0  ...                  0   \n...         ...           ...         ...  ...                ...   \n252374    42265          1144           1  ...                  2   \n252375    42265          1556           1  ...                  0   \n252376    42265          1980           0  ...                  2   \n252377    42265          1622           0  ...                  1   \n252378    42265          1377           1  ...                  0   \n\n        turretsTakenWithRiftHerald  twentyMinionsIn3SecondsCount  \\\n0                                0                             4   \n1                                0                             9   \n2                                0                             8   \n3                                5                             6   \n4                                0                             1   \n...                            ...                           ...   \n252374                           5                             0   \n252375                           0                             0   \n252376                           5                             1   \n252377                           5                             0   \n252378                           0                             0   \n\n        twoWardsOneSweeperCount  unseenRecalls  \\\n0                             0              0   \n1                             0              0   \n2                             0              0   \n3                             0              0   \n4                             0              0   \n...                         ...            ...   \n252374                        0              0   \n252375                        0              0   \n252376                        0              0   \n252377                        0              0   \n252378                        1              0   \n\n        visionScoreAdvantageLaneOpponent  visionScorePerMinute  wardTakedowns  \\\n0                               0.731238              1.166228              4   \n1                              -0.407494              0.594141              1   \n2                              -0.782050              0.388326              1   \n3                              -0.055465              0.637202              4   \n4                              -0.218048              1.941728              1   \n...                                  ...                   ...            ...   \n252374                         -0.041946              0.716562              1   \n252375                         -0.151601              0.955019              6   \n252376                         -0.000377              0.896708              4   \n252377                         -0.106339              1.017744              5   \n252378                          1.043967              0.751964              2   \n\n       wardTakedownsBefore20M  wardsGuarded  \n0                           2             1  \n1                           1             0  \n2                           0             0  \n3                           3             0  \n4                           1             0  \n...                       ...           ...  \n252374                      1             0  \n252375                      4             0  \n252376                      3             0  \n252377                      4             1  \n252378                      1             1  \n\n[252379 rows x 254 columns]",
      "text/html": "<div>\n<style scoped>\n    .dataframe tbody tr th:only-of-type {\n        vertical-align: middle;\n    }\n\n    .dataframe tbody tr th {\n        vertical-align: top;\n    }\n\n    .dataframe thead th {\n        text-align: right;\n    }\n</style>\n<table border=\"1\" class=\"dataframe\">\n  <thead>\n    <tr style=\"text-align: right;\">\n      <th></th>\n      <th>Unnamed: 0</th>\n      <th>Rank</th>\n      <th>Champion Name</th>\n      <th>Tier</th>\n      <th>Win rate</th>\n      <th>Pick Rate</th>\n      <th>Ban Rate</th>\n      <th>Matches</th>\n      <th>gameDuration</th>\n      <th>allInPings</th>\n      <th>...</th>\n      <th>turretTakedowns_y</th>\n      <th>turretsTakenWithRiftHerald</th>\n      <th>twentyMinionsIn3SecondsCount</th>\n      <th>twoWardsOneSweeperCount</th>\n      <th>unseenRecalls</th>\n      <th>visionScoreAdvantageLaneOpponent</th>\n      <th>visionScorePerMinute</th>\n      <th>wardTakedowns</th>\n      <th>wardTakedownsBefore20M</th>\n      <th>wardsGuarded</th>\n    </tr>\n  </thead>\n  <tbody>\n    <tr>\n      <th>0</th>\n      <td>0</td>\n      <td>1</td>\n      <td>Swain</td>\n      <td>S</td>\n      <td>53.87</td>\n      <td>12.0</td>\n      <td>1.7</td>\n      <td>19216</td>\n      <td>1711</td>\n      <td>0</td>\n      <td>...</td>\n      <td>7</td>\n      <td>0</td>\n      <td>4</td>\n      <td>0</td>\n      <td>0</td>\n      <td>0.731238</td>\n      <td>1.166228</td>\n      <td>4</td>\n      <td>2</td>\n      <td>1</td>\n    </tr>\n    <tr>\n      <th>1</th>\n      <td>1</td>\n      <td>1</td>\n      <td>Swain</td>\n      <td>S</td>\n      <td>53.87</td>\n      <td>12.0</td>\n      <td>1.7</td>\n      <td>19216</td>\n      <td>1987</td>\n      <td>0</td>\n      <td>...</td>\n      <td>1</td>\n      <td>0</td>\n      <td>9</td>\n      <td>0</td>\n      <td>0</td>\n      <td>-0.407494</td>\n      <td>0.594141</td>\n      <td>1</td>\n      <td>1</td>\n      <td>0</td>\n    </tr>\n    <tr>\n      <th>2</th>\n      <td>2</td>\n      <td>1</td>\n      <td>Swain</td>\n      <td>S</td>\n      <td>53.87</td>\n      <td>12.0</td>\n      <td>1.7</td>\n      <td>19216</td>\n      <td>1495</td>\n      <td>0</td>\n      <td>...</td>\n      <td>1</td>\n      <td>0</td>\n      <td>8</td>\n      <td>0</td>\n      <td>0</td>\n      <td>-0.782050</td>\n      <td>0.388326</td>\n      <td>1</td>\n      <td>0</td>\n      <td>0</td>\n    </tr>\n    <tr>\n      <th>3</th>\n      <td>3</td>\n      <td>1</td>\n      <td>Swain</td>\n      <td>S</td>\n      <td>53.87</td>\n      <td>12.0</td>\n      <td>1.7</td>\n      <td>19216</td>\n      <td>1528</td>\n      <td>1</td>\n      <td>...</td>\n      <td>1</td>\n      <td>5</td>\n      <td>6</td>\n      <td>0</td>\n      <td>0</td>\n      <td>-0.055465</td>\n      <td>0.637202</td>\n      <td>4</td>\n      <td>3</td>\n      <td>0</td>\n    </tr>\n    <tr>\n      <th>4</th>\n      <td>4</td>\n      <td>1</td>\n      <td>Swain</td>\n      <td>S</td>\n      <td>53.87</td>\n      <td>12.0</td>\n      <td>1.7</td>\n      <td>19216</td>\n      <td>1155</td>\n      <td>0</td>\n      <td>...</td>\n      <td>0</td>\n      <td>0</td>\n      <td>1</td>\n      <td>0</td>\n      <td>0</td>\n      <td>-0.218048</td>\n      <td>1.941728</td>\n      <td>1</td>\n      <td>1</td>\n      <td>0</td>\n    </tr>\n    <tr>\n      <th>...</th>\n      <td>...</td>\n      <td>...</td>\n      <td>...</td>\n      <td>...</td>\n      <td>...</td>\n      <td>...</td>\n      <td>...</td>\n      <td>...</td>\n      <td>...</td>\n      <td>...</td>\n      <td>...</td>\n      <td>...</td>\n      <td>...</td>\n      <td>...</td>\n      <td>...</td>\n      <td>...</td>\n      <td>...</td>\n      <td>...</td>\n      <td>...</td>\n      <td>...</td>\n      <td>...</td>\n    </tr>\n    <tr>\n      <th>252374</th>\n      <td>252374</td>\n      <td>227</td>\n      <td>Sejuani</td>\n      <td>D</td>\n      <td>46.62</td>\n      <td>26.0</td>\n      <td>0.4</td>\n      <td>42265</td>\n      <td>1144</td>\n      <td>1</td>\n      <td>...</td>\n      <td>2</td>\n      <td>5</td>\n      <td>0</td>\n      <td>0</td>\n      <td>0</td>\n      <td>-0.041946</td>\n      <td>0.716562</td>\n      <td>1</td>\n      <td>1</td>\n      <td>0</td>\n    </tr>\n    <tr>\n      <th>252375</th>\n      <td>252375</td>\n      <td>227</td>\n      <td>Sejuani</td>\n      <td>D</td>\n      <td>46.62</td>\n      <td>26.0</td>\n      <td>0.4</td>\n      <td>42265</td>\n      <td>1556</td>\n      <td>1</td>\n      <td>...</td>\n      <td>0</td>\n      <td>0</td>\n      <td>0</td>\n      <td>0</td>\n      <td>0</td>\n      <td>-0.151601</td>\n      <td>0.955019</td>\n      <td>6</td>\n      <td>4</td>\n      <td>0</td>\n    </tr>\n    <tr>\n      <th>252376</th>\n      <td>252376</td>\n      <td>227</td>\n      <td>Sejuani</td>\n      <td>D</td>\n      <td>46.62</td>\n      <td>26.0</td>\n      <td>0.4</td>\n      <td>42265</td>\n      <td>1980</td>\n      <td>0</td>\n      <td>...</td>\n      <td>2</td>\n      <td>5</td>\n      <td>1</td>\n      <td>0</td>\n      <td>0</td>\n      <td>-0.000377</td>\n      <td>0.896708</td>\n      <td>4</td>\n      <td>3</td>\n      <td>0</td>\n    </tr>\n    <tr>\n      <th>252377</th>\n      <td>252377</td>\n      <td>227</td>\n      <td>Sejuani</td>\n      <td>D</td>\n      <td>46.62</td>\n      <td>26.0</td>\n      <td>0.4</td>\n      <td>42265</td>\n      <td>1622</td>\n      <td>0</td>\n      <td>...</td>\n      <td>1</td>\n      <td>5</td>\n      <td>0</td>\n      <td>0</td>\n      <td>0</td>\n      <td>-0.106339</td>\n      <td>1.017744</td>\n      <td>5</td>\n      <td>4</td>\n      <td>1</td>\n    </tr>\n    <tr>\n      <th>252378</th>\n      <td>252378</td>\n      <td>227</td>\n      <td>Sejuani</td>\n      <td>D</td>\n      <td>46.62</td>\n      <td>26.0</td>\n      <td>0.4</td>\n      <td>42265</td>\n      <td>1377</td>\n      <td>1</td>\n      <td>...</td>\n      <td>0</td>\n      <td>0</td>\n      <td>0</td>\n      <td>1</td>\n      <td>0</td>\n      <td>1.043967</td>\n      <td>0.751964</td>\n      <td>2</td>\n      <td>1</td>\n      <td>1</td>\n    </tr>\n  </tbody>\n</table>\n<p>252379 rows × 254 columns</p>\n</div>"
     },
     "execution_count": 3,
     "metadata": {},
     "output_type": "execute_result"
    }
   ],
   "source": [
    "df"
   ],
   "metadata": {
    "collapsed": false,
    "ExecuteTime": {
     "end_time": "2023-09-12T10:39:04.694564600Z",
     "start_time": "2023-09-12T10:39:04.620790800Z"
    }
   },
   "id": "62e11dedda8cad0d"
  },
  {
   "cell_type": "code",
   "execution_count": 13,
   "outputs": [],
   "source": [],
   "metadata": {
    "collapsed": false,
    "ExecuteTime": {
     "end_time": "2023-09-12T11:20:08.486889400Z",
     "start_time": "2023-09-12T11:20:08.484884700Z"
    }
   },
   "id": "61adf0ab0f8070fa"
  },
  {
   "cell_type": "code",
   "execution_count": 13,
   "outputs": [],
   "source": [],
   "metadata": {
    "collapsed": false,
    "ExecuteTime": {
     "end_time": "2023-09-12T11:20:08.746160100Z",
     "start_time": "2023-09-12T11:20:08.735258Z"
    }
   },
   "id": "5efdc21cb199b726"
  },
  {
   "cell_type": "code",
   "execution_count": 13,
   "outputs": [],
   "source": [],
   "metadata": {
    "collapsed": false,
    "ExecuteTime": {
     "end_time": "2023-09-12T11:20:09.124999900Z",
     "start_time": "2023-09-12T11:20:09.117995300Z"
    }
   },
   "id": "e11b2aed29529573"
  },
  {
   "cell_type": "code",
   "execution_count": null,
   "outputs": [],
   "source": [],
   "metadata": {
    "collapsed": false
   },
   "id": "5aa81272f3d8ffbb"
  }
 ],
 "metadata": {
  "kernelspec": {
   "display_name": "Python 3",
   "language": "python",
   "name": "python3"
  },
  "language_info": {
   "codemirror_mode": {
    "name": "ipython",
    "version": 2
   },
   "file_extension": ".py",
   "mimetype": "text/x-python",
   "name": "python",
   "nbconvert_exporter": "python",
   "pygments_lexer": "ipython2",
   "version": "2.7.6"
  }
 },
 "nbformat": 4,
 "nbformat_minor": 5
}
