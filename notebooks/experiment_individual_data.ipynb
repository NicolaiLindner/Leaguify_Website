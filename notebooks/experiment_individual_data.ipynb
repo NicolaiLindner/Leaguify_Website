{
 "cells": [
  {
   "cell_type": "code",
   "execution_count": 1,
   "id": "initial_id",
   "metadata": {
    "collapsed": true,
    "ExecuteTime": {
     "end_time": "2023-09-22T16:20:51.686009600Z",
     "start_time": "2023-09-22T16:20:51.606631100Z"
    }
   },
   "outputs": [],
   "source": [
    "import os\n",
    "from dotenv import load_dotenv\n",
    "import pandas as pd\n",
    "import matplotlib.pyplot as plt\n",
    "import seaborn as sns\n",
    "\n",
    "#Scraping\n",
    "from selenium import webdriver\n",
    "from selenium.webdriver.chrome.service import Service\n",
    "from selenium.webdriver.common.by import By\n",
    "from selenium.webdriver.common.keys import Keys\n",
    "from selenium.webdriver.chrome.options import Options\n",
    "from selenium.webdriver.support.ui import WebDriverWait\n",
    "from selenium.webdriver.support import expected_conditions as EC\n",
    "from bs4 import BeautifulSoup\n",
    "\n",
    "import csv\n",
    "import time"
   ]
  },
  {
   "cell_type": "code",
   "execution_count": 2,
   "outputs": [],
   "source": [
    "# Load .env file\n",
    "load_dotenv('../.env.local')  # Adjust the relative path according to your directory structure\n",
    "\n",
    "# Get the project path from environment variables\n",
    "project_path = os.getenv('MY_PROJECT_PATH')\n",
    "\n",
    "# Read CSV into DataFrame\n",
    "df = pd.read_csv(project_path)"
   ],
   "metadata": {
    "collapsed": false,
    "ExecuteTime": {
     "end_time": "2023-09-22T16:20:54.473984900Z",
     "start_time": "2023-09-22T16:20:51.687013300Z"
    }
   },
   "id": "a0a058c348c9b8ad"
  },
  {
   "cell_type": "code",
   "execution_count": 3,
   "outputs": [
    {
     "data": {
      "text/plain": "   Unnamed: 0  Rank Champion Name Tier  Win rate  Pick Rate  Ban Rate  \\\n0           0     1         Swain    S     53.87       12.0       1.7   \n1           1     1         Swain    S     53.87       12.0       1.7   \n2           2     1         Swain    S     53.87       12.0       1.7   \n3           3     1         Swain    S     53.87       12.0       1.7   \n4           4     1         Swain    S     53.87       12.0       1.7   \n\n   Matches  gameDuration  allInPings  ...  turretTakedowns_y  \\\n0    19216          1711           0  ...                  7   \n1    19216          1987           0  ...                  1   \n2    19216          1495           0  ...                  1   \n3    19216          1528           1  ...                  1   \n4    19216          1155           0  ...                  0   \n\n   turretsTakenWithRiftHerald  twentyMinionsIn3SecondsCount  \\\n0                           0                             4   \n1                           0                             9   \n2                           0                             8   \n3                           5                             6   \n4                           0                             1   \n\n   twoWardsOneSweeperCount  unseenRecalls  visionScoreAdvantageLaneOpponent  \\\n0                        0              0                          0.731238   \n1                        0              0                         -0.407494   \n2                        0              0                         -0.782050   \n3                        0              0                         -0.055465   \n4                        0              0                         -0.218048   \n\n   visionScorePerMinute  wardTakedowns wardTakedownsBefore20M  wardsGuarded  \n0              1.166228              4                      2             1  \n1              0.594141              1                      1             0  \n2              0.388326              1                      0             0  \n3              0.637202              4                      3             0  \n4              1.941728              1                      1             0  \n\n[5 rows x 254 columns]",
      "text/html": "<div>\n<style scoped>\n    .dataframe tbody tr th:only-of-type {\n        vertical-align: middle;\n    }\n\n    .dataframe tbody tr th {\n        vertical-align: top;\n    }\n\n    .dataframe thead th {\n        text-align: right;\n    }\n</style>\n<table border=\"1\" class=\"dataframe\">\n  <thead>\n    <tr style=\"text-align: right;\">\n      <th></th>\n      <th>Unnamed: 0</th>\n      <th>Rank</th>\n      <th>Champion Name</th>\n      <th>Tier</th>\n      <th>Win rate</th>\n      <th>Pick Rate</th>\n      <th>Ban Rate</th>\n      <th>Matches</th>\n      <th>gameDuration</th>\n      <th>allInPings</th>\n      <th>...</th>\n      <th>turretTakedowns_y</th>\n      <th>turretsTakenWithRiftHerald</th>\n      <th>twentyMinionsIn3SecondsCount</th>\n      <th>twoWardsOneSweeperCount</th>\n      <th>unseenRecalls</th>\n      <th>visionScoreAdvantageLaneOpponent</th>\n      <th>visionScorePerMinute</th>\n      <th>wardTakedowns</th>\n      <th>wardTakedownsBefore20M</th>\n      <th>wardsGuarded</th>\n    </tr>\n  </thead>\n  <tbody>\n    <tr>\n      <th>0</th>\n      <td>0</td>\n      <td>1</td>\n      <td>Swain</td>\n      <td>S</td>\n      <td>53.87</td>\n      <td>12.0</td>\n      <td>1.7</td>\n      <td>19216</td>\n      <td>1711</td>\n      <td>0</td>\n      <td>...</td>\n      <td>7</td>\n      <td>0</td>\n      <td>4</td>\n      <td>0</td>\n      <td>0</td>\n      <td>0.731238</td>\n      <td>1.166228</td>\n      <td>4</td>\n      <td>2</td>\n      <td>1</td>\n    </tr>\n    <tr>\n      <th>1</th>\n      <td>1</td>\n      <td>1</td>\n      <td>Swain</td>\n      <td>S</td>\n      <td>53.87</td>\n      <td>12.0</td>\n      <td>1.7</td>\n      <td>19216</td>\n      <td>1987</td>\n      <td>0</td>\n      <td>...</td>\n      <td>1</td>\n      <td>0</td>\n      <td>9</td>\n      <td>0</td>\n      <td>0</td>\n      <td>-0.407494</td>\n      <td>0.594141</td>\n      <td>1</td>\n      <td>1</td>\n      <td>0</td>\n    </tr>\n    <tr>\n      <th>2</th>\n      <td>2</td>\n      <td>1</td>\n      <td>Swain</td>\n      <td>S</td>\n      <td>53.87</td>\n      <td>12.0</td>\n      <td>1.7</td>\n      <td>19216</td>\n      <td>1495</td>\n      <td>0</td>\n      <td>...</td>\n      <td>1</td>\n      <td>0</td>\n      <td>8</td>\n      <td>0</td>\n      <td>0</td>\n      <td>-0.782050</td>\n      <td>0.388326</td>\n      <td>1</td>\n      <td>0</td>\n      <td>0</td>\n    </tr>\n    <tr>\n      <th>3</th>\n      <td>3</td>\n      <td>1</td>\n      <td>Swain</td>\n      <td>S</td>\n      <td>53.87</td>\n      <td>12.0</td>\n      <td>1.7</td>\n      <td>19216</td>\n      <td>1528</td>\n      <td>1</td>\n      <td>...</td>\n      <td>1</td>\n      <td>5</td>\n      <td>6</td>\n      <td>0</td>\n      <td>0</td>\n      <td>-0.055465</td>\n      <td>0.637202</td>\n      <td>4</td>\n      <td>3</td>\n      <td>0</td>\n    </tr>\n    <tr>\n      <th>4</th>\n      <td>4</td>\n      <td>1</td>\n      <td>Swain</td>\n      <td>S</td>\n      <td>53.87</td>\n      <td>12.0</td>\n      <td>1.7</td>\n      <td>19216</td>\n      <td>1155</td>\n      <td>0</td>\n      <td>...</td>\n      <td>0</td>\n      <td>0</td>\n      <td>1</td>\n      <td>0</td>\n      <td>0</td>\n      <td>-0.218048</td>\n      <td>1.941728</td>\n      <td>1</td>\n      <td>1</td>\n      <td>0</td>\n    </tr>\n  </tbody>\n</table>\n<p>5 rows × 254 columns</p>\n</div>"
     },
     "execution_count": 3,
     "metadata": {},
     "output_type": "execute_result"
    }
   ],
   "source": [
    "df.head()"
   ],
   "metadata": {
    "collapsed": false,
    "ExecuteTime": {
     "end_time": "2023-09-22T16:20:54.487316900Z",
     "start_time": "2023-09-22T16:20:54.474984700Z"
    }
   },
   "id": "62e11dedda8cad0d"
  },
  {
   "cell_type": "code",
   "execution_count": 8,
   "outputs": [],
   "source": [
    "from selenium import webdriver\n",
    "from selenium.webdriver.chrome.service import Service\n",
    "from selenium.webdriver.common.by import By\n",
    "from selenium.webdriver.support.ui import WebDriverWait\n",
    "from selenium.webdriver.support import expected_conditions as EC\n",
    "from selenium.webdriver.chrome.options import Options\n",
    "from bs4 import BeautifulSoup\n",
    "import pandas as pd\n",
    "import concurrent.futures\n",
    "import numpy as np  # For NaN\n",
    "import time\n",
    "\n",
    "def format_name_and_region(name, region):\n",
    "    return name.replace(\" \", \"\").lower(), region.replace(\" \", \"\").lower()\n",
    "\n",
    "def scrape_data(summonerName, platformId, index, total_rows):\n",
    "    start_time = time.time()\n",
    "    try:\n",
    "        summonerName, platformId = format_name_and_region(summonerName, platformId)\n",
    "        url = f\"https://u.gg/lol/profile/{platformId}/{summonerName}/champion-stats?\"\n",
    "        \n",
    "        options = Options()\n",
    "        options.add_argument(\"--headless\")\n",
    "        options.add_argument(\"--disable-extensions\")\n",
    "        options.add_argument(\"--disable-gpu\")\n",
    "        options.add_argument(\"--no-sandbox\")\n",
    "        options.binary_location = \"C:\\\\Users\\\\nicol\\\\Downloads\\\\chrome-win64\\\\chrome-win64\\\\chrome.exe\"\n",
    "\n",
    "        service = Service(\"C:\\\\Users\\\\nicol\\\\Downloads\\\\chromedriver-win64\\\\chromedriver-win64\\\\chromedriver.exe\")\n",
    "        driver = webdriver.Chrome(service=service, options=options)\n",
    "\n",
    "        driver.get(url)\n",
    "        wait = WebDriverWait(driver, 10)\n",
    "        wait.until(EC.presence_of_all_elements_located((By.CSS_SELECTOR, \"div.rt-tr-group\")))\n",
    "\n",
    "        soup = BeautifulSoup(driver.page_source, 'html.parser')\n",
    "\n",
    "        driver.quit()\n",
    "\n",
    "        rows = soup.select(\"div.rt-tr-group\")\n",
    "\n",
    "        if len(rows) == 0:\n",
    "            print(f\"No data for row {index + 1}\")\n",
    "            return pd.DataFrame()\n",
    "\n",
    "        data = []\n",
    "\n",
    "        for i, row in enumerate(rows, 1):\n",
    "            selectors = {\n",
    "                'Champion': \"div:nth-child(1) > div:nth-child(2) > div:nth-child(1) > span:nth-child(2)\",\n",
    "                'WinsLoses': \"div:nth-child(1) > div:nth-child(3) > div:nth-child(1) > span:nth-child(3)\",\n",
    "                'Winrate': \"div:nth-child(1) > div:nth-child(3) > div:nth-child(1) > strong:nth-child(1)\",\n",
    "                'KDA': \"div:nth-child(1) > div:nth-child(4) > div:nth-child(1) > div:nth-child(1) > strong:nth-child(1)\",\n",
    "                'KillsDeathsAssists': \"div:nth-child(1) > div:nth-child(4) > div:nth-child(1) > span:nth-child(2)\",\n",
    "                'LP': \"div:nth-child(1) > div:nth-child(5) > span:nth-child(1)\",\n",
    "                'MaxKills': \"div:nth-child(1) > div:nth-child(6) > span:nth-child(1)\",\n",
    "                'MaxDeaths': \"div:nth-child(1) > div:nth-child(7)\",\n",
    "                'CS': \"div:nth-child(1) > div:nth-child(8) > span:nth-child(1)\",\n",
    "                'Damage': \"div:nth-child(1) > div:nth-child(9) > span:nth-child(1)\",\n",
    "                'Gold': \"div:nth-child(1) > div:nth-child(10) > span:nth-child(1)\"\n",
    "            }\n",
    "\n",
    "            row_data = []\n",
    "            for key, selector in selectors.items():\n",
    "                element = row.select_one(selector)\n",
    "                text = element.get_text(strip=True) if element else np.nan\n",
    "                row_data.append(text)\n",
    "\n",
    "            data.append(row_data)\n",
    "\n",
    "        columns = ['Champion', 'WinsLoses', 'Winrate', 'KDA', 'KillsDeathsAssists', 'LP', 'MaxKills', 'MaxDeaths', 'CS', 'Damage', 'Gold']\n",
    "        df_individual = pd.DataFrame(data, columns=columns)\n",
    "\n",
    "        print(f\"Successfully scraped data for row {index + 1}/{total_rows}\")\n",
    "\n",
    "        elapsed_time = time.time() - start_time\n",
    "        remaining_time = elapsed_time * (total_rows - (index + 1))\n",
    "        print(f\"Estimated remaining time: {remaining_time:.2f} seconds\")\n",
    "\n",
    "        return df_individual\n",
    "\n",
    "    except Exception as e:\n",
    "        print(f\"Error in row {index + 1}: {e}\")\n",
    "        return pd.DataFrame()\n",
    "\n",
    "# Create an empty DataFrame to store the combined data\n",
    "df_combined = pd.DataFrame()\n",
    "\n",
    "# Total number of rows\n",
    "total_rows = len(df)\n",
    "\n",
    "# Using ThreadPoolExecutor for concurrency\n",
    "with concurrent.futures.ThreadPoolExecutor(max_workers=20) as executor:\n",
    "    futures = []\n",
    "    for index, row in df.iterrows():\n",
    "        summonerName = row['summonerName']\n",
    "        platformId = row['platformId']\n",
    "        futures.append(executor.submit(scrape_data, summonerName, platformId, index, total_rows))\n",
    "\n",
    "    for future in concurrent.futures.as_completed(futures):\n",
    "        df_individual = future.result()\n",
    "        df_combined = pd.concat([df_combined, df_individual], ignore_index=True)"
   ],
   "metadata": {
    "collapsed": false,
    "ExecuteTime": {
     "end_time": "2023-09-22T16:27:31.031823200Z",
     "start_time": "2023-09-22T16:27:04.096063Z"
    }
   },
   "id": "61adf0ab0f8070fa"
  },
  {
   "cell_type": "code",
   "execution_count": 9,
   "outputs": [
    {
     "data": {
      "text/plain": "    Rank Champion Name Tier Win rate Pick Rate Ban Rate  Matches\n0      1         Swain    S   54.03%      2.1%     2.1%   19,893\n1      2         Quinn   S+   53.82%      2.4%     2.4%   34,915\n2      3       Rek'Sai   S+   53.79%     13.1%    13.1%   60,346\n3      4       Karthus    S   53.42%      5.7%     5.7%   16,497\n4      5     Seraphine    A   53.32%      0.4%     0.4%   16,297\n..   ...           ...  ...      ...       ...      ...      ...\n228  229       K'Sante    D   46.66%      2.6%     2.6%   65,041\n229  230         Briar    D   45.44%     43.5%    43.5%  146,339\n230  231           Zed    C   45.22%     38.3%    38.3%   10,412\n231  232         Briar    D   40.81%     43.5%    43.5%   21,279\n232  233       Naafiri    D   39.60%     16.2%    16.2%    7,950\n\n[233 rows x 7 columns]",
      "text/html": "<div>\n<style scoped>\n    .dataframe tbody tr th:only-of-type {\n        vertical-align: middle;\n    }\n\n    .dataframe tbody tr th {\n        vertical-align: top;\n    }\n\n    .dataframe thead th {\n        text-align: right;\n    }\n</style>\n<table border=\"1\" class=\"dataframe\">\n  <thead>\n    <tr style=\"text-align: right;\">\n      <th></th>\n      <th>Rank</th>\n      <th>Champion Name</th>\n      <th>Tier</th>\n      <th>Win rate</th>\n      <th>Pick Rate</th>\n      <th>Ban Rate</th>\n      <th>Matches</th>\n    </tr>\n  </thead>\n  <tbody>\n    <tr>\n      <th>0</th>\n      <td>1</td>\n      <td>Swain</td>\n      <td>S</td>\n      <td>54.03%</td>\n      <td>2.1%</td>\n      <td>2.1%</td>\n      <td>19,893</td>\n    </tr>\n    <tr>\n      <th>1</th>\n      <td>2</td>\n      <td>Quinn</td>\n      <td>S+</td>\n      <td>53.82%</td>\n      <td>2.4%</td>\n      <td>2.4%</td>\n      <td>34,915</td>\n    </tr>\n    <tr>\n      <th>2</th>\n      <td>3</td>\n      <td>Rek'Sai</td>\n      <td>S+</td>\n      <td>53.79%</td>\n      <td>13.1%</td>\n      <td>13.1%</td>\n      <td>60,346</td>\n    </tr>\n    <tr>\n      <th>3</th>\n      <td>4</td>\n      <td>Karthus</td>\n      <td>S</td>\n      <td>53.42%</td>\n      <td>5.7%</td>\n      <td>5.7%</td>\n      <td>16,497</td>\n    </tr>\n    <tr>\n      <th>4</th>\n      <td>5</td>\n      <td>Seraphine</td>\n      <td>A</td>\n      <td>53.32%</td>\n      <td>0.4%</td>\n      <td>0.4%</td>\n      <td>16,297</td>\n    </tr>\n    <tr>\n      <th>...</th>\n      <td>...</td>\n      <td>...</td>\n      <td>...</td>\n      <td>...</td>\n      <td>...</td>\n      <td>...</td>\n      <td>...</td>\n    </tr>\n    <tr>\n      <th>228</th>\n      <td>229</td>\n      <td>K'Sante</td>\n      <td>D</td>\n      <td>46.66%</td>\n      <td>2.6%</td>\n      <td>2.6%</td>\n      <td>65,041</td>\n    </tr>\n    <tr>\n      <th>229</th>\n      <td>230</td>\n      <td>Briar</td>\n      <td>D</td>\n      <td>45.44%</td>\n      <td>43.5%</td>\n      <td>43.5%</td>\n      <td>146,339</td>\n    </tr>\n    <tr>\n      <th>230</th>\n      <td>231</td>\n      <td>Zed</td>\n      <td>C</td>\n      <td>45.22%</td>\n      <td>38.3%</td>\n      <td>38.3%</td>\n      <td>10,412</td>\n    </tr>\n    <tr>\n      <th>231</th>\n      <td>232</td>\n      <td>Briar</td>\n      <td>D</td>\n      <td>40.81%</td>\n      <td>43.5%</td>\n      <td>43.5%</td>\n      <td>21,279</td>\n    </tr>\n    <tr>\n      <th>232</th>\n      <td>233</td>\n      <td>Naafiri</td>\n      <td>D</td>\n      <td>39.60%</td>\n      <td>16.2%</td>\n      <td>16.2%</td>\n      <td>7,950</td>\n    </tr>\n  </tbody>\n</table>\n<p>233 rows × 7 columns</p>\n</div>"
     },
     "execution_count": 9,
     "metadata": {},
     "output_type": "execute_result"
    }
   ],
   "source": [
    "df_combined"
   ],
   "metadata": {
    "collapsed": false,
    "ExecuteTime": {
     "end_time": "2023-09-22T16:27:31.042969500Z",
     "start_time": "2023-09-22T16:27:31.034827500Z"
    }
   },
   "id": "e11b2aed29529573"
  },
  {
   "cell_type": "code",
   "execution_count": 5,
   "outputs": [],
   "source": [],
   "metadata": {
    "collapsed": false,
    "ExecuteTime": {
     "end_time": "2023-09-22T16:21:27.903778900Z",
     "start_time": "2023-09-22T16:21:27.897088500Z"
    }
   },
   "id": "5aa81272f3d8ffbb"
  },
  {
   "cell_type": "code",
   "execution_count": null,
   "outputs": [],
   "source": [],
   "metadata": {
    "collapsed": false
   },
   "id": "ff06f07f0d66e48a"
  }
 ],
 "metadata": {
  "kernelspec": {
   "display_name": "Python 3",
   "language": "python",
   "name": "python3"
  },
  "language_info": {
   "codemirror_mode": {
    "name": "ipython",
    "version": 2
   },
   "file_extension": ".py",
   "mimetype": "text/x-python",
   "name": "python",
   "nbconvert_exporter": "python",
   "pygments_lexer": "ipython2",
   "version": "2.7.6"
  }
 },
 "nbformat": 4,
 "nbformat_minor": 5
}
