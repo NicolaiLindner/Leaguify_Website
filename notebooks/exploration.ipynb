{
 "cells": [
  {
   "cell_type": "code",
   "execution_count": 1,
   "outputs": [],
   "source": [
    "import os\n",
    "from dotenv import load_dotenv\n",
    "import pandas as pd\n",
    "import matplotlib.pyplot as plt\n",
    "import seaborn as sns\n",
    "from sklearn.metrics import confusion_matrix\n",
    "\n",
    "\n",
    "#Scraping\n",
    "from selenium import webdriver\n",
    "from selenium.webdriver.chrome.service import Service\n",
    "from selenium.webdriver.common.by import By\n",
    "from selenium.webdriver.common.keys import Keys\n",
    "from selenium.webdriver.chrome.options import Options\n",
    "from selenium.webdriver.support.ui import WebDriverWait\n",
    "from selenium.webdriver.support import expected_conditions as EC\n",
    "import csv\n",
    "import time\n",
    "\n",
    "#BNN\n",
    "import numpy as np\n",
    "from sklearn import datasets\n",
    "\n",
    "import torch\n",
    "import torch.nn as nn\n",
    "import torch.optim as optim\n",
    "\n",
    "import torchbnn as bnn"
   ],
   "metadata": {
    "collapsed": false,
    "ExecuteTime": {
     "end_time": "2023-09-12T09:28:37.324174600Z",
     "start_time": "2023-09-12T09:28:32.049728Z"
    }
   },
   "id": "9cbce72fe190f372"
  },
  {
   "cell_type": "code",
   "execution_count": 21,
   "outputs": [],
   "source": [
    "# Load .env file\n",
    "load_dotenv('../.env.local')  # Adjust the relative path according to your directory structure\n",
    "\n",
    "# Get the project path from environment variables\n",
    "project_path = os.getenv('MY_PROJECT_PATH')\n",
    "\n",
    "# Read CSV into DataFrame\n",
    "df = pd.read_csv(project_path)"
   ],
   "metadata": {
    "collapsed": false,
    "ExecuteTime": {
     "end_time": "2023-09-12T06:40:39.607186800Z",
     "start_time": "2023-09-12T06:40:35.223843200Z"
    }
   },
   "id": "7a6a75a3ad49611f"
  },
  {
   "cell_type": "code",
   "execution_count": 26,
   "outputs": [
    {
     "data": {
      "text/plain": "   Unnamed: 0  Rank Champion Name Tier  Win rate  Pick Rate  Ban Rate  \\\n0           0     1         Swain    S     53.87       12.0       1.7   \n1           1     1         Swain    S     53.87       12.0       1.7   \n2           2     1         Swain    S     53.87       12.0       1.7   \n3           3     1         Swain    S     53.87       12.0       1.7   \n4           4     1         Swain    S     53.87       12.0       1.7   \n\n   Matches  gameDuration  allInPings  ...  turretTakedowns_y  \\\n0    19216          1711           0  ...                  7   \n1    19216          1987           0  ...                  1   \n2    19216          1495           0  ...                  1   \n3    19216          1528           1  ...                  1   \n4    19216          1155           0  ...                  0   \n\n   turretsTakenWithRiftHerald  twentyMinionsIn3SecondsCount  \\\n0                           0                             4   \n1                           0                             9   \n2                           0                             8   \n3                           5                             6   \n4                           0                             1   \n\n   twoWardsOneSweeperCount  unseenRecalls  visionScoreAdvantageLaneOpponent  \\\n0                        0              0                          0.731238   \n1                        0              0                         -0.407494   \n2                        0              0                         -0.782050   \n3                        0              0                         -0.055465   \n4                        0              0                         -0.218048   \n\n   visionScorePerMinute  wardTakedowns wardTakedownsBefore20M  wardsGuarded  \n0              1.166228              4                      2             1  \n1              0.594141              1                      1             0  \n2              0.388326              1                      0             0  \n3              0.637202              4                      3             0  \n4              1.941728              1                      1             0  \n\n[5 rows x 254 columns]",
      "text/html": "<div>\n<style scoped>\n    .dataframe tbody tr th:only-of-type {\n        vertical-align: middle;\n    }\n\n    .dataframe tbody tr th {\n        vertical-align: top;\n    }\n\n    .dataframe thead th {\n        text-align: right;\n    }\n</style>\n<table border=\"1\" class=\"dataframe\">\n  <thead>\n    <tr style=\"text-align: right;\">\n      <th></th>\n      <th>Unnamed: 0</th>\n      <th>Rank</th>\n      <th>Champion Name</th>\n      <th>Tier</th>\n      <th>Win rate</th>\n      <th>Pick Rate</th>\n      <th>Ban Rate</th>\n      <th>Matches</th>\n      <th>gameDuration</th>\n      <th>allInPings</th>\n      <th>...</th>\n      <th>turretTakedowns_y</th>\n      <th>turretsTakenWithRiftHerald</th>\n      <th>twentyMinionsIn3SecondsCount</th>\n      <th>twoWardsOneSweeperCount</th>\n      <th>unseenRecalls</th>\n      <th>visionScoreAdvantageLaneOpponent</th>\n      <th>visionScorePerMinute</th>\n      <th>wardTakedowns</th>\n      <th>wardTakedownsBefore20M</th>\n      <th>wardsGuarded</th>\n    </tr>\n  </thead>\n  <tbody>\n    <tr>\n      <th>0</th>\n      <td>0</td>\n      <td>1</td>\n      <td>Swain</td>\n      <td>S</td>\n      <td>53.87</td>\n      <td>12.0</td>\n      <td>1.7</td>\n      <td>19216</td>\n      <td>1711</td>\n      <td>0</td>\n      <td>...</td>\n      <td>7</td>\n      <td>0</td>\n      <td>4</td>\n      <td>0</td>\n      <td>0</td>\n      <td>0.731238</td>\n      <td>1.166228</td>\n      <td>4</td>\n      <td>2</td>\n      <td>1</td>\n    </tr>\n    <tr>\n      <th>1</th>\n      <td>1</td>\n      <td>1</td>\n      <td>Swain</td>\n      <td>S</td>\n      <td>53.87</td>\n      <td>12.0</td>\n      <td>1.7</td>\n      <td>19216</td>\n      <td>1987</td>\n      <td>0</td>\n      <td>...</td>\n      <td>1</td>\n      <td>0</td>\n      <td>9</td>\n      <td>0</td>\n      <td>0</td>\n      <td>-0.407494</td>\n      <td>0.594141</td>\n      <td>1</td>\n      <td>1</td>\n      <td>0</td>\n    </tr>\n    <tr>\n      <th>2</th>\n      <td>2</td>\n      <td>1</td>\n      <td>Swain</td>\n      <td>S</td>\n      <td>53.87</td>\n      <td>12.0</td>\n      <td>1.7</td>\n      <td>19216</td>\n      <td>1495</td>\n      <td>0</td>\n      <td>...</td>\n      <td>1</td>\n      <td>0</td>\n      <td>8</td>\n      <td>0</td>\n      <td>0</td>\n      <td>-0.782050</td>\n      <td>0.388326</td>\n      <td>1</td>\n      <td>0</td>\n      <td>0</td>\n    </tr>\n    <tr>\n      <th>3</th>\n      <td>3</td>\n      <td>1</td>\n      <td>Swain</td>\n      <td>S</td>\n      <td>53.87</td>\n      <td>12.0</td>\n      <td>1.7</td>\n      <td>19216</td>\n      <td>1528</td>\n      <td>1</td>\n      <td>...</td>\n      <td>1</td>\n      <td>5</td>\n      <td>6</td>\n      <td>0</td>\n      <td>0</td>\n      <td>-0.055465</td>\n      <td>0.637202</td>\n      <td>4</td>\n      <td>3</td>\n      <td>0</td>\n    </tr>\n    <tr>\n      <th>4</th>\n      <td>4</td>\n      <td>1</td>\n      <td>Swain</td>\n      <td>S</td>\n      <td>53.87</td>\n      <td>12.0</td>\n      <td>1.7</td>\n      <td>19216</td>\n      <td>1155</td>\n      <td>0</td>\n      <td>...</td>\n      <td>0</td>\n      <td>0</td>\n      <td>1</td>\n      <td>0</td>\n      <td>0</td>\n      <td>-0.218048</td>\n      <td>1.941728</td>\n      <td>1</td>\n      <td>1</td>\n      <td>0</td>\n    </tr>\n  </tbody>\n</table>\n<p>5 rows × 254 columns</p>\n</div>"
     },
     "execution_count": 26,
     "metadata": {},
     "output_type": "execute_result"
    }
   ],
   "source": [
    "# Display the DataFrame\n",
    "df.head()"
   ],
   "metadata": {
    "collapsed": false,
    "ExecuteTime": {
     "end_time": "2023-09-12T06:41:04.394845Z",
     "start_time": "2023-09-12T06:41:04.349045200Z"
    }
   },
   "id": "d8ef9ae87ecedd2"
  },
  {
   "cell_type": "raw",
   "source": [
    "# Test for u.gg champion info scraper per summoner"
   ],
   "metadata": {
    "collapsed": false
   },
   "id": "1184147ef0e11f2d"
  },
  {
   "cell_type": "code",
   "execution_count": 23,
   "outputs": [
    {
     "data": {
      "text/plain": "  Rank     Name       WinRate                     KDA Win rate Pick Rate  \\\n0    1      Vex  100% / 7W 0L   3.19\\n6.0 / 4.4 / 8.1                  7   \n1    2   Xerath   33% / 1W 2L  3.57\\n5.0 / 4.7 / 11.7                 10   \n2    3     Lulu  100% / 2W 0L  8.80\\n3.0 / 2.5 / 19.0                  3   \n3    4      Lux   50% / 1W 1L   5.17\\n8.0 / 3.0 / 7.5                  4   \n4    5  Morgana   50% / 1W 1L   4.20\\n3.0 / 2.5 / 7.5                  5   \n\n  Ban Rate     CS  \n0       11  178.4  \n1        8  219.7  \n2        5   16.5  \n3        8  239.5  \n4        3     14  ",
      "text/html": "<div>\n<style scoped>\n    .dataframe tbody tr th:only-of-type {\n        vertical-align: middle;\n    }\n\n    .dataframe tbody tr th {\n        vertical-align: top;\n    }\n\n    .dataframe thead th {\n        text-align: right;\n    }\n</style>\n<table border=\"1\" class=\"dataframe\">\n  <thead>\n    <tr style=\"text-align: right;\">\n      <th></th>\n      <th>Rank</th>\n      <th>Name</th>\n      <th>WinRate</th>\n      <th>KDA</th>\n      <th>Win rate</th>\n      <th>Pick Rate</th>\n      <th>Ban Rate</th>\n      <th>CS</th>\n    </tr>\n  </thead>\n  <tbody>\n    <tr>\n      <th>0</th>\n      <td>1</td>\n      <td>Vex</td>\n      <td>100% / 7W 0L</td>\n      <td>3.19\\n6.0 / 4.4 / 8.1</td>\n      <td></td>\n      <td>7</td>\n      <td>11</td>\n      <td>178.4</td>\n    </tr>\n    <tr>\n      <th>1</th>\n      <td>2</td>\n      <td>Xerath</td>\n      <td>33% / 1W 2L</td>\n      <td>3.57\\n5.0 / 4.7 / 11.7</td>\n      <td></td>\n      <td>10</td>\n      <td>8</td>\n      <td>219.7</td>\n    </tr>\n    <tr>\n      <th>2</th>\n      <td>3</td>\n      <td>Lulu</td>\n      <td>100% / 2W 0L</td>\n      <td>8.80\\n3.0 / 2.5 / 19.0</td>\n      <td></td>\n      <td>3</td>\n      <td>5</td>\n      <td>16.5</td>\n    </tr>\n    <tr>\n      <th>3</th>\n      <td>4</td>\n      <td>Lux</td>\n      <td>50% / 1W 1L</td>\n      <td>5.17\\n8.0 / 3.0 / 7.5</td>\n      <td></td>\n      <td>4</td>\n      <td>8</td>\n      <td>239.5</td>\n    </tr>\n    <tr>\n      <th>4</th>\n      <td>5</td>\n      <td>Morgana</td>\n      <td>50% / 1W 1L</td>\n      <td>4.20\\n3.0 / 2.5 / 7.5</td>\n      <td></td>\n      <td>5</td>\n      <td>3</td>\n      <td>14</td>\n    </tr>\n  </tbody>\n</table>\n</div>"
     },
     "execution_count": 23,
     "metadata": {},
     "output_type": "execute_result"
    }
   ],
   "source": [
    "url = \"https://u.gg/lol/profile/euw1/thehighground/champion-stats\"\n",
    "\n",
    "options = Options()\n",
    "options.add_argument(\"--headless\")\n",
    "options.binary_location = \"C:\\\\Users\\\\nicol\\\\Downloads\\\\chrome-win64\\\\chrome-win64\\\\chrome.exe\"  # Path to your Chrome executable\n",
    "\n",
    "service = Service(\"C:\\\\Users\\\\nicol\\\\Downloads\\\\chromedriver-win64\\\\chromedriver-win64\\\\chromedriver.exe\")\n",
    "driver = webdriver.Chrome(service=service, options=options)\n",
    "\n",
    "driver.get(url)\n",
    "\n",
    "wait = WebDriverWait(driver, 10)\n",
    "wait.until(EC.presence_of_all_elements_located((By.CSS_SELECTOR, \"div.rt-tr-group\")))\n",
    "\n",
    "data = []  # List to store each row of data\n",
    "\n",
    "while True:\n",
    "    # Scroll to the bottom of the page\n",
    "    driver.execute_script(\"window.scrollTo(0, document.body.scrollHeight);\")\n",
    "    time.sleep(1)\n",
    "    \n",
    "    # Scroll back to the top of the page\n",
    "    driver.execute_script(\"window.scrollTo(0, 0);\")\n",
    "    time.sleep(1)\n",
    "    \n",
    "    # Check if all rows have been loaded\n",
    "    rows = driver.find_elements(By.CSS_SELECTOR, \"div.rt-tr-group\")\n",
    "    if not rows or len(data) == len(rows):  # Adjusted condition to check data length instead of champions length\n",
    "        break\n",
    "    \n",
    "    # Otherwise, continue to extract the data\n",
    "    for i in range(len(data), len(rows)):\n",
    "        row = rows[i]\n",
    "        try:\n",
    "            name = row.find_element(By.CSS_SELECTOR, \"div.rt-td:nth-of-type(2)\").text.strip()\n",
    "            rank = row.find_element(By.CSS_SELECTOR, \"div.rt-td:nth-of-type(1)\").text.strip()\n",
    "            champion = row.find_element(By.CSS_SELECTOR, \"div.rt-td:nth-of-type(3)\").get_attribute(\"textContent\")\n",
    "            winrate_stats = row.find_element(By.CSS_SELECTOR, \"div.rt-td:nth-of-type(4)\").text.strip()\n",
    "            win_rate = row.find_element(By.CSS_SELECTOR, \"div.rt-td:nth-of-type(5)\").text.strip()\n",
    "            pick_rate = row.find_element(By.CSS_SELECTOR, \"div.rt-td:nth-of-type(7)\").text.strip()\n",
    "            ban_rate = row.find_element(By.CSS_SELECTOR, \"div.rt-td:nth-of-type(6)\").text.strip()\n",
    "            matches = row.find_element(By.CSS_SELECTOR, \"div.rt-td:nth-of-type(8)\").text.strip()\n",
    "    \n",
    "            # Append the extracted data to the data list\n",
    "            data.append([rank, name, champion, winrate_stats, win_rate, pick_rate,ban_rate, matches])\n",
    "        \n",
    "        except Exception as e:\n",
    "            print(f\"Error in row {i}: {e}\")\n",
    "\n",
    "\n",
    "# Convert the data list into a pandas DataFrame\n",
    "columns = ['Rank', 'Name', 'WinRate', 'KDA', 'Win rate', 'Pick Rate', 'Ban Rate', 'CS']\n",
    "df_scraped = pd.DataFrame(data, columns=columns)\n",
    "\n",
    "driver.quit()\n",
    "\n",
    "df_scraped.head()"
   ],
   "metadata": {
    "collapsed": false,
    "ExecuteTime": {
     "end_time": "2023-09-12T06:40:53.638292600Z",
     "start_time": "2023-09-12T06:40:39.619497200Z"
    }
   },
   "id": "b3152e5b29ea1a0c"
  },
  {
   "cell_type": "code",
   "execution_count": 24,
   "outputs": [
    {
     "data": {
      "text/plain": "  Champion WinsLoses Winrate   KDA   LP MaxKills MaxDeaths     CS Damage Gold\n0      Vex     7W 0L    100%  3.19  N/A       11         7  178.4    N/A  N/A\n1   Xerath     1W 2L     33%  3.57  N/A        8        10  219.7    N/A  N/A\n2     Lulu     2W 0L    100%  8.80  N/A        5         3   16.5    N/A  N/A\n3      Lux     1W 1L     50%  5.17  N/A        8         4  239.5    N/A  N/A\n4  Morgana     1W 1L     50%  4.20  N/A        3         5     14    N/A  N/A",
      "text/html": "<div>\n<style scoped>\n    .dataframe tbody tr th:only-of-type {\n        vertical-align: middle;\n    }\n\n    .dataframe tbody tr th {\n        vertical-align: top;\n    }\n\n    .dataframe thead th {\n        text-align: right;\n    }\n</style>\n<table border=\"1\" class=\"dataframe\">\n  <thead>\n    <tr style=\"text-align: right;\">\n      <th></th>\n      <th>Champion</th>\n      <th>WinsLoses</th>\n      <th>Winrate</th>\n      <th>KDA</th>\n      <th>LP</th>\n      <th>MaxKills</th>\n      <th>MaxDeaths</th>\n      <th>CS</th>\n      <th>Damage</th>\n      <th>Gold</th>\n    </tr>\n  </thead>\n  <tbody>\n    <tr>\n      <th>0</th>\n      <td>Vex</td>\n      <td>7W 0L</td>\n      <td>100%</td>\n      <td>3.19</td>\n      <td>N/A</td>\n      <td>11</td>\n      <td>7</td>\n      <td>178.4</td>\n      <td>N/A</td>\n      <td>N/A</td>\n    </tr>\n    <tr>\n      <th>1</th>\n      <td>Xerath</td>\n      <td>1W 2L</td>\n      <td>33%</td>\n      <td>3.57</td>\n      <td>N/A</td>\n      <td>8</td>\n      <td>10</td>\n      <td>219.7</td>\n      <td>N/A</td>\n      <td>N/A</td>\n    </tr>\n    <tr>\n      <th>2</th>\n      <td>Lulu</td>\n      <td>2W 0L</td>\n      <td>100%</td>\n      <td>8.80</td>\n      <td>N/A</td>\n      <td>5</td>\n      <td>3</td>\n      <td>16.5</td>\n      <td>N/A</td>\n      <td>N/A</td>\n    </tr>\n    <tr>\n      <th>3</th>\n      <td>Lux</td>\n      <td>1W 1L</td>\n      <td>50%</td>\n      <td>5.17</td>\n      <td>N/A</td>\n      <td>8</td>\n      <td>4</td>\n      <td>239.5</td>\n      <td>N/A</td>\n      <td>N/A</td>\n    </tr>\n    <tr>\n      <th>4</th>\n      <td>Morgana</td>\n      <td>1W 1L</td>\n      <td>50%</td>\n      <td>4.20</td>\n      <td>N/A</td>\n      <td>3</td>\n      <td>5</td>\n      <td>14</td>\n      <td>N/A</td>\n      <td>N/A</td>\n    </tr>\n  </tbody>\n</table>\n</div>"
     },
     "execution_count": 24,
     "metadata": {},
     "output_type": "execute_result"
    }
   ],
   "source": [
    "from selenium import webdriver\n",
    "from selenium.webdriver.chrome.service import Service\n",
    "from selenium.webdriver.common.by import By\n",
    "from selenium.webdriver.support.ui import WebDriverWait\n",
    "from selenium.webdriver.support import expected_conditions as EC\n",
    "from selenium.webdriver.chrome.options import Options\n",
    "import pandas as pd\n",
    "import time\n",
    "\n",
    "url = \"https://u.gg/lol/profile/euw1/thehighground/champion-stats\"\n",
    "\n",
    "options = Options()\n",
    "options.add_argument(\"--headless\")\n",
    "options.binary_location = \"C:\\\\Users\\\\nicol\\\\Downloads\\\\chrome-win64\\\\chrome-win64\\\\chrome.exe\"\n",
    "\n",
    "service = Service(\"C:\\\\Users\\\\nicol\\\\Downloads\\\\chromedriver-win64\\\\chromedriver-win64\\\\chromedriver.exe\")\n",
    "driver = webdriver.Chrome(service=service, options=options)\n",
    "\n",
    "driver.get(url)\n",
    "\n",
    "wait = WebDriverWait(driver, 10)\n",
    "wait.until(EC.presence_of_all_elements_located((By.CSS_SELECTOR, \"div.rt-tr-group\")))\n",
    "\n",
    "# ... (your existing imports and setup code)\n",
    "\n",
    "# Initialize list to store each row of data\n",
    "data = []\n",
    "\n",
    "# Get all the rows\n",
    "rows = driver.find_elements(By.CSS_SELECTOR, \"div.rt-tr-group\")\n",
    "\n",
    "for i in range(1, len(rows) + 1):  # start from 1 because CSS nth-child starts from 1\n",
    "    try:\n",
    "        # Create CSS selectors based on the row number for each column\n",
    "        selectors = {\n",
    "            'Champion': f\"div.rt-tr-group:nth-child({i}) > div:nth-child(1) > div:nth-child(2) > div:nth-child(1) > span:nth-child(2)\",\n",
    "            'WinRate': f\"div.rt-tr-group:nth-child({i}) > div:nth-child(1) > div:nth-child(3) > div:nth-child(1) > span:nth-child(3)\",\n",
    "            'StrongRate': f\"div.rt-tr-group:nth-child({i}) > div:nth-child(1) > div:nth-child(3) > div:nth-child(1) > strong:nth-child(1)\",\n",
    "            'KDA': f\"div.rt-tr-group:nth-child({i}) > div:nth-child(1) > div:nth-child(4) > div:nth-child(1) > div:nth-child(1) > strong:nth-child(1)\",\n",
    "            'LP': f\"div.rt-tr-group:nth-child({i}) > div:nth-child(1) > div:nth-child(5) > span:nth-child(1)\",\n",
    "            'MaxKills': f\"div.rt-tr-group:nth-child({i}) > div:nth-child(1) > div:nth-child(6) > span:nth-child(1)\",\n",
    "            'MaxDeaths': f\"div.rt-tr-group:nth-child({i}) > div:nth-child(1) > div:nth-child(7)\",\n",
    "            'CS': f\"div.rt-tr-group:nth-child({i}) > div:nth-child(1) > div:nth-child(8) > span:nth-child(1)\",\n",
    "            'Damage': f\"div.rt-tr-group:nth-child({i}) > div:nth-child(1) > div:nth-child(9) > span:nth-child(1)\",\n",
    "            'Gold': f\"div.rt-tr-group:nth-child({i}) > div:nth-child(1) > div:nth-child(10) > span:nth-child(1)\"\n",
    "        }\n",
    "        \n",
    "        # Find the elements and extract the text\n",
    "        row_data = []\n",
    "        for key, selector in selectors.items():\n",
    "            element = driver.find_element(By.CSS_SELECTOR, selector)\n",
    "            text = element.text.strip() if element.text else 'N/A'\n",
    "            row_data.append(text)\n",
    "        \n",
    "        # Append to data list\n",
    "        data.append(row_data)\n",
    "        \n",
    "    except Exception as e:\n",
    "        print(f\"Error in row {i}: {e}\")\n",
    "\n",
    "# Convert the data to a DataFrame\n",
    "columns = ['Champion', 'WinsLoses', 'Winrate', 'KDA', 'LP', 'MaxKills', 'MaxDeaths', 'CS', 'Damage', 'Gold']\n",
    "df_individual = pd.DataFrame(data, columns=columns)\n",
    "\n",
    "# Close the driver\n",
    "driver.quit()\n",
    "\n",
    "# Display the DataFrame (you could also save it to a file)\n",
    "df_individual.head()"
   ],
   "metadata": {
    "collapsed": false,
    "ExecuteTime": {
     "end_time": "2023-09-12T06:41:04.350111800Z",
     "start_time": "2023-09-12T06:40:53.631292900Z"
    }
   },
   "id": "23831ee41d959dcc"
  },
  {
   "cell_type": "code",
   "execution_count": 24,
   "outputs": [],
   "source": [],
   "metadata": {
    "collapsed": false,
    "ExecuteTime": {
     "end_time": "2023-09-12T06:41:04.350111800Z",
     "start_time": "2023-09-12T06:41:04.340267100Z"
    }
   },
   "id": "6bc7e3ced2edcb0"
  },
  {
   "cell_type": "code",
   "execution_count": 26,
   "outputs": [],
   "source": [],
   "metadata": {
    "collapsed": false,
    "ExecuteTime": {
     "end_time": "2023-09-12T06:47:11.379343900Z",
     "start_time": "2023-09-12T06:47:11.377339800Z"
    }
   },
   "id": "73260f07da312cb3"
  },
  {
   "cell_type": "code",
   "execution_count": null,
   "outputs": [],
   "source": [
    "from sklearn import preprocessing\n",
    "from sklearn.model_selection import train_test_split\n",
    "import torch\n",
    "import torch.nn as nn\n",
    "import torch.optim as optim\n",
    "\n",
    "# Step 1: Data Preprocessing\n",
    "# Select features and target\n",
    "feature_columns = ['Tier', 'Win rate', 'Pick Rate', 'Ban Rate', 'Matches', 'gameDuration', 'championId', 'summonerLevel', 'teamId']\n",
    "target_column = 'win'\n",
    "\n",
    "# Handle categorical variables and fill NaNs\n",
    "df[feature_columns] = df[feature_columns].apply(lambda x: x.astype('category').cat.codes if x.dtype == 'object' else x)\n",
    "df[feature_columns] = df[feature_columns].fillna(df[feature_columns].mean())\n",
    "\n",
    "# Split data into training and testing sets\n",
    "X = df[feature_columns].values\n",
    "Y = df[target_column].values\n",
    "\n",
    "# Scale the features\n",
    "scaler = preprocessing.StandardScaler().fit(X)\n",
    "X_scaled = scaler.transform(X)\n",
    "\n",
    "# Convert to PyTorch tensors\n",
    "x, y = torch.from_numpy(X_scaled).float(), torch.from_numpy(Y).long()\n",
    "\n",
    "# Step 2: Define Model\n",
    "model = nn.Sequential(\n",
    "    nn.Linear(in_features=len(feature_columns), out_features=100),\n",
    "    nn.ReLU(),\n",
    "    nn.Linear(in_features=100, out_features=2)\n",
    ")\n",
    "\n",
    "ce_loss = nn.CrossEntropyLoss()\n",
    "optimizer = optim.Adam(model.parameters(), lr=0.01)\n",
    "\n",
    "# Step 3: Train Model\n",
    "for step in range(10000):\n",
    "    pre = model(x)\n",
    "    ce = ce_loss(pre, y)\n",
    "    \n",
    "    optimizer.zero_grad()\n",
    "    ce.backward()\n",
    "    optimizer.step()\n",
    "\n",
    "_, predicted = torch.max(pre.data, 1)\n",
    "total = y.size(0)\n",
    "correct = (predicted == y).sum()\n",
    "print('- Accuracy: %f %%' % (100 * float(correct) / total))\n",
    "print('- CE : %2.2f' % (ce.item()))\n",
    "\n",
    "# Step 4: Test Model\n",
    "# ... (You can use your own visualization method similar to draw_plot function)\n"
   ],
   "metadata": {
    "collapsed": false,
    "is_executing": true,
    "ExecuteTime": {
     "start_time": "2023-09-12T07:01:39.112028100Z"
    }
   },
   "id": "50b02cc0564c311f"
  },
  {
   "cell_type": "code",
   "execution_count": null,
   "outputs": [],
   "source": [
    "def plot_confusion_matrix(y_true, y_pred):\n",
    "    cm = confusion_matrix(y_true, y_pred)\n",
    "    plt.figure(figsize=(8, 6))\n",
    "    sns.set(font_scale=1.2)\n",
    "    sns.heatmap(cm, annot=True, fmt='g', cmap='Blues', cbar=False)\n",
    "    plt.xlabel('Predicted')\n",
    "    plt.ylabel('True')\n",
    "    plt.show()\n",
    "    \n",
    "plot_confusion_matrix(y.numpy(), predicted.numpy())"
   ],
   "metadata": {
    "collapsed": false,
    "is_executing": true
   },
   "id": "714a997ec00f6ef9"
  },
  {
   "cell_type": "code",
   "execution_count": 33,
   "outputs": [
    {
     "name": "stdout",
     "output_type": "stream",
     "text": [
      "- Accuracy: 50.514900 %\n",
      "- CE : 0.70, KL : 0.07\n"
     ]
    },
    {
     "data": {
      "text/plain": "<Figure size 800x600 with 1 Axes>",
      "image/png": "[encoded data removed]"
     },
     "metadata": {},
     "output_type": "display_data"
    }
   ],
   "source": [
    "model = nn.Sequential(\n",
    "    bnn.BayesLinear(prior_mu=0, prior_sigma=0.1, in_features=len(feature_columns), out_features=100),\n",
    "    nn.ReLU(),\n",
    "    bnn.BayesLinear(prior_mu=0, prior_sigma=0.1, in_features=100, out_features=2),\n",
    ")\n",
    "\n",
    "# Loss and Optimizer\n",
    "ce_loss = nn.CrossEntropyLoss()\n",
    "kl_loss = bnn.BKLLoss(reduction='mean', last_layer_only=False)\n",
    "optimizer = optim.Adam(model.parameters(), lr=0.01)\n",
    "\n",
    "# Train Model\n",
    "for step in range(3000):\n",
    "    pre = model(x)\n",
    "    ce = ce_loss(pre, y)\n",
    "    kl = kl_loss(model)\n",
    "    cost = ce + 0.1 * kl\n",
    "    \n",
    "    optimizer.zero_grad()\n",
    "    cost.backward()\n",
    "    optimizer.step()\n",
    "\n",
    "_, predicted = torch.max(pre.data, 1)\n",
    "total = y.size(0)\n",
    "correct = (predicted == y).sum()\n",
    "print('- Accuracy: %f %%' % (100 * float(correct) / total))\n",
    "print('- CE : %2.2f, KL : %2.2f' % (ce.item(), kl.item()))\n",
    "\n",
    "# Confusion Matrix Function\n",
    "def plot_confusion_matrix(y_true, y_pred):\n",
    "    cm = confusion_matrix(y_true, y_pred)\n",
    "    plt.figure(figsize=(8, 6))\n",
    "    sns.set(font_scale=1.2)\n",
    "    sns.heatmap(cm, annot=True, fmt='g', cmap='Blues', cbar=False)\n",
    "    plt.xlabel('Predicted')\n",
    "    plt.ylabel('True')\n",
    "    plt.show()\n",
    "\n",
    "# Visualization\n",
    "plot_confusion_matrix(y.numpy(), predicted.numpy())"
   ],
   "metadata": {
    "collapsed": false,
    "ExecuteTime": {
     "end_time": "2023-09-12T07:01:03.260426400Z",
     "start_time": "2023-09-12T06:56:00.627169100Z"
    }
   },
   "id": "5d881c13159e490d"
  },
  {
   "cell_type": "code",
   "execution_count": 10,
   "outputs": [
    {
     "data": {
      "text/plain": "  Champion WinsLoses Winrate   KDA KillsDeathsAssists    LP MaxKills  \\\n0      Vex     7W 0L    100%  3.19        6.0/4.4/8.1   0LP       11   \n1   Xerath     1W 2L     33%  3.57       5.0/4.7/11.7   0LP        8   \n2     Lulu     2W 0L    100%  8.80       3.0/2.5/19.0  36LP        5   \n3      Lux     1W 1L     50%  5.17        8.0/3.0/7.5   0LP        8   \n4  Morgana     1W 1L     50%  4.20        3.0/2.5/7.5   0LP        3   \n\n  MaxDeaths     CS  Damage    Gold  \n0         7  178.4  20,298  10,644  \n1        10  219.7  27,957  13,369  \n2         3   16.5   7,046   9,397  \n3         4  239.5  24,557  13,452  \n4         5     14  13,531   6,904  ",
      "text/html": "<div>\n<style scoped>\n    .dataframe tbody tr th:only-of-type {\n        vertical-align: middle;\n    }\n\n    .dataframe tbody tr th {\n        vertical-align: top;\n    }\n\n    .dataframe thead th {\n        text-align: right;\n    }\n</style>\n<table border=\"1\" class=\"dataframe\">\n  <thead>\n    <tr style=\"text-align: right;\">\n      <th></th>\n      <th>Champion</th>\n      <th>WinsLoses</th>\n      <th>Winrate</th>\n      <th>KDA</th>\n      <th>KillsDeathsAssists</th>\n      <th>LP</th>\n      <th>MaxKills</th>\n      <th>MaxDeaths</th>\n      <th>CS</th>\n      <th>Damage</th>\n      <th>Gold</th>\n    </tr>\n  </thead>\n  <tbody>\n    <tr>\n      <th>0</th>\n      <td>Vex</td>\n      <td>7W 0L</td>\n      <td>100%</td>\n      <td>3.19</td>\n      <td>6.0/4.4/8.1</td>\n      <td>0LP</td>\n      <td>11</td>\n      <td>7</td>\n      <td>178.4</td>\n      <td>20,298</td>\n      <td>10,644</td>\n    </tr>\n    <tr>\n      <th>1</th>\n      <td>Xerath</td>\n      <td>1W 2L</td>\n      <td>33%</td>\n      <td>3.57</td>\n      <td>5.0/4.7/11.7</td>\n      <td>0LP</td>\n      <td>8</td>\n      <td>10</td>\n      <td>219.7</td>\n      <td>27,957</td>\n      <td>13,369</td>\n    </tr>\n    <tr>\n      <th>2</th>\n      <td>Lulu</td>\n      <td>2W 0L</td>\n      <td>100%</td>\n      <td>8.80</td>\n      <td>3.0/2.5/19.0</td>\n      <td>36LP</td>\n      <td>5</td>\n      <td>3</td>\n      <td>16.5</td>\n      <td>7,046</td>\n      <td>9,397</td>\n    </tr>\n    <tr>\n      <th>3</th>\n      <td>Lux</td>\n      <td>1W 1L</td>\n      <td>50%</td>\n      <td>5.17</td>\n      <td>8.0/3.0/7.5</td>\n      <td>0LP</td>\n      <td>8</td>\n      <td>4</td>\n      <td>239.5</td>\n      <td>24,557</td>\n      <td>13,452</td>\n    </tr>\n    <tr>\n      <th>4</th>\n      <td>Morgana</td>\n      <td>1W 1L</td>\n      <td>50%</td>\n      <td>4.20</td>\n      <td>3.0/2.5/7.5</td>\n      <td>0LP</td>\n      <td>3</td>\n      <td>5</td>\n      <td>14</td>\n      <td>13,531</td>\n      <td>6,904</td>\n    </tr>\n  </tbody>\n</table>\n</div>"
     },
     "execution_count": 10,
     "metadata": {},
     "output_type": "execute_result"
    }
   ],
   "source": [
    "from selenium import webdriver\n",
    "from selenium.webdriver.chrome.service import Service\n",
    "from selenium.webdriver.common.by import By\n",
    "from selenium.webdriver.support.ui import WebDriverWait\n",
    "from selenium.webdriver.support import expected_conditions as EC\n",
    "from selenium.webdriver.chrome.options import Options\n",
    "from bs4 import BeautifulSoup\n",
    "import pandas as pd\n",
    "import time\n",
    "\n",
    "# URL\n",
    "url = \"https://u.gg/lol/profile/euw1/thehighground/champion-stats\"\n",
    "\n",
    "options = Options()\n",
    "options.add_argument(\"--headless\")\n",
    "options.binary_location = \"C:\\\\Users\\\\nicol\\\\Downloads\\\\chrome-win64\\\\chrome-win64\\\\chrome.exe\"\n",
    "\n",
    "service = Service(\"C:\\\\Users\\\\nicol\\\\Downloads\\\\chromedriver-win64\\\\chromedriver-win64\\\\chromedriver.exe\")\n",
    "driver = webdriver.Chrome(service=service, options=options)\n",
    "\n",
    "driver.get(url)\n",
    "\n",
    "wait = WebDriverWait(driver, 10)\n",
    "wait.until(EC.presence_of_all_elements_located((By.CSS_SELECTOR, \"div.rt-tr-group\")))\n",
    "\n",
    "# Initialize list to store each row of data\n",
    "data = []\n",
    "\n",
    "# Get page source and create BeautifulSoup object\n",
    "soup = BeautifulSoup(driver.page_source, 'html.parser')\n",
    "\n",
    "# Close the driver\n",
    "driver.quit()\n",
    "\n",
    "# Get all the rows using BeautifulSoup\n",
    "rows = soup.select(\"div.rt-tr-group\")\n",
    "\n",
    "for i, row in enumerate(rows, 1):  # start from 1 because CSS nth-child starts from 1\n",
    "    try:\n",
    "        selectors = {\n",
    "            'Champion': \"div:nth-child(1) > div:nth-child(2) > div:nth-child(1) > span:nth-child(2)\",\n",
    "            'WinsLoses': \"div:nth-child(1) > div:nth-child(3) > div:nth-child(1) > span:nth-child(3)\",\n",
    "            'Winrate': \"div:nth-child(1) > div:nth-child(3) > div:nth-child(1) > strong:nth-child(1)\",\n",
    "            'KDA': \"div:nth-child(1) > div:nth-child(4) > div:nth-child(1) > div:nth-child(1) > strong:nth-child(1)\",\n",
    "            'KillsDeathsAssists': \"div:nth-child(1) > div:nth-child(4) > div:nth-child(1) > span:nth-child(2)\",  # New field\n",
    "            'LP': \"div:nth-child(1) > div:nth-child(5) > span:nth-child(1)\",\n",
    "            'MaxKills': \"div:nth-child(1) > div:nth-child(6) > span:nth-child(1)\",\n",
    "            'MaxDeaths': \"div:nth-child(1) > div:nth-child(7)\",\n",
    "            'CS': \"div:nth-child(1) > div:nth-child(8) > span:nth-child(1)\",\n",
    "            'Damage': \"div:nth-child(1) > div:nth-child(9) > span:nth-child(1)\",\n",
    "            'Gold': \"div:nth-child(1) > div:nth-child(10) > span:nth-child(1)\"\n",
    "        }\n",
    "        \n",
    "        row_data = []\n",
    "        for key, selector in selectors.items():\n",
    "            element = row.select_one(selector)\n",
    "            text = element.get_text(strip=True) if element else 'N/A'\n",
    "            row_data.append(text)\n",
    "        \n",
    "        data.append(row_data)\n",
    "        \n",
    "    except Exception as e:\n",
    "        print(f\"Error in row {i}: {e}\")\n",
    "\n",
    "# Convert the data to a DataFrame\n",
    "columns = ['Champion', 'WinsLoses', 'Winrate', 'KDA', 'KillsDeathsAssists', 'LP', 'MaxKills', 'MaxDeaths', 'CS', 'Damage', 'Gold']\n",
    "df_individual = pd.DataFrame(data, columns=columns)\n",
    "\n",
    "# Display the DataFrame\n",
    "df_individual.head()"
   ],
   "metadata": {
    "collapsed": false,
    "ExecuteTime": {
     "end_time": "2023-09-12T08:42:43.442046900Z",
     "start_time": "2023-09-12T08:42:33.976321500Z"
    }
   },
   "id": "6e7fc8a0e365da8a"
  },
  {
   "cell_type": "code",
   "execution_count": 17,
   "outputs": [],
   "source": [
    "from selenium import webdriver\n",
    "from selenium.webdriver.chrome.service import Service\n",
    "from selenium.webdriver.common.by import By\n",
    "from selenium.webdriver.support.ui import WebDriverWait\n",
    "from selenium.webdriver.support import expected_conditions as EC\n",
    "from selenium.webdriver.chrome.options import Options\n",
    "from bs4 import BeautifulSoup\n",
    "import pandas as pd\n",
    "import time\n",
    "\n",
    "# URL\n",
    "url = \"https://u.gg/lol/profile/euw1/leaguify/champion-stats?queueType=normal_draft_5x5\"\n",
    "\n",
    "options = Options()\n",
    "options.add_argument(\"--headless\")\n",
    "options.binary_location = \"C:\\\\Users\\\\nicol\\\\Downloads\\\\chrome-win64\\\\chrome-win64\\\\chrome.exe\"\n",
    "\n",
    "service = Service(\"C:\\\\Users\\\\nicol\\\\Downloads\\\\chromedriver-win64\\\\chromedriver-win64\\\\chromedriver.exe\")\n",
    "driver = webdriver.Chrome(service=service, options=options)\n",
    "\n",
    "driver.get(url)\n",
    "\n",
    "wait = WebDriverWait(driver, 10)\n",
    "wait.until(EC.presence_of_all_elements_located((By.CSS_SELECTOR, \"div.rt-tr-group\")))\n",
    "\n",
    "# Initialize list to store each row of data\n",
    "data = []\n",
    "\n",
    "# Get page source and create BeautifulSoup object\n",
    "soup = BeautifulSoup(driver.page_source, 'html.parser')\n",
    "\n",
    "# Close the driver\n",
    "driver.quit()\n",
    "\n",
    "# Get all the rows using BeautifulSoup\n",
    "rows = soup.select(\"div.rt-tr-group\")\n",
    "\n",
    "for i, row in enumerate(rows, 1):  # start from 1 because CSS nth-child starts from 1\n",
    "    try:\n",
    "        selectors = {\n",
    "            'Champion': \"div:nth-child(1) > div:nth-child(2) > div:nth-child(1) > span:nth-child(2)\",\n",
    "            'WinsLoses': \"div:nth-child(1) > div:nth-child(3) > div:nth-child(1) > span:nth-child(3)\",\n",
    "            'Winrate': \"div:nth-child(1) > div:nth-child(3) > div:nth-child(1) > strong:nth-child(1)\",\n",
    "            'KDA': \"div:nth-child(1) > div:nth-child(4) > div:nth-child(1) > div:nth-child(1) > strong:nth-child(1)\",\n",
    "            'KillsDeathsAssists': \"div:nth-child(1) > div:nth-child(4) > div:nth-child(1) > span:nth-child(2)\",\n",
    "            'LP': \"div:nth-child(1) > div:nth-child(5) > span:nth-child(1)\",\n",
    "            'MaxKills': \"div:nth-child(1) > div:nth-child(6) > span:nth-child(1)\",\n",
    "            'MaxDeaths': \"div:nth-child(1) > div:nth-child(7)\",\n",
    "            'CS': \"div:nth-child(1) > div:nth-child(8) > span:nth-child(1)\",\n",
    "            'Damage': \"div:nth-child(1) > div:nth-child(9) > span:nth-child(1)\",\n",
    "            'Gold': \"div:nth-child(1) > div:nth-child(10) > span:nth-child(1)\"\n",
    "        }\n",
    "        \n",
    "        row_data = []\n",
    "        for key, selector in selectors.items():\n",
    "            element = row.select_one(selector)\n",
    "            text = element.get_text(strip=True) if element else 'N/A'\n",
    "            row_data.append(text)\n",
    "        \n",
    "        data.append(row_data)\n",
    "        \n",
    "    except Exception as e:\n",
    "        print(f\"Error in row {i}: {e}\")\n",
    "\n",
    "# Convert the data to a DataFrame\n",
    "columns = ['Champion', 'WinsLoses', 'Winrate', 'KDA', 'KillsDeathsAssists', 'LP', 'MaxKills', 'MaxDeaths', 'CS', 'Damage', 'Gold']\n",
    "df_individual = pd.DataFrame(data, columns=columns)"
   ],
   "metadata": {
    "collapsed": false,
    "ExecuteTime": {
     "end_time": "2023-09-12T08:45:59.145923600Z",
     "start_time": "2023-09-12T08:45:49.194593300Z"
    }
   },
   "id": "397fc8ddb8389724"
  },
  {
   "cell_type": "code",
   "execution_count": 18,
   "outputs": [
    {
     "data": {
      "text/plain": "          Champion WinsLoses Winrate      KDA KillsDeathsAssists   LP  \\\n0          Rek'Sai    13W 5L     72%     4.26        9.2/4.1/8.1  0LP   \n1            Poppy     0W 8L      0%     3.29      11.4/7.0/11.6  0LP   \n2            Diana     2W 4L     33%     2.91       10.0/5.5/6.0  0LP   \n3        Jarvan IV     2W 3L     40%     3.83       7.6/4.8/10.8  0LP   \n4             Ekko     2W 2L     50%     2.45        9.0/5.5/4.5  0LP   \n5          Kha'Zix     3W 1L     75%     4.15       12.8/5.0/8.0  0LP   \n6            Senna     3W 1L     75%     2.88       6.3/6.3/11.8  0LP   \n7          Kindred     3W 0L    100%     6.33        4.0/2.0/8.7  0LP   \n8           Lillia     2W 1L     67%     3.20        5.7/3.3/5.0  0LP   \n9            Rakan     1W 2L     33%     5.75       3.0/4.0/20.0  0LP   \n10         Lee Sin     1W 1L     50%     3.00        7.5/5.0/7.5  0LP   \n11          Maokai     2W 0L    100%     4.83        5.5/3.0/9.0  0LP   \n12        Nautilus     0W 2L      0%     1.47        1.5/7.5/9.5  0LP   \n13           Taric     0W 2L      0%     3.73       2.5/5.5/18.0  0LP   \n14        Xin Zhao     1W 1L     50%     2.55        8.5/5.5/5.5  0LP   \n15             Zac     1W 1L     50%     4.60        6.0/2.5/5.5  0LP   \n16            Ashe     0W 1L      0%     3.83      13.0/6.0/10.0  0LP   \n17            Bard     0W 1L      0%     2.57       1.0/7.0/17.0  0LP   \n18            Gnar     0W 1L      0%     1.40       9.0/10.0/5.0  0LP   \n19          Graves     1W 0L    100%  Perfect        3.0/0.0/1.0  0LP   \n20            Kayn     0W 1L      0%     0.78        4.0/9.0/3.0  0LP   \n21        Malzahar     1W 0L    100%     5.50        6.0/2.0/5.0  0LP   \n22       Master Yi     0W 1L      0%     2.71       11.0/7.0/8.0  0LP   \n23    Miss Fortune     1W 0L    100%     2.50        9.0/6.0/6.0  0LP   \n24           Neeko     1W 0L    100%     2.75       4.0/8.0/18.0  0LP   \n25        Nocturne     1W 0L    100%     7.00       12.0/3.0/9.0  0LP   \n26  Nunu & Willump     0W 1L      0%     1.70      13.0/10.0/4.0  0LP   \n27            Pyke     0W 1L      0%     3.20        7.0/5.0/9.0  0LP   \n28          Rengar     0W 1L      0%     2.60        9.0/5.0/4.0  0LP   \n29         Shyvana     0W 1L      0%     5.50       5.0/4.0/17.0  0LP   \n30            Sion     1W 0L    100%     6.50        5.0/2.0/8.0  0LP   \n31        Tristana     1W 0L    100%     5.60      17.0/5.0/11.0  0LP   \n32         Trundle     1W 0L    100%     3.38       8.0/8.0/19.0  0LP   \n33           Vayne     0W 1L      0%     1.00        2.0/2.0/0.0  0LP   \n34           Viego     1W 0L    100%     1.60        3.0/5.0/5.0  0LP   \n35          Viktor     1W 0L    100%     1.25        4.0/8.0/6.0  0LP   \n36           Xayah     0W 1L      0%     0.86        3.0/7.0/3.0  0LP   \n\n   MaxKills MaxDeaths     CS  Damage    Gold  \n0        19         9    149  18,786  11,911  \n1        18        11  210.6  31,369  16,477  \n2        22        10    193  27,020  13,757  \n3         9         7  157.4  16,030  12,179  \n4        19         8  144.5  18,891  12,116  \n5        19         8    150  26,112  13,646  \n6        10         9   31.3  18,022  11,159  \n7         7         5  161.7  15,077   9,931  \n8         7         6    144  14,462  10,022  \n9         4         5     38  10,776   9,169  \n10       15         7    123  19,218  10,797  \n11        9         4  144.5  17,061  10,676  \n12        2         9   38.5   8,501   7,579  \n13        3         6     39   8,060   8,983  \n14       12         6    187  29,099  12,974  \n15        7         5  106.5   7,493   7,786  \n16       13         6    317  38,330  19,521  \n17        1         7     23  13,075   8,738  \n18        9        10    183  30,820  13,124  \n19        3         0    100   4,665   6,070  \n20        4         9    189  10,538  11,621  \n21        6         2    176  12,955   9,822  \n22       11         7    177  27,162  13,142  \n23        9         6    225  23,453  14,022  \n24        4         8     32  24,812   9,025  \n25       12         3    191  24,443  14,367  \n26       13        10    123  19,867  12,863  \n27        7         5     38   9,889   8,082  \n28        9         5    165  18,093  13,059  \n29        5         4    318  31,711  18,582  \n30        5         2    142   9,539  10,730  \n31       17         5    181  26,458  14,834  \n32        8         8    244  24,731  17,645  \n33        2         2     90   3,485   4,550  \n34        3         5    216  14,226  12,883  \n35        4         8    132  15,909   9,956  \n36        3         7    294  24,410  13,277  ",
      "text/html": "<div>\n<style scoped>\n    .dataframe tbody tr th:only-of-type {\n        vertical-align: middle;\n    }\n\n    .dataframe tbody tr th {\n        vertical-align: top;\n    }\n\n    .dataframe thead th {\n        text-align: right;\n    }\n</style>\n<table border=\"1\" class=\"dataframe\">\n  <thead>\n    <tr style=\"text-align: right;\">\n      <th></th>\n      <th>Champion</th>\n      <th>WinsLoses</th>\n      <th>Winrate</th>\n      <th>KDA</th>\n      <th>KillsDeathsAssists</th>\n      <th>LP</th>\n      <th>MaxKills</th>\n      <th>MaxDeaths</th>\n      <th>CS</th>\n      <th>Damage</th>\n      <th>Gold</th>\n    </tr>\n  </thead>\n  <tbody>\n    <tr>\n      <th>0</th>\n      <td>Rek'Sai</td>\n      <td>13W 5L</td>\n      <td>72%</td>\n      <td>4.26</td>\n      <td>9.2/4.1/8.1</td>\n      <td>0LP</td>\n      <td>19</td>\n      <td>9</td>\n      <td>149</td>\n      <td>18,786</td>\n      <td>11,911</td>\n    </tr>\n    <tr>\n      <th>1</th>\n      <td>Poppy</td>\n      <td>0W 8L</td>\n      <td>0%</td>\n      <td>3.29</td>\n      <td>11.4/7.0/11.6</td>\n      <td>0LP</td>\n      <td>18</td>\n      <td>11</td>\n      <td>210.6</td>\n      <td>31,369</td>\n      <td>16,477</td>\n    </tr>\n    <tr>\n      <th>2</th>\n      <td>Diana</td>\n      <td>2W 4L</td>\n      <td>33%</td>\n      <td>2.91</td>\n      <td>10.0/5.5/6.0</td>\n      <td>0LP</td>\n      <td>22</td>\n      <td>10</td>\n      <td>193</td>\n      <td>27,020</td>\n      <td>13,757</td>\n    </tr>\n    <tr>\n      <th>3</th>\n      <td>Jarvan IV</td>\n      <td>2W 3L</td>\n      <td>40%</td>\n      <td>3.83</td>\n      <td>7.6/4.8/10.8</td>\n      <td>0LP</td>\n      <td>9</td>\n      <td>7</td>\n      <td>157.4</td>\n      <td>16,030</td>\n      <td>12,179</td>\n    </tr>\n    <tr>\n      <th>4</th>\n      <td>Ekko</td>\n      <td>2W 2L</td>\n      <td>50%</td>\n      <td>2.45</td>\n      <td>9.0/5.5/4.5</td>\n      <td>0LP</td>\n      <td>19</td>\n      <td>8</td>\n      <td>144.5</td>\n      <td>18,891</td>\n      <td>12,116</td>\n    </tr>\n    <tr>\n      <th>5</th>\n      <td>Kha'Zix</td>\n      <td>3W 1L</td>\n      <td>75%</td>\n      <td>4.15</td>\n      <td>12.8/5.0/8.0</td>\n      <td>0LP</td>\n      <td>19</td>\n      <td>8</td>\n      <td>150</td>\n      <td>26,112</td>\n      <td>13,646</td>\n    </tr>\n    <tr>\n      <th>6</th>\n      <td>Senna</td>\n      <td>3W 1L</td>\n      <td>75%</td>\n      <td>2.88</td>\n      <td>6.3/6.3/11.8</td>\n      <td>0LP</td>\n      <td>10</td>\n      <td>9</td>\n      <td>31.3</td>\n      <td>18,022</td>\n      <td>11,159</td>\n    </tr>\n    <tr>\n      <th>7</th>\n      <td>Kindred</td>\n      <td>3W 0L</td>\n      <td>100%</td>\n      <td>6.33</td>\n      <td>4.0/2.0/8.7</td>\n      <td>0LP</td>\n      <td>7</td>\n      <td>5</td>\n      <td>161.7</td>\n      <td>15,077</td>\n      <td>9,931</td>\n    </tr>\n    <tr>\n      <th>8</th>\n      <td>Lillia</td>\n      <td>2W 1L</td>\n      <td>67%</td>\n      <td>3.20</td>\n      <td>5.7/3.3/5.0</td>\n      <td>0LP</td>\n      <td>7</td>\n      <td>6</td>\n      <td>144</td>\n      <td>14,462</td>\n      <td>10,022</td>\n    </tr>\n    <tr>\n      <th>9</th>\n      <td>Rakan</td>\n      <td>1W 2L</td>\n      <td>33%</td>\n      <td>5.75</td>\n      <td>3.0/4.0/20.0</td>\n      <td>0LP</td>\n      <td>4</td>\n      <td>5</td>\n      <td>38</td>\n      <td>10,776</td>\n      <td>9,169</td>\n    </tr>\n    <tr>\n      <th>10</th>\n      <td>Lee Sin</td>\n      <td>1W 1L</td>\n      <td>50%</td>\n      <td>3.00</td>\n      <td>7.5/5.0/7.5</td>\n      <td>0LP</td>\n      <td>15</td>\n      <td>7</td>\n      <td>123</td>\n      <td>19,218</td>\n      <td>10,797</td>\n    </tr>\n    <tr>\n      <th>11</th>\n      <td>Maokai</td>\n      <td>2W 0L</td>\n      <td>100%</td>\n      <td>4.83</td>\n      <td>5.5/3.0/9.0</td>\n      <td>0LP</td>\n      <td>9</td>\n      <td>4</td>\n      <td>144.5</td>\n      <td>17,061</td>\n      <td>10,676</td>\n    </tr>\n    <tr>\n      <th>12</th>\n      <td>Nautilus</td>\n      <td>0W 2L</td>\n      <td>0%</td>\n      <td>1.47</td>\n      <td>1.5/7.5/9.5</td>\n      <td>0LP</td>\n      <td>2</td>\n      <td>9</td>\n      <td>38.5</td>\n      <td>8,501</td>\n      <td>7,579</td>\n    </tr>\n    <tr>\n      <th>13</th>\n      <td>Taric</td>\n      <td>0W 2L</td>\n      <td>0%</td>\n      <td>3.73</td>\n      <td>2.5/5.5/18.0</td>\n      <td>0LP</td>\n      <td>3</td>\n      <td>6</td>\n      <td>39</td>\n      <td>8,060</td>\n      <td>8,983</td>\n    </tr>\n    <tr>\n      <th>14</th>\n      <td>Xin Zhao</td>\n      <td>1W 1L</td>\n      <td>50%</td>\n      <td>2.55</td>\n      <td>8.5/5.5/5.5</td>\n      <td>0LP</td>\n      <td>12</td>\n      <td>6</td>\n      <td>187</td>\n      <td>29,099</td>\n      <td>12,974</td>\n    </tr>\n    <tr>\n      <th>15</th>\n      <td>Zac</td>\n      <td>1W 1L</td>\n      <td>50%</td>\n      <td>4.60</td>\n      <td>6.0/2.5/5.5</td>\n      <td>0LP</td>\n      <td>7</td>\n      <td>5</td>\n      <td>106.5</td>\n      <td>7,493</td>\n      <td>7,786</td>\n    </tr>\n    <tr>\n      <th>16</th>\n      <td>Ashe</td>\n      <td>0W 1L</td>\n      <td>0%</td>\n      <td>3.83</td>\n      <td>13.0/6.0/10.0</td>\n      <td>0LP</td>\n      <td>13</td>\n      <td>6</td>\n      <td>317</td>\n      <td>38,330</td>\n      <td>19,521</td>\n    </tr>\n    <tr>\n      <th>17</th>\n      <td>Bard</td>\n      <td>0W 1L</td>\n      <td>0%</td>\n      <td>2.57</td>\n      <td>1.0/7.0/17.0</td>\n      <td>0LP</td>\n      <td>1</td>\n      <td>7</td>\n      <td>23</td>\n      <td>13,075</td>\n      <td>8,738</td>\n    </tr>\n    <tr>\n      <th>18</th>\n      <td>Gnar</td>\n      <td>0W 1L</td>\n      <td>0%</td>\n      <td>1.40</td>\n      <td>9.0/10.0/5.0</td>\n      <td>0LP</td>\n      <td>9</td>\n      <td>10</td>\n      <td>183</td>\n      <td>30,820</td>\n      <td>13,124</td>\n    </tr>\n    <tr>\n      <th>19</th>\n      <td>Graves</td>\n      <td>1W 0L</td>\n      <td>100%</td>\n      <td>Perfect</td>\n      <td>3.0/0.0/1.0</td>\n      <td>0LP</td>\n      <td>3</td>\n      <td>0</td>\n      <td>100</td>\n      <td>4,665</td>\n      <td>6,070</td>\n    </tr>\n    <tr>\n      <th>20</th>\n      <td>Kayn</td>\n      <td>0W 1L</td>\n      <td>0%</td>\n      <td>0.78</td>\n      <td>4.0/9.0/3.0</td>\n      <td>0LP</td>\n      <td>4</td>\n      <td>9</td>\n      <td>189</td>\n      <td>10,538</td>\n      <td>11,621</td>\n    </tr>\n    <tr>\n      <th>21</th>\n      <td>Malzahar</td>\n      <td>1W 0L</td>\n      <td>100%</td>\n      <td>5.50</td>\n      <td>6.0/2.0/5.0</td>\n      <td>0LP</td>\n      <td>6</td>\n      <td>2</td>\n      <td>176</td>\n      <td>12,955</td>\n      <td>9,822</td>\n    </tr>\n    <tr>\n      <th>22</th>\n      <td>Master Yi</td>\n      <td>0W 1L</td>\n      <td>0%</td>\n      <td>2.71</td>\n      <td>11.0/7.0/8.0</td>\n      <td>0LP</td>\n      <td>11</td>\n      <td>7</td>\n      <td>177</td>\n      <td>27,162</td>\n      <td>13,142</td>\n    </tr>\n    <tr>\n      <th>23</th>\n      <td>Miss Fortune</td>\n      <td>1W 0L</td>\n      <td>100%</td>\n      <td>2.50</td>\n      <td>9.0/6.0/6.0</td>\n      <td>0LP</td>\n      <td>9</td>\n      <td>6</td>\n      <td>225</td>\n      <td>23,453</td>\n      <td>14,022</td>\n    </tr>\n    <tr>\n      <th>24</th>\n      <td>Neeko</td>\n      <td>1W 0L</td>\n      <td>100%</td>\n      <td>2.75</td>\n      <td>4.0/8.0/18.0</td>\n      <td>0LP</td>\n      <td>4</td>\n      <td>8</td>\n      <td>32</td>\n      <td>24,812</td>\n      <td>9,025</td>\n    </tr>\n    <tr>\n      <th>25</th>\n      <td>Nocturne</td>\n      <td>1W 0L</td>\n      <td>100%</td>\n      <td>7.00</td>\n      <td>12.0/3.0/9.0</td>\n      <td>0LP</td>\n      <td>12</td>\n      <td>3</td>\n      <td>191</td>\n      <td>24,443</td>\n      <td>14,367</td>\n    </tr>\n    <tr>\n      <th>26</th>\n      <td>Nunu &amp; Willump</td>\n      <td>0W 1L</td>\n      <td>0%</td>\n      <td>1.70</td>\n      <td>13.0/10.0/4.0</td>\n      <td>0LP</td>\n      <td>13</td>\n      <td>10</td>\n      <td>123</td>\n      <td>19,867</td>\n      <td>12,863</td>\n    </tr>\n    <tr>\n      <th>27</th>\n      <td>Pyke</td>\n      <td>0W 1L</td>\n      <td>0%</td>\n      <td>3.20</td>\n      <td>7.0/5.0/9.0</td>\n      <td>0LP</td>\n      <td>7</td>\n      <td>5</td>\n      <td>38</td>\n      <td>9,889</td>\n      <td>8,082</td>\n    </tr>\n    <tr>\n      <th>28</th>\n      <td>Rengar</td>\n      <td>0W 1L</td>\n      <td>0%</td>\n      <td>2.60</td>\n      <td>9.0/5.0/4.0</td>\n      <td>0LP</td>\n      <td>9</td>\n      <td>5</td>\n      <td>165</td>\n      <td>18,093</td>\n      <td>13,059</td>\n    </tr>\n    <tr>\n      <th>29</th>\n      <td>Shyvana</td>\n      <td>0W 1L</td>\n      <td>0%</td>\n      <td>5.50</td>\n      <td>5.0/4.0/17.0</td>\n      <td>0LP</td>\n      <td>5</td>\n      <td>4</td>\n      <td>318</td>\n      <td>31,711</td>\n      <td>18,582</td>\n    </tr>\n    <tr>\n      <th>30</th>\n      <td>Sion</td>\n      <td>1W 0L</td>\n      <td>100%</td>\n      <td>6.50</td>\n      <td>5.0/2.0/8.0</td>\n      <td>0LP</td>\n      <td>5</td>\n      <td>2</td>\n      <td>142</td>\n      <td>9,539</td>\n      <td>10,730</td>\n    </tr>\n    <tr>\n      <th>31</th>\n      <td>Tristana</td>\n      <td>1W 0L</td>\n      <td>100%</td>\n      <td>5.60</td>\n      <td>17.0/5.0/11.0</td>\n      <td>0LP</td>\n      <td>17</td>\n      <td>5</td>\n      <td>181</td>\n      <td>26,458</td>\n      <td>14,834</td>\n    </tr>\n    <tr>\n      <th>32</th>\n      <td>Trundle</td>\n      <td>1W 0L</td>\n      <td>100%</td>\n      <td>3.38</td>\n      <td>8.0/8.0/19.0</td>\n      <td>0LP</td>\n      <td>8</td>\n      <td>8</td>\n      <td>244</td>\n      <td>24,731</td>\n      <td>17,645</td>\n    </tr>\n    <tr>\n      <th>33</th>\n      <td>Vayne</td>\n      <td>0W 1L</td>\n      <td>0%</td>\n      <td>1.00</td>\n      <td>2.0/2.0/0.0</td>\n      <td>0LP</td>\n      <td>2</td>\n      <td>2</td>\n      <td>90</td>\n      <td>3,485</td>\n      <td>4,550</td>\n    </tr>\n    <tr>\n      <th>34</th>\n      <td>Viego</td>\n      <td>1W 0L</td>\n      <td>100%</td>\n      <td>1.60</td>\n      <td>3.0/5.0/5.0</td>\n      <td>0LP</td>\n      <td>3</td>\n      <td>5</td>\n      <td>216</td>\n      <td>14,226</td>\n      <td>12,883</td>\n    </tr>\n    <tr>\n      <th>35</th>\n      <td>Viktor</td>\n      <td>1W 0L</td>\n      <td>100%</td>\n      <td>1.25</td>\n      <td>4.0/8.0/6.0</td>\n      <td>0LP</td>\n      <td>4</td>\n      <td>8</td>\n      <td>132</td>\n      <td>15,909</td>\n      <td>9,956</td>\n    </tr>\n    <tr>\n      <th>36</th>\n      <td>Xayah</td>\n      <td>0W 1L</td>\n      <td>0%</td>\n      <td>0.86</td>\n      <td>3.0/7.0/3.0</td>\n      <td>0LP</td>\n      <td>3</td>\n      <td>7</td>\n      <td>294</td>\n      <td>24,410</td>\n      <td>13,277</td>\n    </tr>\n  </tbody>\n</table>\n</div>"
     },
     "execution_count": 18,
     "metadata": {},
     "output_type": "execute_result"
    }
   ],
   "source": [
    "df_individual.head(200)"
   ],
   "metadata": {
    "collapsed": false,
    "ExecuteTime": {
     "end_time": "2023-09-12T08:45:59.159522700Z",
     "start_time": "2023-09-12T08:45:59.145923600Z"
    }
   },
   "id": "34be29fd361efd6"
  },
  {
   "cell_type": "code",
   "execution_count": 19,
   "outputs": [],
   "source": [],
   "metadata": {
    "collapsed": false,
    "ExecuteTime": {
     "end_time": "2023-09-12T08:54:45.839770200Z",
     "start_time": "2023-09-12T08:54:45.834597300Z"
    }
   },
   "id": "a26d50552b5f89e4"
  },
  {
   "cell_type": "code",
   "execution_count": 2,
   "outputs": [
    {
     "ename": "NameError",
     "evalue": "name 'df' is not defined",
     "output_type": "error",
     "traceback": [
      "\u001B[1;31m---------------------------------------------------------------------------\u001B[0m",
      "\u001B[1;31mNameError\u001B[0m                                 Traceback (most recent call last)",
      "Cell \u001B[1;32mIn[2], line 1\u001B[0m\n\u001B[1;32m----> 1\u001B[0m \u001B[43mdf\u001B[49m\n",
      "\u001B[1;31mNameError\u001B[0m: name 'df' is not defined"
     ]
    }
   ],
   "source": [],
   "metadata": {
    "collapsed": false,
    "ExecuteTime": {
     "end_time": "2023-09-12T09:46:34.621991500Z",
     "start_time": "2023-09-12T09:46:34.128518900Z"
    }
   },
   "id": "667c7868637826ee"
  },
  {
   "cell_type": "code",
   "execution_count": null,
   "outputs": [],
   "source": [],
   "metadata": {
    "collapsed": false
   },
   "id": "9d907d2deb73430e"
  }
 ],
 "metadata": {
  "kernelspec": {
   "display_name": "Python 3",
   "language": "python",
   "name": "python3"
  },
  "language_info": {
   "codemirror_mode": {
    "name": "ipython",
    "version": 2
   },
   "file_extension": ".py",
   "mimetype": "text/x-python",
   "name": "python",
   "nbconvert_exporter": "python",
   "pygments_lexer": "ipython2",
   "version": "2.7.6"
  }
 },
 "nbformat": 4,
 "nbformat_minor": 5
}
