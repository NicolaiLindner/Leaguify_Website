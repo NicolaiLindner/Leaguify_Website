{
 "cells": [
  {
   "cell_type": "code",
   "execution_count": 32,
   "outputs": [
    {
     "ename": "ModuleNotFoundError",
     "evalue": "No module named 'blitz'",
     "output_type": "error",
     "traceback": [
      "\u001B[1;31m---------------------------------------------------------------------------\u001B[0m",
      "\u001B[1;31mModuleNotFoundError\u001B[0m                       Traceback (most recent call last)",
      "Cell \u001B[1;32mIn[32], line 30\u001B[0m\n\u001B[0;32m     26\u001B[0m \u001B[38;5;28;01mimport\u001B[39;00m \u001B[38;5;21;01mtorch\u001B[39;00m\u001B[38;5;21;01m.\u001B[39;00m\u001B[38;5;21;01moptim\u001B[39;00m \u001B[38;5;28;01mas\u001B[39;00m \u001B[38;5;21;01moptim\u001B[39;00m\n\u001B[0;32m     28\u001B[0m \u001B[38;5;28;01mimport\u001B[39;00m \u001B[38;5;21;01mtorchbnn\u001B[39;00m \u001B[38;5;28;01mas\u001B[39;00m \u001B[38;5;21;01mbnn\u001B[39;00m\n\u001B[1;32m---> 30\u001B[0m \u001B[38;5;28;01mfrom\u001B[39;00m \u001B[38;5;21;01mblitz\u001B[39;00m\u001B[38;5;21;01m.\u001B[39;00m\u001B[38;5;21;01mmodules\u001B[39;00m \u001B[38;5;28;01mimport\u001B[39;00m BayesianLinear\n\u001B[0;32m     31\u001B[0m \u001B[38;5;28;01mfrom\u001B[39;00m \u001B[38;5;21;01mblitz\u001B[39;00m\u001B[38;5;21;01m.\u001B[39;00m\u001B[38;5;21;01mlosses\u001B[39;00m \u001B[38;5;28;01mimport\u001B[39;00m kl_divergence_from_nn\n",
      "\u001B[1;31mModuleNotFoundError\u001B[0m: No module named 'blitz'"
     ]
    }
   ],
   "source": [
    "import os\n",
    "from dotenv import load_dotenv\n",
    "import pandas as pd\n",
    "import matplotlib.pyplot as plt\n",
    "import seaborn as sns\n",
    "from sklearn.metrics import confusion_matrix\n",
    "\n",
    "\n",
    "#Scraping\n",
    "from selenium import webdriver\n",
    "from selenium.webdriver.chrome.service import Service\n",
    "from selenium.webdriver.common.by import By\n",
    "from selenium.webdriver.common.keys import Keys\n",
    "from selenium.webdriver.chrome.options import Options\n",
    "from selenium.webdriver.support.ui import WebDriverWait\n",
    "from selenium.webdriver.support import expected_conditions as EC\n",
    "import csv\n",
    "import time\n",
    "\n",
    "#BNN\n",
    "import numpy as np\n",
    "from sklearn import datasets\n",
    "\n",
    "import torch\n",
    "import torch.nn as nn\n",
    "import torch.optim as optim\n",
    "\n",
    "import torchbnn as bnn"
   ],
   "metadata": {
    "collapsed": false,
    "ExecuteTime": {
     "end_time": "2023-09-12T06:54:44.982740500Z",
     "start_time": "2023-09-12T06:54:44.931543Z"
    }
   },
   "id": "9cbce72fe190f372"
  },
  {
   "cell_type": "code",
   "execution_count": 21,
   "outputs": [],
   "source": [
    "# Load .env file\n",
    "load_dotenv('../.env.local')  # Adjust the relative path according to your directory structure\n",
    "\n",
    "# Get the project path from environment variables\n",
    "project_path = os.getenv('MY_PROJECT_PATH')\n",
    "\n",
    "# Read CSV into DataFrame\n",
    "df = pd.read_csv(project_path)"
   ],
   "metadata": {
    "collapsed": false,
    "ExecuteTime": {
     "end_time": "2023-09-12T06:40:39.607186800Z",
     "start_time": "2023-09-12T06:40:35.223843200Z"
    }
   },
   "id": "7a6a75a3ad49611f"
  },
  {
   "cell_type": "code",
   "execution_count": 26,
   "outputs": [
    {
     "data": {
      "text/plain": "   Unnamed: 0  Rank Champion Name Tier  Win rate  Pick Rate  Ban Rate  \\\n0           0     1         Swain    S     53.87       12.0       1.7   \n1           1     1         Swain    S     53.87       12.0       1.7   \n2           2     1         Swain    S     53.87       12.0       1.7   \n3           3     1         Swain    S     53.87       12.0       1.7   \n4           4     1         Swain    S     53.87       12.0       1.7   \n\n   Matches  gameDuration  allInPings  ...  turretTakedowns_y  \\\n0    19216          1711           0  ...                  7   \n1    19216          1987           0  ...                  1   \n2    19216          1495           0  ...                  1   \n3    19216          1528           1  ...                  1   \n4    19216          1155           0  ...                  0   \n\n   turretsTakenWithRiftHerald  twentyMinionsIn3SecondsCount  \\\n0                           0                             4   \n1                           0                             9   \n2                           0                             8   \n3                           5                             6   \n4                           0                             1   \n\n   twoWardsOneSweeperCount  unseenRecalls  visionScoreAdvantageLaneOpponent  \\\n0                        0              0                          0.731238   \n1                        0              0                         -0.407494   \n2                        0              0                         -0.782050   \n3                        0              0                         -0.055465   \n4                        0              0                         -0.218048   \n\n   visionScorePerMinute  wardTakedowns wardTakedownsBefore20M  wardsGuarded  \n0              1.166228              4                      2             1  \n1              0.594141              1                      1             0  \n2              0.388326              1                      0             0  \n3              0.637202              4                      3             0  \n4              1.941728              1                      1             0  \n\n[5 rows x 254 columns]",
      "text/html": "<div>\n<style scoped>\n    .dataframe tbody tr th:only-of-type {\n        vertical-align: middle;\n    }\n\n    .dataframe tbody tr th {\n        vertical-align: top;\n    }\n\n    .dataframe thead th {\n        text-align: right;\n    }\n</style>\n<table border=\"1\" class=\"dataframe\">\n  <thead>\n    <tr style=\"text-align: right;\">\n      <th></th>\n      <th>Unnamed: 0</th>\n      <th>Rank</th>\n      <th>Champion Name</th>\n      <th>Tier</th>\n      <th>Win rate</th>\n      <th>Pick Rate</th>\n      <th>Ban Rate</th>\n      <th>Matches</th>\n      <th>gameDuration</th>\n      <th>allInPings</th>\n      <th>...</th>\n      <th>turretTakedowns_y</th>\n      <th>turretsTakenWithRiftHerald</th>\n      <th>twentyMinionsIn3SecondsCount</th>\n      <th>twoWardsOneSweeperCount</th>\n      <th>unseenRecalls</th>\n      <th>visionScoreAdvantageLaneOpponent</th>\n      <th>visionScorePerMinute</th>\n      <th>wardTakedowns</th>\n      <th>wardTakedownsBefore20M</th>\n      <th>wardsGuarded</th>\n    </tr>\n  </thead>\n  <tbody>\n    <tr>\n      <th>0</th>\n      <td>0</td>\n      <td>1</td>\n      <td>Swain</td>\n      <td>S</td>\n      <td>53.87</td>\n      <td>12.0</td>\n      <td>1.7</td>\n      <td>19216</td>\n      <td>1711</td>\n      <td>0</td>\n      <td>...</td>\n      <td>7</td>\n      <td>0</td>\n      <td>4</td>\n      <td>0</td>\n      <td>0</td>\n      <td>0.731238</td>\n      <td>1.166228</td>\n      <td>4</td>\n      <td>2</td>\n      <td>1</td>\n    </tr>\n    <tr>\n      <th>1</th>\n      <td>1</td>\n      <td>1</td>\n      <td>Swain</td>\n      <td>S</td>\n      <td>53.87</td>\n      <td>12.0</td>\n      <td>1.7</td>\n      <td>19216</td>\n      <td>1987</td>\n      <td>0</td>\n      <td>...</td>\n      <td>1</td>\n      <td>0</td>\n      <td>9</td>\n      <td>0</td>\n      <td>0</td>\n      <td>-0.407494</td>\n      <td>0.594141</td>\n      <td>1</td>\n      <td>1</td>\n      <td>0</td>\n    </tr>\n    <tr>\n      <th>2</th>\n      <td>2</td>\n      <td>1</td>\n      <td>Swain</td>\n      <td>S</td>\n      <td>53.87</td>\n      <td>12.0</td>\n      <td>1.7</td>\n      <td>19216</td>\n      <td>1495</td>\n      <td>0</td>\n      <td>...</td>\n      <td>1</td>\n      <td>0</td>\n      <td>8</td>\n      <td>0</td>\n      <td>0</td>\n      <td>-0.782050</td>\n      <td>0.388326</td>\n      <td>1</td>\n      <td>0</td>\n      <td>0</td>\n    </tr>\n    <tr>\n      <th>3</th>\n      <td>3</td>\n      <td>1</td>\n      <td>Swain</td>\n      <td>S</td>\n      <td>53.87</td>\n      <td>12.0</td>\n      <td>1.7</td>\n      <td>19216</td>\n      <td>1528</td>\n      <td>1</td>\n      <td>...</td>\n      <td>1</td>\n      <td>5</td>\n      <td>6</td>\n      <td>0</td>\n      <td>0</td>\n      <td>-0.055465</td>\n      <td>0.637202</td>\n      <td>4</td>\n      <td>3</td>\n      <td>0</td>\n    </tr>\n    <tr>\n      <th>4</th>\n      <td>4</td>\n      <td>1</td>\n      <td>Swain</td>\n      <td>S</td>\n      <td>53.87</td>\n      <td>12.0</td>\n      <td>1.7</td>\n      <td>19216</td>\n      <td>1155</td>\n      <td>0</td>\n      <td>...</td>\n      <td>0</td>\n      <td>0</td>\n      <td>1</td>\n      <td>0</td>\n      <td>0</td>\n      <td>-0.218048</td>\n      <td>1.941728</td>\n      <td>1</td>\n      <td>1</td>\n      <td>0</td>\n    </tr>\n  </tbody>\n</table>\n<p>5 rows × 254 columns</p>\n</div>"
     },
     "execution_count": 26,
     "metadata": {},
     "output_type": "execute_result"
    }
   ],
   "source": [
    "# Display the DataFrame\n",
    "df.head()"
   ],
   "metadata": {
    "collapsed": false,
    "ExecuteTime": {
     "end_time": "2023-09-12T06:41:04.394845Z",
     "start_time": "2023-09-12T06:41:04.349045200Z"
    }
   },
   "id": "d8ef9ae87ecedd2"
  },
  {
   "cell_type": "raw",
   "source": [
    "# Test for u.gg champion info scraper per summoner"
   ],
   "metadata": {
    "collapsed": false
   },
   "id": "1184147ef0e11f2d"
  },
  {
   "cell_type": "code",
   "execution_count": 23,
   "outputs": [
    {
     "data": {
      "text/plain": "  Rank     Name       WinRate                     KDA Win rate Pick Rate  \\\n0    1      Vex  100% / 7W 0L   3.19\\n6.0 / 4.4 / 8.1                  7   \n1    2   Xerath   33% / 1W 2L  3.57\\n5.0 / 4.7 / 11.7                 10   \n2    3     Lulu  100% / 2W 0L  8.80\\n3.0 / 2.5 / 19.0                  3   \n3    4      Lux   50% / 1W 1L   5.17\\n8.0 / 3.0 / 7.5                  4   \n4    5  Morgana   50% / 1W 1L   4.20\\n3.0 / 2.5 / 7.5                  5   \n\n  Ban Rate     CS  \n0       11  178.4  \n1        8  219.7  \n2        5   16.5  \n3        8  239.5  \n4        3     14  ",
      "text/html": "<div>\n<style scoped>\n    .dataframe tbody tr th:only-of-type {\n        vertical-align: middle;\n    }\n\n    .dataframe tbody tr th {\n        vertical-align: top;\n    }\n\n    .dataframe thead th {\n        text-align: right;\n    }\n</style>\n<table border=\"1\" class=\"dataframe\">\n  <thead>\n    <tr style=\"text-align: right;\">\n      <th></th>\n      <th>Rank</th>\n      <th>Name</th>\n      <th>WinRate</th>\n      <th>KDA</th>\n      <th>Win rate</th>\n      <th>Pick Rate</th>\n      <th>Ban Rate</th>\n      <th>CS</th>\n    </tr>\n  </thead>\n  <tbody>\n    <tr>\n      <th>0</th>\n      <td>1</td>\n      <td>Vex</td>\n      <td>100% / 7W 0L</td>\n      <td>3.19\\n6.0 / 4.4 / 8.1</td>\n      <td></td>\n      <td>7</td>\n      <td>11</td>\n      <td>178.4</td>\n    </tr>\n    <tr>\n      <th>1</th>\n      <td>2</td>\n      <td>Xerath</td>\n      <td>33% / 1W 2L</td>\n      <td>3.57\\n5.0 / 4.7 / 11.7</td>\n      <td></td>\n      <td>10</td>\n      <td>8</td>\n      <td>219.7</td>\n    </tr>\n    <tr>\n      <th>2</th>\n      <td>3</td>\n      <td>Lulu</td>\n      <td>100% / 2W 0L</td>\n      <td>8.80\\n3.0 / 2.5 / 19.0</td>\n      <td></td>\n      <td>3</td>\n      <td>5</td>\n      <td>16.5</td>\n    </tr>\n    <tr>\n      <th>3</th>\n      <td>4</td>\n      <td>Lux</td>\n      <td>50% / 1W 1L</td>\n      <td>5.17\\n8.0 / 3.0 / 7.5</td>\n      <td></td>\n      <td>4</td>\n      <td>8</td>\n      <td>239.5</td>\n    </tr>\n    <tr>\n      <th>4</th>\n      <td>5</td>\n      <td>Morgana</td>\n      <td>50% / 1W 1L</td>\n      <td>4.20\\n3.0 / 2.5 / 7.5</td>\n      <td></td>\n      <td>5</td>\n      <td>3</td>\n      <td>14</td>\n    </tr>\n  </tbody>\n</table>\n</div>"
     },
     "execution_count": 23,
     "metadata": {},
     "output_type": "execute_result"
    }
   ],
   "source": [
    "url = \"https://u.gg/lol/profile/euw1/thehighground/champion-stats\"\n",
    "\n",
    "options = Options()\n",
    "options.add_argument(\"--headless\")\n",
    "options.binary_location = \"C:\\\\Users\\\\nicol\\\\Downloads\\\\chrome-win64\\\\chrome-win64\\\\chrome.exe\"  # Path to your Chrome executable\n",
    "\n",
    "service = Service(\"C:\\\\Users\\\\nicol\\\\Downloads\\\\chromedriver-win64\\\\chromedriver-win64\\\\chromedriver.exe\")\n",
    "driver = webdriver.Chrome(service=service, options=options)\n",
    "\n",
    "driver.get(url)\n",
    "\n",
    "wait = WebDriverWait(driver, 10)\n",
    "wait.until(EC.presence_of_all_elements_located((By.CSS_SELECTOR, \"div.rt-tr-group\")))\n",
    "\n",
    "data = []  # List to store each row of data\n",
    "\n",
    "while True:\n",
    "    # Scroll to the bottom of the page\n",
    "    driver.execute_script(\"window.scrollTo(0, document.body.scrollHeight);\")\n",
    "    time.sleep(1)\n",
    "    \n",
    "    # Scroll back to the top of the page\n",
    "    driver.execute_script(\"window.scrollTo(0, 0);\")\n",
    "    time.sleep(1)\n",
    "    \n",
    "    # Check if all rows have been loaded\n",
    "    rows = driver.find_elements(By.CSS_SELECTOR, \"div.rt-tr-group\")\n",
    "    if not rows or len(data) == len(rows):  # Adjusted condition to check data length instead of champions length\n",
    "        break\n",
    "    \n",
    "    # Otherwise, continue to extract the data\n",
    "    for i in range(len(data), len(rows)):\n",
    "        row = rows[i]\n",
    "        try:\n",
    "            name = row.find_element(By.CSS_SELECTOR, \"div.rt-td:nth-of-type(2)\").text.strip()\n",
    "            rank = row.find_element(By.CSS_SELECTOR, \"div.rt-td:nth-of-type(1)\").text.strip()\n",
    "            champion = row.find_element(By.CSS_SELECTOR, \"div.rt-td:nth-of-type(3)\").get_attribute(\"textContent\")\n",
    "            winrate_stats = row.find_element(By.CSS_SELECTOR, \"div.rt-td:nth-of-type(4)\").text.strip()\n",
    "            win_rate = row.find_element(By.CSS_SELECTOR, \"div.rt-td:nth-of-type(5)\").text.strip()\n",
    "            pick_rate = row.find_element(By.CSS_SELECTOR, \"div.rt-td:nth-of-type(7)\").text.strip()\n",
    "            ban_rate = row.find_element(By.CSS_SELECTOR, \"div.rt-td:nth-of-type(6)\").text.strip()\n",
    "            matches = row.find_element(By.CSS_SELECTOR, \"div.rt-td:nth-of-type(8)\").text.strip()\n",
    "    \n",
    "            # Append the extracted data to the data list\n",
    "            data.append([rank, name, champion, winrate_stats, win_rate, pick_rate,ban_rate, matches])\n",
    "        \n",
    "        except Exception as e:\n",
    "            print(f\"Error in row {i}: {e}\")\n",
    "\n",
    "\n",
    "# Convert the data list into a pandas DataFrame\n",
    "columns = ['Rank', 'Name', 'WinRate', 'KDA', 'Win rate', 'Pick Rate', 'Ban Rate', 'CS']\n",
    "df_scraped = pd.DataFrame(data, columns=columns)\n",
    "\n",
    "driver.quit()\n",
    "\n",
    "df_scraped.head()"
   ],
   "metadata": {
    "collapsed": false,
    "ExecuteTime": {
     "end_time": "2023-09-12T06:40:53.638292600Z",
     "start_time": "2023-09-12T06:40:39.619497200Z"
    }
   },
   "id": "b3152e5b29ea1a0c"
  },
  {
   "cell_type": "code",
   "execution_count": 24,
   "outputs": [
    {
     "data": {
      "text/plain": "  Champion WinsLoses Winrate   KDA   LP MaxKills MaxDeaths     CS Damage Gold\n0      Vex     7W 0L    100%  3.19  N/A       11         7  178.4    N/A  N/A\n1   Xerath     1W 2L     33%  3.57  N/A        8        10  219.7    N/A  N/A\n2     Lulu     2W 0L    100%  8.80  N/A        5         3   16.5    N/A  N/A\n3      Lux     1W 1L     50%  5.17  N/A        8         4  239.5    N/A  N/A\n4  Morgana     1W 1L     50%  4.20  N/A        3         5     14    N/A  N/A",
      "text/html": "<div>\n<style scoped>\n    .dataframe tbody tr th:only-of-type {\n        vertical-align: middle;\n    }\n\n    .dataframe tbody tr th {\n        vertical-align: top;\n    }\n\n    .dataframe thead th {\n        text-align: right;\n    }\n</style>\n<table border=\"1\" class=\"dataframe\">\n  <thead>\n    <tr style=\"text-align: right;\">\n      <th></th>\n      <th>Champion</th>\n      <th>WinsLoses</th>\n      <th>Winrate</th>\n      <th>KDA</th>\n      <th>LP</th>\n      <th>MaxKills</th>\n      <th>MaxDeaths</th>\n      <th>CS</th>\n      <th>Damage</th>\n      <th>Gold</th>\n    </tr>\n  </thead>\n  <tbody>\n    <tr>\n      <th>0</th>\n      <td>Vex</td>\n      <td>7W 0L</td>\n      <td>100%</td>\n      <td>3.19</td>\n      <td>N/A</td>\n      <td>11</td>\n      <td>7</td>\n      <td>178.4</td>\n      <td>N/A</td>\n      <td>N/A</td>\n    </tr>\n    <tr>\n      <th>1</th>\n      <td>Xerath</td>\n      <td>1W 2L</td>\n      <td>33%</td>\n      <td>3.57</td>\n      <td>N/A</td>\n      <td>8</td>\n      <td>10</td>\n      <td>219.7</td>\n      <td>N/A</td>\n      <td>N/A</td>\n    </tr>\n    <tr>\n      <th>2</th>\n      <td>Lulu</td>\n      <td>2W 0L</td>\n      <td>100%</td>\n      <td>8.80</td>\n      <td>N/A</td>\n      <td>5</td>\n      <td>3</td>\n      <td>16.5</td>\n      <td>N/A</td>\n      <td>N/A</td>\n    </tr>\n    <tr>\n      <th>3</th>\n      <td>Lux</td>\n      <td>1W 1L</td>\n      <td>50%</td>\n      <td>5.17</td>\n      <td>N/A</td>\n      <td>8</td>\n      <td>4</td>\n      <td>239.5</td>\n      <td>N/A</td>\n      <td>N/A</td>\n    </tr>\n    <tr>\n      <th>4</th>\n      <td>Morgana</td>\n      <td>1W 1L</td>\n      <td>50%</td>\n      <td>4.20</td>\n      <td>N/A</td>\n      <td>3</td>\n      <td>5</td>\n      <td>14</td>\n      <td>N/A</td>\n      <td>N/A</td>\n    </tr>\n  </tbody>\n</table>\n</div>"
     },
     "execution_count": 24,
     "metadata": {},
     "output_type": "execute_result"
    }
   ],
   "source": [
    "from selenium import webdriver\n",
    "from selenium.webdriver.chrome.service import Service\n",
    "from selenium.webdriver.common.by import By\n",
    "from selenium.webdriver.support.ui import WebDriverWait\n",
    "from selenium.webdriver.support import expected_conditions as EC\n",
    "from selenium.webdriver.chrome.options import Options\n",
    "import pandas as pd\n",
    "import time\n",
    "\n",
    "url = \"https://u.gg/lol/profile/euw1/thehighground/champion-stats\"\n",
    "\n",
    "options = Options()\n",
    "options.add_argument(\"--headless\")\n",
    "options.binary_location = \"C:\\\\Users\\\\nicol\\\\Downloads\\\\chrome-win64\\\\chrome-win64\\\\chrome.exe\"\n",
    "\n",
    "service = Service(\"C:\\\\Users\\\\nicol\\\\Downloads\\\\chromedriver-win64\\\\chromedriver-win64\\\\chromedriver.exe\")\n",
    "driver = webdriver.Chrome(service=service, options=options)\n",
    "\n",
    "driver.get(url)\n",
    "\n",
    "wait = WebDriverWait(driver, 10)\n",
    "wait.until(EC.presence_of_all_elements_located((By.CSS_SELECTOR, \"div.rt-tr-group\")))\n",
    "\n",
    "# ... (your existing imports and setup code)\n",
    "\n",
    "# Initialize list to store each row of data\n",
    "data = []\n",
    "\n",
    "# Get all the rows\n",
    "rows = driver.find_elements(By.CSS_SELECTOR, \"div.rt-tr-group\")\n",
    "\n",
    "for i in range(1, len(rows) + 1):  # start from 1 because CSS nth-child starts from 1\n",
    "    try:\n",
    "        # Create CSS selectors based on the row number for each column\n",
    "        selectors = {\n",
    "            'Champion': f\"div.rt-tr-group:nth-child({i}) > div:nth-child(1) > div:nth-child(2) > div:nth-child(1) > span:nth-child(2)\",\n",
    "            'WinRate': f\"div.rt-tr-group:nth-child({i}) > div:nth-child(1) > div:nth-child(3) > div:nth-child(1) > span:nth-child(3)\",\n",
    "            'StrongRate': f\"div.rt-tr-group:nth-child({i}) > div:nth-child(1) > div:nth-child(3) > div:nth-child(1) > strong:nth-child(1)\",\n",
    "            'KDA': f\"div.rt-tr-group:nth-child({i}) > div:nth-child(1) > div:nth-child(4) > div:nth-child(1) > div:nth-child(1) > strong:nth-child(1)\",\n",
    "            'LP': f\"div.rt-tr-group:nth-child({i}) > div:nth-child(1) > div:nth-child(5) > span:nth-child(1)\",\n",
    "            'MaxKills': f\"div.rt-tr-group:nth-child({i}) > div:nth-child(1) > div:nth-child(6) > span:nth-child(1)\",\n",
    "            'MaxDeaths': f\"div.rt-tr-group:nth-child({i}) > div:nth-child(1) > div:nth-child(7)\",\n",
    "            'CS': f\"div.rt-tr-group:nth-child({i}) > div:nth-child(1) > div:nth-child(8) > span:nth-child(1)\",\n",
    "            'Damage': f\"div.rt-tr-group:nth-child({i}) > div:nth-child(1) > div:nth-child(9) > span:nth-child(1)\",\n",
    "            'Gold': f\"div.rt-tr-group:nth-child({i}) > div:nth-child(1) > div:nth-child(10) > span:nth-child(1)\"\n",
    "        }\n",
    "        \n",
    "        # Find the elements and extract the text\n",
    "        row_data = []\n",
    "        for key, selector in selectors.items():\n",
    "            element = driver.find_element(By.CSS_SELECTOR, selector)\n",
    "            text = element.text.strip() if element.text else 'N/A'\n",
    "            row_data.append(text)\n",
    "        \n",
    "        # Append to data list\n",
    "        data.append(row_data)\n",
    "        \n",
    "    except Exception as e:\n",
    "        print(f\"Error in row {i}: {e}\")\n",
    "\n",
    "# Convert the data to a DataFrame\n",
    "columns = ['Champion', 'WinsLoses', 'Winrate', 'KDA', 'LP', 'MaxKills', 'MaxDeaths', 'CS', 'Damage', 'Gold']\n",
    "df_individual = pd.DataFrame(data, columns=columns)\n",
    "\n",
    "# Close the driver\n",
    "driver.quit()\n",
    "\n",
    "# Display the DataFrame (you could also save it to a file)\n",
    "df_individual.head()"
   ],
   "metadata": {
    "collapsed": false,
    "ExecuteTime": {
     "end_time": "2023-09-12T06:41:04.350111800Z",
     "start_time": "2023-09-12T06:40:53.631292900Z"
    }
   },
   "id": "23831ee41d959dcc"
  },
  {
   "cell_type": "code",
   "execution_count": 24,
   "outputs": [],
   "source": [],
   "metadata": {
    "collapsed": false,
    "ExecuteTime": {
     "end_time": "2023-09-12T06:41:04.350111800Z",
     "start_time": "2023-09-12T06:41:04.340267100Z"
    }
   },
   "id": "6bc7e3ced2edcb0"
  },
  {
   "cell_type": "code",
   "execution_count": 26,
   "outputs": [],
   "source": [],
   "metadata": {
    "collapsed": false,
    "ExecuteTime": {
     "end_time": "2023-09-12T06:47:11.379343900Z",
     "start_time": "2023-09-12T06:47:11.377339800Z"
    }
   },
   "id": "73260f07da312cb3"
  },
  {
   "cell_type": "code",
   "execution_count": null,
   "outputs": [],
   "source": [
    "from sklearn import preprocessing\n",
    "from sklearn.model_selection import train_test_split\n",
    "import torch\n",
    "import torch.nn as nn\n",
    "import torch.optim as optim\n",
    "\n",
    "# Step 1: Data Preprocessing\n",
    "# Select features and target\n",
    "feature_columns = ['Tier', 'Win rate', 'Pick Rate', 'Ban Rate', 'Matches', 'gameDuration', 'championId', 'summonerLevel', 'teamId']\n",
    "target_column = 'win'\n",
    "\n",
    "# Handle categorical variables and fill NaNs\n",
    "df[feature_columns] = df[feature_columns].apply(lambda x: x.astype('category').cat.codes if x.dtype == 'object' else x)\n",
    "df[feature_columns] = df[feature_columns].fillna(df[feature_columns].mean())\n",
    "\n",
    "# Split data into training and testing sets\n",
    "X = df[feature_columns].values\n",
    "Y = df[target_column].values\n",
    "\n",
    "# Scale the features\n",
    "scaler = preprocessing.StandardScaler().fit(X)\n",
    "X_scaled = scaler.transform(X)\n",
    "\n",
    "# Convert to PyTorch tensors\n",
    "x, y = torch.from_numpy(X_scaled).float(), torch.from_numpy(Y).long()\n",
    "\n",
    "# Step 2: Define Model\n",
    "model = nn.Sequential(\n",
    "    nn.Linear(in_features=len(feature_columns), out_features=100),\n",
    "    nn.ReLU(),\n",
    "    nn.Linear(in_features=100, out_features=2)\n",
    ")\n",
    "\n",
    "ce_loss = nn.CrossEntropyLoss()\n",
    "optimizer = optim.Adam(model.parameters(), lr=0.01)\n",
    "\n",
    "# Step 3: Train Model\n",
    "for step in range(10000):\n",
    "    pre = model(x)\n",
    "    ce = ce_loss(pre, y)\n",
    "    \n",
    "    optimizer.zero_grad()\n",
    "    ce.backward()\n",
    "    optimizer.step()\n",
    "\n",
    "_, predicted = torch.max(pre.data, 1)\n",
    "total = y.size(0)\n",
    "correct = (predicted == y).sum()\n",
    "print('- Accuracy: %f %%' % (100 * float(correct) / total))\n",
    "print('- CE : %2.2f' % (ce.item()))\n",
    "\n",
    "# Step 4: Test Model\n",
    "# ... (You can use your own visualization method similar to draw_plot function)\n"
   ],
   "metadata": {
    "collapsed": false,
    "is_executing": true,
    "ExecuteTime": {
     "start_time": "2023-09-12T07:01:39.112028100Z"
    }
   },
   "id": "50b02cc0564c311f"
  },
  {
   "cell_type": "code",
   "execution_count": null,
   "outputs": [],
   "source": [
    "def plot_confusion_matrix(y_true, y_pred):\n",
    "    cm = confusion_matrix(y_true, y_pred)\n",
    "    plt.figure(figsize=(8, 6))\n",
    "    sns.set(font_scale=1.2)\n",
    "    sns.heatmap(cm, annot=True, fmt='g', cmap='Blues', cbar=False)\n",
    "    plt.xlabel('Predicted')\n",
    "    plt.ylabel('True')\n",
    "    plt.show()\n",
    "    \n",
    "plot_confusion_matrix(y.numpy(), predicted.numpy())"
   ],
   "metadata": {
    "collapsed": false,
    "is_executing": true
   },
   "id": "714a997ec00f6ef9"
  },
  {
   "cell_type": "code",
   "execution_count": 33,
   "outputs": [
    {
     "name": "stdout",
     "output_type": "stream",
     "text": [
      "- Accuracy: 50.514900 %\n",
      "- CE : 0.70, KL : 0.07\n"
     ]
    },
    {
     "data": {
      "text/plain": "<Figure size 800x600 with 1 Axes>",
      "image/png": "[encoded data removed]"
     },
     "metadata": {},
     "output_type": "display_data"
    }
   ],
   "source": [
    "model = nn.Sequential(\n",
    "    bnn.BayesLinear(prior_mu=0, prior_sigma=0.1, in_features=len(feature_columns), out_features=100),\n",
    "    nn.ReLU(),\n",
    "    bnn.BayesLinear(prior_mu=0, prior_sigma=0.1, in_features=100, out_features=2),\n",
    ")\n",
    "\n",
    "# Loss and Optimizer\n",
    "ce_loss = nn.CrossEntropyLoss()\n",
    "kl_loss = bnn.BKLLoss(reduction='mean', last_layer_only=False)\n",
    "optimizer = optim.Adam(model.parameters(), lr=0.01)\n",
    "\n",
    "# Train Model\n",
    "for step in range(3000):\n",
    "    pre = model(x)\n",
    "    ce = ce_loss(pre, y)\n",
    "    kl = kl_loss(model)\n",
    "    cost = ce + 0.1 * kl\n",
    "    \n",
    "    optimizer.zero_grad()\n",
    "    cost.backward()\n",
    "    optimizer.step()\n",
    "\n",
    "_, predicted = torch.max(pre.data, 1)\n",
    "total = y.size(0)\n",
    "correct = (predicted == y).sum()\n",
    "print('- Accuracy: %f %%' % (100 * float(correct) / total))\n",
    "print('- CE : %2.2f, KL : %2.2f' % (ce.item(), kl.item()))\n",
    "\n",
    "# Confusion Matrix Function\n",
    "def plot_confusion_matrix(y_true, y_pred):\n",
    "    cm = confusion_matrix(y_true, y_pred)\n",
    "    plt.figure(figsize=(8, 6))\n",
    "    sns.set(font_scale=1.2)\n",
    "    sns.heatmap(cm, annot=True, fmt='g', cmap='Blues', cbar=False)\n",
    "    plt.xlabel('Predicted')\n",
    "    plt.ylabel('True')\n",
    "    plt.show()\n",
    "\n",
    "# Visualization\n",
    "plot_confusion_matrix(y.numpy(), predicted.numpy())"
   ],
   "metadata": {
    "collapsed": false,
    "ExecuteTime": {
     "end_time": "2023-09-12T07:01:03.260426400Z",
     "start_time": "2023-09-12T06:56:00.627169100Z"
    }
   },
   "id": "5d881c13159e490d"
  },
  {
   "cell_type": "code",
   "execution_count": null,
   "outputs": [],
   "source": [],
   "metadata": {
    "collapsed": false
   },
   "id": "b45fe3a3879adedf"
  }
 ],
 "metadata": {
  "kernelspec": {
   "display_name": "Python 3",
   "language": "python",
   "name": "python3"
  },
  "language_info": {
   "codemirror_mode": {
    "name": "ipython",
    "version": 2
   },
   "file_extension": ".py",
   "mimetype": "text/x-python",
   "name": "python",
   "nbconvert_exporter": "python",
   "pygments_lexer": "ipython2",
   "version": "2.7.6"
  }
 },
 "nbformat": 4,
 "nbformat_minor": 5
}
